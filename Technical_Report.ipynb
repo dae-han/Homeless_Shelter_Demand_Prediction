{
 "cells": [
  {
   "cell_type": "markdown",
   "metadata": {},
   "source": [
    "# Technical Report\n",
    "### NYC Homeless Shelter Population Forecasting\n",
    "\n",
    "---\n",
    "\n",
    "### Problem Statement\n",
    "In this project, I forecasted the total number of individuals sheltered by the NYC Department of Homeless Services (DHS). I used DHS Daily Report publicly available from [NYC Open Data](https://opendata.cityofnewyork.us) to build Time Series model. I aimed to help understand homeless communities better by examining different factors that change the number of indivuals in DHS shelter and to help better prepare for those who are in need of a space at a shelter by forecasting the general demand.\n",
    "\n",
    "### Data Collection\n",
    "1. DHS Daily Report (Source: https://data.cityofnewyork.us/Social-Services/DHS-Daily-Report/k46n-sa2m)\n",
    "\n",
    "DHS Daily Report was scraped using [Socrata Open Data API (SODA)](https://dev.socrata.com/foundry/data.cityofnewyork.us/k46n-sa2m). The report includes the number of total individuals in Shelter and the breakdown of the shelter population such as the total number of children in shelter from 2013. This report is updated daily and the update is availble through the API. Although the data did not have any null values, there were some missing dates indicating the report was not made on some days. For this reason, the daily data was resampled into weekly average data for analysis.\n",
    "\n",
    "### Database (PostgreSQL)\n",
    "I built PostgreSQL database on Heroku for this project. The database was contructed for the following reasons. First, the number of rows that are returned from Socrata Open Data API is limited. By contructing a database, I can keep the rows when they are no longer available through the API. Second, as I contruct database with properly cleaned data, I do not have to repeat the data cleaning step when the dataset is used in other Jupyter notebooks or different visualization tools such as Tableau or Dash."
   ]
  },
  {
   "cell_type": "markdown",
   "metadata": {},
   "source": [
    "### Exploratory Data Analysis (EDA)\n",
    "The EDA for the project was largely divided into two parts. The first part was to examine the trend in DHS shelter demographic. The second part of EDA was to understand the trend and seasonality in the total individuals in shelter in order to perform time series analysis.\n",
    "\n",
    "**Part 1. DHS Shelter Demographic**                          \n",
    "While the ratio of children to adult and the ratio of people with and without family shows clear trend with a slight seasonality, the ratio of women and men exibits a slight trend and a strong seasonality."
   ]
  },
  {
   "cell_type": "markdown",
   "metadata": {},
   "source": [
    ">**Ratio of Children to Adults in DHS Shelter**\n",
    "\n",
    "<img src=\"Production/Assets/age.png\" width=\"500\"/>\n",
    "The ratio has been constant until 2015 and gradually decrased since then. There seems to be some seasonality. It is also noted that there are always more adult than children.\n",
    "\n",
    "---"
   ]
  },
  {
   "cell_type": "markdown",
   "metadata": {},
   "source": [
    "> **Ratio of people with family to people without family in DHS Shelter**\n",
    "\n",
    "<img src=\"Production/Assets/family.png\" width=\"500\"/>\n",
    "\n",
    "This Ratio follows similar pattern to the ratio of children and adult. This is because the children would not have been admitted into the shelter and would have been booked into different facility such as orphange if they were not with their family. Towards the end of 2014 and 2016, two picks were observed that were not observed in the ratio of children to adult plot. This indicates that there seems to have been an increase in the family with no children that needed the support from DHS. It is also noted that there are always more people with their family and people without their family.\n",
    "\n",
    "---"
   ]
  },
  {
   "cell_type": "markdown",
   "metadata": {},
   "source": [
    "> **Ratio of women to men with no family in DHS Shelter**\n",
    "\n",
    "<img src=\"Production/Assets/gender.png\" width=\"500\"/>\n",
    "\n",
    "There seems to be no apparent trend in this ratio change. However, there is a strong seasonality that matches the seasonality pattern were seen in the change in the ratio of people with family to people without family and the ratio of children to adult in DHS shelter. It is also noted that there are always more men than women in the shelter.\n",
    "\n",
    "---"
   ]
  },
  {
   "cell_type": "markdown",
   "metadata": {},
   "source": [
    "**Part 2. Total Individuals in DHS Shelter**\n",
    "<img src=\"Production/Assets/total.png\" width=\"500\"/>"
   ]
  },
  {
   "cell_type": "markdown",
   "metadata": {},
   "source": [
    "\n",
    "<img src=\"Production/Assets/seasonal.png\" width=\"500\"/>\n",
    "\n",
    "<img src=\"Production/Assets/acf_pacf.png\" width=\"400\"/>"
   ]
  },
  {
   "cell_type": "markdown",
   "metadata": {},
   "source": [
    "### Modeling"
   ]
  },
  {
   "cell_type": "markdown",
   "metadata": {},
   "source": [
    "### Data Visualization"
   ]
  },
  {
   "cell_type": "markdown",
   "metadata": {},
   "source": [
    "### Next Steps"
   ]
  }
 ],
 "metadata": {
  "kernelspec": {
   "display_name": "Python 3",
   "language": "python",
   "name": "python3"
  },
  "language_info": {
   "codemirror_mode": {
    "name": "ipython",
    "version": 3
   },
   "file_extension": ".py",
   "mimetype": "text/x-python",
   "name": "python",
   "nbconvert_exporter": "python",
   "pygments_lexer": "ipython3",
   "version": "3.6.9"
  }
 },
 "nbformat": 4,
 "nbformat_minor": 2
}
