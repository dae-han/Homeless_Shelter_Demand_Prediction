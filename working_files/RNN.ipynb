{
 "cells": [
  {
   "cell_type": "code",
   "execution_count": 40,
   "metadata": {},
   "outputs": [],
   "source": [
    "import pandas as pd\n",
    "import numpy as np\n",
    "import json\n",
    "import matplotlib.pyplot as plt\n",
    "\n",
    "from pandas.plotting import register_matplotlib_converters\n",
    "register_matplotlib_converters()\n",
    "\n",
    "from sodapy import Socrata"
   ]
  },
  {
   "cell_type": "code",
   "execution_count": 41,
   "metadata": {},
   "outputs": [],
   "source": [
    "from sklearn.preprocessing import StandardScaler\n",
    "from sklearn.model_selection import train_test_split\n",
    "from sklearn.metrics import r2_score, mean_squared_error, accuracy_score"
   ]
  },
  {
   "cell_type": "code",
   "execution_count": 42,
   "metadata": {},
   "outputs": [],
   "source": [
    "from statsmodels.tsa.statespace.sarimax import SARIMAX\n",
    "from statsmodels.tsa.arima_model import ARIMA, ARMA, AR\n",
    "from statsmodels.graphics.tsaplots import plot_acf\n",
    "from statsmodels.graphics.tsaplots import plot_pacf\n",
    "import statsmodels.api as sm\n",
    "from statsmodels.tsa.stattools import adfuller"
   ]
  },
  {
   "cell_type": "code",
   "execution_count": 43,
   "metadata": {},
   "outputs": [],
   "source": [
    "from tensorflow.keras.models import Sequential\n",
    "from tensorflow.keras.layers import Dense, Dropout, GRU\n",
    "from tensorflow.keras.optimizers import Adam\n",
    "from tensorflow.keras.preprocessing.sequence import TimeseriesGenerator\n",
    "\n",
    "import matplotlib.pyplot as plt\n",
    "%matplotlib inline"
   ]
  },
  {
   "cell_type": "code",
   "execution_count": 6,
   "metadata": {},
   "outputs": [],
   "source": [
    "creds_file = open('./creds.json', 'r')\n",
    "socrata_creds = json.loads(creds_file.read())"
   ]
  },
  {
   "cell_type": "code",
   "execution_count": 7,
   "metadata": {},
   "outputs": [],
   "source": [
    "# Unauthenticated client only works with public data sets. Note 'None'\n",
    "# in place of application token, and no username or password:\n",
    "client = Socrata(\"data.cityofnewyork.us\", socrata_creds['app_token'])\n",
    "\n",
    "# Example authenticated client (needed for non-public datasets):\n",
    "# client = Socrata(data.cityofnewyork.us,\n",
    "#                  MyAppToken,\n",
    "#                  userame=\"user@example.com\",\n",
    "#                  password=\"AFakePassword\")"
   ]
  },
  {
   "cell_type": "markdown",
   "metadata": {},
   "source": [
    "# Data\n",
    "---\n",
    "\n",
    "### DHS Daily Report\n",
    "Source: https://data.cityofnewyork.us/Social-Services/DHS-Daily-Report/k46n-sa2m\n",
    "\n",
    "This dataset includes the daily number of families and individuals residing in the Department of Homeless Services (DHS) shelter system and the daily number of families applying to the DHS shelter system."
   ]
  },
  {
   "cell_type": "code",
   "execution_count": 20,
   "metadata": {},
   "outputs": [],
   "source": [
    "# First 2000 results, returned as JSON from API / converted to Python list of\n",
    "# dictionaries by sodapy.\n",
    "results = client.get(\"k46n-sa2m\", limit = 10_000);\n",
    "\n",
    "# Convert to pandas DataFrame\n",
    "daily_df = pd.DataFrame.from_records(results);"
   ]
  },
  {
   "cell_type": "code",
   "execution_count": 9,
   "metadata": {},
   "outputs": [],
   "source": [
    "def adf(series_to_try):\n",
    "    \"\"\"\n",
    "    a wrapper around the Augmented Dickey-Fuller test to provide both results and context for the output.\n",
    "    \"\"\"\n",
    "    dftest = adfuller(series_to_try)\n",
    "    result = pd.Series(dftest[0:2], index=['Test Statistic','p-value'])\n",
    "    return result"
   ]
  },
  {
   "cell_type": "code",
   "execution_count": 10,
   "metadata": {},
   "outputs": [],
   "source": [
    "def acf_pacf(series_to_plot, n_lag):\n",
    "    \"\"\"\n",
    "    Plot ACF & PACF\n",
    "    \"\"\"\n",
    "    plot_acf(series_to_plot, lags = n_lag);\n",
    "    plt.ylabel('autocorrelation')\n",
    "    plt.xlabel('lags');\n",
    "\n",
    "    plot_pacf(series_to_plot, lags = n_lag);\n",
    "    plt.ylabel('partial autocorrelation')\n",
    "    plt.xlabel('lags');"
   ]
  },
  {
   "cell_type": "code",
   "execution_count": 11,
   "metadata": {},
   "outputs": [],
   "source": [
    "def evaluate(data_to_evaluate, residual):\n",
    "    \n",
    "    \"\"\"\n",
    "    make residual graphs and print out MSE \n",
    "    \"\"\"\n",
    "\n",
    "    plt.figure(figsize = (12,5))\n",
    "    plt.scatter(data_to_evaluate.index, residual)\n",
    "    plt.title('Residuals')\n",
    "    plt.axhline(0, color='red')\n",
    "\n",
    "    return {\"mean square error\": sum(np.square(residual)) / len(residual)}"
   ]
  },
  {
   "cell_type": "markdown",
   "metadata": {},
   "source": [
    "# Data Cleaning\n",
    "\n",
    "The type of all columns is 'object'. `date_of_census` is datetime column and rest of the columns are numerical column. Change the types appropriately."
   ]
  },
  {
   "cell_type": "code",
   "execution_count": 21,
   "metadata": {},
   "outputs": [],
   "source": [
    "daily_df['date_of_census'] = daily_df['date_of_census'].apply(lambda x: x.split('T')[0])"
   ]
  },
  {
   "cell_type": "code",
   "execution_count": 22,
   "metadata": {},
   "outputs": [],
   "source": [
    "daily_df.index = pd.to_datetime(daily_df['date_of_census'], format = \"%Y/%m/%d\")\n",
    "daily_df = daily_df.drop('date_of_census', axis = 1)"
   ]
  },
  {
   "cell_type": "code",
   "execution_count": 23,
   "metadata": {},
   "outputs": [],
   "source": [
    "daily_df = daily_df.apply(pd.to_numeric)"
   ]
  },
  {
   "cell_type": "code",
   "execution_count": 24,
   "metadata": {},
   "outputs": [
    {
     "name": "stdout",
     "output_type": "stream",
     "text": [
      "<class 'pandas.core.frame.DataFrame'>\n",
      "DatetimeIndex: 2219 entries, 2019-11-19 to 2013-08-21\n",
      "Data columns (total 12 columns):\n",
      "total_adults_in_shelter                                    2219 non-null int64\n",
      "total_children_in_shelter                                  2219 non-null int64\n",
      "total_individuals_in_shelter                               2219 non-null int64\n",
      "single_adult_men_in_shelter                                2219 non-null int64\n",
      "single_adult_women_in_shelter                              2219 non-null int64\n",
      "total_single_adults_in_shelter                             2219 non-null int64\n",
      "families_with_children_in_shelter                          2219 non-null int64\n",
      "adults_in_families_with_children_in_shelter                2219 non-null int64\n",
      "children_in_families_with_children_in_shelter              2219 non-null int64\n",
      "total_individuals_in_families_with_children_in_shelter_    2219 non-null int64\n",
      "adult_families_in_shelter                                  2219 non-null int64\n",
      "individuals_in_adult_families_in_shelter                   2219 non-null int64\n",
      "dtypes: int64(12)\n",
      "memory usage: 225.4 KB\n"
     ]
    }
   ],
   "source": [
    "daily_df.info()"
   ]
  },
  {
   "cell_type": "code",
   "execution_count": 25,
   "metadata": {},
   "outputs": [],
   "source": [
    "weekly_df = daily_df.resample('W').mean()"
   ]
  },
  {
   "cell_type": "markdown",
   "metadata": {},
   "source": [
    "# RNN Modeling (Multivariate timeseries)\n",
    "- `weekly_comb.csv` dataset"
   ]
  },
  {
   "cell_type": "code",
   "execution_count": 64,
   "metadata": {},
   "outputs": [],
   "source": [
    "weekly_comb = pd.read_csv(\"./homeless/weekly_comb.csv\")"
   ]
  },
  {
   "cell_type": "code",
   "execution_count": 65,
   "metadata": {
    "scrolled": true
   },
   "outputs": [
    {
     "data": {
      "text/html": [
       "<div>\n",
       "<style scoped>\n",
       "    .dataframe tbody tr th:only-of-type {\n",
       "        vertical-align: middle;\n",
       "    }\n",
       "\n",
       "    .dataframe tbody tr th {\n",
       "        vertical-align: top;\n",
       "    }\n",
       "\n",
       "    .dataframe thead th {\n",
       "        text-align: right;\n",
       "    }\n",
       "</style>\n",
       "<table border=\"1\" class=\"dataframe\">\n",
       "  <thead>\n",
       "    <tr style=\"text-align: right;\">\n",
       "      <th></th>\n",
       "      <th>project_start_date</th>\n",
       "      <th>reporting_construction_type</th>\n",
       "      <th>extended_affordability_status</th>\n",
       "      <th>extremely_low_income_units</th>\n",
       "      <th>very_low_income_units</th>\n",
       "      <th>low_income_units</th>\n",
       "      <th>moderate_income_units</th>\n",
       "      <th>middle_income_units</th>\n",
       "      <th>all_counted_units</th>\n",
       "      <th>total_units</th>\n",
       "      <th>...</th>\n",
       "      <th>total_individuals_in_shelter</th>\n",
       "      <th>single_adult_men_in_shelter</th>\n",
       "      <th>single_adult_women_in_shelter</th>\n",
       "      <th>total_single_adults_in_shelter</th>\n",
       "      <th>families_with_children_in_shelter</th>\n",
       "      <th>adults_in_families_with_children_in_shelter</th>\n",
       "      <th>children_in_families_with_children_in_shelter</th>\n",
       "      <th>total_individuals_in_families_with_children_in_shelter_</th>\n",
       "      <th>adult_families_in_shelter</th>\n",
       "      <th>individuals_in_adult_families_in_shelter</th>\n",
       "    </tr>\n",
       "  </thead>\n",
       "  <tbody>\n",
       "    <tr>\n",
       "      <th>0</th>\n",
       "      <td>2014-01-05</td>\n",
       "      <td>0.333333</td>\n",
       "      <td>0.000000</td>\n",
       "      <td>0.0</td>\n",
       "      <td>0.000000</td>\n",
       "      <td>0.000000</td>\n",
       "      <td>0.000000</td>\n",
       "      <td>0.333333</td>\n",
       "      <td>0.333333</td>\n",
       "      <td>0.333333</td>\n",
       "      <td>...</td>\n",
       "      <td>50956.000000</td>\n",
       "      <td>7343.000000</td>\n",
       "      <td>2684.666667</td>\n",
       "      <td>10027.666667</td>\n",
       "      <td>10514.333333</td>\n",
       "      <td>14963.333333</td>\n",
       "      <td>21992.000000</td>\n",
       "      <td>36955.333333</td>\n",
       "      <td>1874.333333</td>\n",
       "      <td>3973.000000</td>\n",
       "    </tr>\n",
       "    <tr>\n",
       "      <th>1</th>\n",
       "      <td>2014-01-12</td>\n",
       "      <td>0.285714</td>\n",
       "      <td>0.000000</td>\n",
       "      <td>0.0</td>\n",
       "      <td>0.000000</td>\n",
       "      <td>0.142857</td>\n",
       "      <td>0.000000</td>\n",
       "      <td>0.285714</td>\n",
       "      <td>0.428571</td>\n",
       "      <td>0.428571</td>\n",
       "      <td>...</td>\n",
       "      <td>51157.571429</td>\n",
       "      <td>7387.714286</td>\n",
       "      <td>2719.428571</td>\n",
       "      <td>10107.142857</td>\n",
       "      <td>10539.714286</td>\n",
       "      <td>15002.857143</td>\n",
       "      <td>22071.428571</td>\n",
       "      <td>37074.285714</td>\n",
       "      <td>1874.142857</td>\n",
       "      <td>3976.142857</td>\n",
       "    </tr>\n",
       "    <tr>\n",
       "      <th>2</th>\n",
       "      <td>2014-01-19</td>\n",
       "      <td>0.571429</td>\n",
       "      <td>0.000000</td>\n",
       "      <td>0.0</td>\n",
       "      <td>22.285714</td>\n",
       "      <td>17.571429</td>\n",
       "      <td>0.000000</td>\n",
       "      <td>0.428571</td>\n",
       "      <td>40.857143</td>\n",
       "      <td>40.857143</td>\n",
       "      <td>...</td>\n",
       "      <td>51355.857143</td>\n",
       "      <td>7375.000000</td>\n",
       "      <td>2759.571429</td>\n",
       "      <td>10134.571429</td>\n",
       "      <td>10596.714286</td>\n",
       "      <td>15075.571429</td>\n",
       "      <td>22176.857143</td>\n",
       "      <td>37252.428571</td>\n",
       "      <td>1873.142857</td>\n",
       "      <td>3968.857143</td>\n",
       "    </tr>\n",
       "    <tr>\n",
       "      <th>3</th>\n",
       "      <td>2014-01-26</td>\n",
       "      <td>1.142857</td>\n",
       "      <td>0.142857</td>\n",
       "      <td>0.0</td>\n",
       "      <td>0.142857</td>\n",
       "      <td>26.000000</td>\n",
       "      <td>1.428571</td>\n",
       "      <td>0.142857</td>\n",
       "      <td>28.142857</td>\n",
       "      <td>28.142857</td>\n",
       "      <td>...</td>\n",
       "      <td>51840.000000</td>\n",
       "      <td>7505.714286</td>\n",
       "      <td>2797.285714</td>\n",
       "      <td>10303.000000</td>\n",
       "      <td>10672.714286</td>\n",
       "      <td>15188.571429</td>\n",
       "      <td>22342.285714</td>\n",
       "      <td>37530.857143</td>\n",
       "      <td>1892.714286</td>\n",
       "      <td>4006.142857</td>\n",
       "    </tr>\n",
       "    <tr>\n",
       "      <th>4</th>\n",
       "      <td>2014-02-02</td>\n",
       "      <td>0.428571</td>\n",
       "      <td>0.000000</td>\n",
       "      <td>0.0</td>\n",
       "      <td>4.000000</td>\n",
       "      <td>16.142857</td>\n",
       "      <td>0.000000</td>\n",
       "      <td>0.428571</td>\n",
       "      <td>20.714286</td>\n",
       "      <td>20.714286</td>\n",
       "      <td>...</td>\n",
       "      <td>52017.857143</td>\n",
       "      <td>7478.857143</td>\n",
       "      <td>2775.714286</td>\n",
       "      <td>10254.571429</td>\n",
       "      <td>10735.857143</td>\n",
       "      <td>15287.571429</td>\n",
       "      <td>22475.000000</td>\n",
       "      <td>37762.571429</td>\n",
       "      <td>1891.285714</td>\n",
       "      <td>4000.714286</td>\n",
       "    </tr>\n",
       "  </tbody>\n",
       "</table>\n",
       "<p>5 rows × 22 columns</p>\n",
       "</div>"
      ],
      "text/plain": [
       "  project_start_date  reporting_construction_type  \\\n",
       "0         2014-01-05                     0.333333   \n",
       "1         2014-01-12                     0.285714   \n",
       "2         2014-01-19                     0.571429   \n",
       "3         2014-01-26                     1.142857   \n",
       "4         2014-02-02                     0.428571   \n",
       "\n",
       "   extended_affordability_status  extremely_low_income_units  \\\n",
       "0                       0.000000                         0.0   \n",
       "1                       0.000000                         0.0   \n",
       "2                       0.000000                         0.0   \n",
       "3                       0.142857                         0.0   \n",
       "4                       0.000000                         0.0   \n",
       "\n",
       "   very_low_income_units  low_income_units  moderate_income_units  \\\n",
       "0               0.000000          0.000000               0.000000   \n",
       "1               0.000000          0.142857               0.000000   \n",
       "2              22.285714         17.571429               0.000000   \n",
       "3               0.142857         26.000000               1.428571   \n",
       "4               4.000000         16.142857               0.000000   \n",
       "\n",
       "   middle_income_units  all_counted_units  total_units  ...  \\\n",
       "0             0.333333           0.333333     0.333333  ...   \n",
       "1             0.285714           0.428571     0.428571  ...   \n",
       "2             0.428571          40.857143    40.857143  ...   \n",
       "3             0.142857          28.142857    28.142857  ...   \n",
       "4             0.428571          20.714286    20.714286  ...   \n",
       "\n",
       "   total_individuals_in_shelter  single_adult_men_in_shelter  \\\n",
       "0                  50956.000000                  7343.000000   \n",
       "1                  51157.571429                  7387.714286   \n",
       "2                  51355.857143                  7375.000000   \n",
       "3                  51840.000000                  7505.714286   \n",
       "4                  52017.857143                  7478.857143   \n",
       "\n",
       "   single_adult_women_in_shelter  total_single_adults_in_shelter  \\\n",
       "0                    2684.666667                    10027.666667   \n",
       "1                    2719.428571                    10107.142857   \n",
       "2                    2759.571429                    10134.571429   \n",
       "3                    2797.285714                    10303.000000   \n",
       "4                    2775.714286                    10254.571429   \n",
       "\n",
       "   families_with_children_in_shelter  \\\n",
       "0                       10514.333333   \n",
       "1                       10539.714286   \n",
       "2                       10596.714286   \n",
       "3                       10672.714286   \n",
       "4                       10735.857143   \n",
       "\n",
       "   adults_in_families_with_children_in_shelter  \\\n",
       "0                                 14963.333333   \n",
       "1                                 15002.857143   \n",
       "2                                 15075.571429   \n",
       "3                                 15188.571429   \n",
       "4                                 15287.571429   \n",
       "\n",
       "   children_in_families_with_children_in_shelter  \\\n",
       "0                                   21992.000000   \n",
       "1                                   22071.428571   \n",
       "2                                   22176.857143   \n",
       "3                                   22342.285714   \n",
       "4                                   22475.000000   \n",
       "\n",
       "   total_individuals_in_families_with_children_in_shelter_  \\\n",
       "0                                       36955.333333         \n",
       "1                                       37074.285714         \n",
       "2                                       37252.428571         \n",
       "3                                       37530.857143         \n",
       "4                                       37762.571429         \n",
       "\n",
       "   adult_families_in_shelter  individuals_in_adult_families_in_shelter  \n",
       "0                1874.333333                               3973.000000  \n",
       "1                1874.142857                               3976.142857  \n",
       "2                1873.142857                               3968.857143  \n",
       "3                1892.714286                               4006.142857  \n",
       "4                1891.285714                               4000.714286  \n",
       "\n",
       "[5 rows x 22 columns]"
      ]
     },
     "execution_count": 65,
     "metadata": {},
     "output_type": "execute_result"
    }
   ],
   "source": [
    "weekly_comb.head()"
   ]
  },
  {
   "cell_type": "code",
   "execution_count": 66,
   "metadata": {},
   "outputs": [],
   "source": [
    "weekly_comb.index = pd.to_datetime(weekly_comb['project_start_date'], format = \"%Y/%m/%d\")\n",
    "weekly_comb = weekly_comb.drop('project_start_date', axis = 1)"
   ]
  },
  {
   "cell_type": "code",
   "execution_count": 67,
   "metadata": {},
   "outputs": [
    {
     "data": {
      "text/html": [
       "<div>\n",
       "<style scoped>\n",
       "    .dataframe tbody tr th:only-of-type {\n",
       "        vertical-align: middle;\n",
       "    }\n",
       "\n",
       "    .dataframe tbody tr th {\n",
       "        vertical-align: top;\n",
       "    }\n",
       "\n",
       "    .dataframe thead th {\n",
       "        text-align: right;\n",
       "    }\n",
       "</style>\n",
       "<table border=\"1\" class=\"dataframe\">\n",
       "  <thead>\n",
       "    <tr style=\"text-align: right;\">\n",
       "      <th></th>\n",
       "      <th>reporting_construction_type</th>\n",
       "      <th>extended_affordability_status</th>\n",
       "      <th>extremely_low_income_units</th>\n",
       "      <th>very_low_income_units</th>\n",
       "      <th>low_income_units</th>\n",
       "      <th>moderate_income_units</th>\n",
       "      <th>middle_income_units</th>\n",
       "      <th>all_counted_units</th>\n",
       "      <th>total_units</th>\n",
       "      <th>total_adults_in_shelter</th>\n",
       "      <th>...</th>\n",
       "      <th>total_individuals_in_shelter</th>\n",
       "      <th>single_adult_men_in_shelter</th>\n",
       "      <th>single_adult_women_in_shelter</th>\n",
       "      <th>total_single_adults_in_shelter</th>\n",
       "      <th>families_with_children_in_shelter</th>\n",
       "      <th>adults_in_families_with_children_in_shelter</th>\n",
       "      <th>children_in_families_with_children_in_shelter</th>\n",
       "      <th>total_individuals_in_families_with_children_in_shelter_</th>\n",
       "      <th>adult_families_in_shelter</th>\n",
       "      <th>individuals_in_adult_families_in_shelter</th>\n",
       "    </tr>\n",
       "    <tr>\n",
       "      <th>project_start_date</th>\n",
       "      <th></th>\n",
       "      <th></th>\n",
       "      <th></th>\n",
       "      <th></th>\n",
       "      <th></th>\n",
       "      <th></th>\n",
       "      <th></th>\n",
       "      <th></th>\n",
       "      <th></th>\n",
       "      <th></th>\n",
       "      <th></th>\n",
       "      <th></th>\n",
       "      <th></th>\n",
       "      <th></th>\n",
       "      <th></th>\n",
       "      <th></th>\n",
       "      <th></th>\n",
       "      <th></th>\n",
       "      <th></th>\n",
       "      <th></th>\n",
       "      <th></th>\n",
       "    </tr>\n",
       "  </thead>\n",
       "  <tbody>\n",
       "    <tr>\n",
       "      <th>2014-01-05</th>\n",
       "      <td>0.333333</td>\n",
       "      <td>0.0</td>\n",
       "      <td>0.0</td>\n",
       "      <td>0.0</td>\n",
       "      <td>0.000000</td>\n",
       "      <td>0.0</td>\n",
       "      <td>0.333333</td>\n",
       "      <td>0.333333</td>\n",
       "      <td>0.333333</td>\n",
       "      <td>28964.000000</td>\n",
       "      <td>...</td>\n",
       "      <td>50956.000000</td>\n",
       "      <td>7343.000000</td>\n",
       "      <td>2684.666667</td>\n",
       "      <td>10027.666667</td>\n",
       "      <td>10514.333333</td>\n",
       "      <td>14963.333333</td>\n",
       "      <td>21992.000000</td>\n",
       "      <td>36955.333333</td>\n",
       "      <td>1874.333333</td>\n",
       "      <td>3973.000000</td>\n",
       "    </tr>\n",
       "    <tr>\n",
       "      <th>2014-01-12</th>\n",
       "      <td>0.285714</td>\n",
       "      <td>0.0</td>\n",
       "      <td>0.0</td>\n",
       "      <td>0.0</td>\n",
       "      <td>0.142857</td>\n",
       "      <td>0.0</td>\n",
       "      <td>0.285714</td>\n",
       "      <td>0.428571</td>\n",
       "      <td>0.428571</td>\n",
       "      <td>29086.142857</td>\n",
       "      <td>...</td>\n",
       "      <td>51157.571429</td>\n",
       "      <td>7387.714286</td>\n",
       "      <td>2719.428571</td>\n",
       "      <td>10107.142857</td>\n",
       "      <td>10539.714286</td>\n",
       "      <td>15002.857143</td>\n",
       "      <td>22071.428571</td>\n",
       "      <td>37074.285714</td>\n",
       "      <td>1874.142857</td>\n",
       "      <td>3976.142857</td>\n",
       "    </tr>\n",
       "  </tbody>\n",
       "</table>\n",
       "<p>2 rows × 21 columns</p>\n",
       "</div>"
      ],
      "text/plain": [
       "                    reporting_construction_type  \\\n",
       "project_start_date                                \n",
       "2014-01-05                             0.333333   \n",
       "2014-01-12                             0.285714   \n",
       "\n",
       "                    extended_affordability_status  extremely_low_income_units  \\\n",
       "project_start_date                                                              \n",
       "2014-01-05                                    0.0                         0.0   \n",
       "2014-01-12                                    0.0                         0.0   \n",
       "\n",
       "                    very_low_income_units  low_income_units  \\\n",
       "project_start_date                                            \n",
       "2014-01-05                            0.0          0.000000   \n",
       "2014-01-12                            0.0          0.142857   \n",
       "\n",
       "                    moderate_income_units  middle_income_units  \\\n",
       "project_start_date                                               \n",
       "2014-01-05                            0.0             0.333333   \n",
       "2014-01-12                            0.0             0.285714   \n",
       "\n",
       "                    all_counted_units  total_units  total_adults_in_shelter  \\\n",
       "project_start_date                                                            \n",
       "2014-01-05                   0.333333     0.333333             28964.000000   \n",
       "2014-01-12                   0.428571     0.428571             29086.142857   \n",
       "\n",
       "                    ...  total_individuals_in_shelter  \\\n",
       "project_start_date  ...                                 \n",
       "2014-01-05          ...                  50956.000000   \n",
       "2014-01-12          ...                  51157.571429   \n",
       "\n",
       "                    single_adult_men_in_shelter  \\\n",
       "project_start_date                                \n",
       "2014-01-05                          7343.000000   \n",
       "2014-01-12                          7387.714286   \n",
       "\n",
       "                    single_adult_women_in_shelter  \\\n",
       "project_start_date                                  \n",
       "2014-01-05                            2684.666667   \n",
       "2014-01-12                            2719.428571   \n",
       "\n",
       "                    total_single_adults_in_shelter  \\\n",
       "project_start_date                                   \n",
       "2014-01-05                            10027.666667   \n",
       "2014-01-12                            10107.142857   \n",
       "\n",
       "                    families_with_children_in_shelter  \\\n",
       "project_start_date                                      \n",
       "2014-01-05                               10514.333333   \n",
       "2014-01-12                               10539.714286   \n",
       "\n",
       "                    adults_in_families_with_children_in_shelter  \\\n",
       "project_start_date                                                \n",
       "2014-01-05                                         14963.333333   \n",
       "2014-01-12                                         15002.857143   \n",
       "\n",
       "                    children_in_families_with_children_in_shelter  \\\n",
       "project_start_date                                                  \n",
       "2014-01-05                                           21992.000000   \n",
       "2014-01-12                                           22071.428571   \n",
       "\n",
       "                    total_individuals_in_families_with_children_in_shelter_  \\\n",
       "project_start_date                                                            \n",
       "2014-01-05                                               36955.333333         \n",
       "2014-01-12                                               37074.285714         \n",
       "\n",
       "                    adult_families_in_shelter  \\\n",
       "project_start_date                              \n",
       "2014-01-05                        1874.333333   \n",
       "2014-01-12                        1874.142857   \n",
       "\n",
       "                    individuals_in_adult_families_in_shelter  \n",
       "project_start_date                                            \n",
       "2014-01-05                                       3973.000000  \n",
       "2014-01-12                                       3976.142857  \n",
       "\n",
       "[2 rows x 21 columns]"
      ]
     },
     "execution_count": 67,
     "metadata": {},
     "output_type": "execute_result"
    }
   ],
   "source": [
    "weekly_comb.head(2)"
   ]
  },
  {
   "cell_type": "code",
   "execution_count": 72,
   "metadata": {},
   "outputs": [],
   "source": [
    "df = weekly_comb[['total_individuals_in_shelter', 'all_counted_units']]"
   ]
  },
  {
   "cell_type": "code",
   "execution_count": 74,
   "metadata": {},
   "outputs": [],
   "source": [
    "# Create X and y\n",
    "X = df.drop(columns = 'total_individuals_in_shelter')\n",
    "y = df['all_counted_units'].values # with Keras, target should be `array`!!"
   ]
  },
  {
   "cell_type": "code",
   "execution_count": 75,
   "metadata": {},
   "outputs": [],
   "source": [
    "# Train/Test Split\n",
    "X_train, X_test, y_train, y_test = train_test_split(X, y, shuffle =False)"
   ]
  },
  {
   "cell_type": "code",
   "execution_count": 76,
   "metadata": {},
   "outputs": [],
   "source": [
    "# Scale\n",
    "\n",
    "ss = StandardScaler()\n",
    "X_train_sc = ss.fit_transform(X_train)\n",
    "X_test_sc = ss.transform(X_test)"
   ]
  },
  {
   "cell_type": "code",
   "execution_count": 77,
   "metadata": {},
   "outputs": [],
   "source": [
    "# Create training sequences\n",
    "train_sequences = TimeseriesGenerator(X_train_sc, y_train,\n",
    "                                      length = 3,\n",
    "                                      batch_size = 128)"
   ]
  },
  {
   "cell_type": "code",
   "execution_count": 81,
   "metadata": {},
   "outputs": [],
   "source": [
    "# Create test sequences\n",
    "test_sequences = TimeseriesGenerator(X_test_sc, y_test,\n",
    "                                     length = 3,\n",
    "                                     batch_size = 128)"
   ]
  },
  {
   "cell_type": "code",
   "execution_count": 86,
   "metadata": {},
   "outputs": [
    {
     "data": {
      "text/plain": [
       "(128, 3, 1)"
      ]
     },
     "execution_count": 86,
     "metadata": {},
     "output_type": "execute_result"
    }
   ],
   "source": [
    "train_sequences[0][0].shape"
   ]
  },
  {
   "cell_type": "code",
   "execution_count": 87,
   "metadata": {},
   "outputs": [],
   "source": [
    "# Design RNN\n",
    "model = Sequential()\n",
    "\n",
    "# Don't set the activation fn for RNN (tanh is defualt)\n",
    "model.add(GRU(8,\n",
    "              dropout = 0.2, # X_samples\n",
    "              recurrent_dropout = 0.2, # state from previous step\n",
    "              input_shape = (3, 1), # implicitly setting the input layer\n",
    "              return_sequences = True)) # True is the NEXT layer is RNNs\n",
    "\n",
    "model.add(GRU(8,\n",
    "              return_sequences = False)) # False if the NEXT layer is DENSE\n",
    "\n",
    "model.add(Dropout(0.2)) # bad AFTER RNNs (set dropout and recurrent_dropout instead)\n",
    "\n",
    "model.add(Dense(4,\n",
    "                activation = 'relu'))\n",
    "\n",
    "model.add(Dropout(0.2)) # good AFTER Dense\n",
    "\n",
    "# For binary classification\n",
    "# 1 neuron, sigmoid activation fn\n",
    "model.add(Dense(1,\n",
    "                activation = 'sigmoid'))"
   ]
  },
  {
   "cell_type": "code",
   "execution_count": 88,
   "metadata": {},
   "outputs": [],
   "source": [
    "model.compile(loss = 'binary_crossentropy',\n",
    "              optimizer = Adam(lr = 0.001),\n",
    "              metrics = ['accuracy'])"
   ]
  },
  {
   "cell_type": "code",
   "execution_count": 89,
   "metadata": {},
   "outputs": [],
   "source": [
    "hist = model.fit_generator(train_sequences,\n",
    "                    epochs = 20,\n",
    "                    validation_data = test_sequences,\n",
    "                    verbose = 0)"
   ]
  },
  {
   "cell_type": "code",
   "execution_count": 90,
   "metadata": {},
   "outputs": [
    {
     "data": {
      "image/png": "[encoded data removed]",
      "text/plain": [
       "<Figure size 432x288 with 1 Axes>"
      ]
     },
     "metadata": {
      "needs_background": "light"
     },
     "output_type": "display_data"
    }
   ],
   "source": [
    "# Plot out our train/test loss curves\n",
    "\n",
    "plt.plot(hist.history['loss'], label = 'Train loss')\n",
    "plt.plot(hist.history['val_loss'], label = 'Test loss')\n",
    "plt.legend();"
   ]
  },
  {
   "cell_type": "code",
   "execution_count": 91,
   "metadata": {
    "scrolled": true
   },
   "outputs": [
    {
     "data": {
      "image/png": "[encoded data removed]",
      "text/plain": [
       "<Figure size 432x288 with 1 Axes>"
      ]
     },
     "metadata": {
      "needs_background": "light"
     },
     "output_type": "display_data"
    }
   ],
   "source": [
    "# Plot out our train/test loss curves\n",
    "\n",
    "plt.plot(hist.history['loss'], label = 'Train loss')\n",
    "plt.plot(hist.history['val_loss'], label = 'Test loss')\n",
    "plt.legend();"
   ]
  },
  {
   "cell_type": "code",
   "execution_count": 92,
   "metadata": {
    "scrolled": true
   },
   "outputs": [
    {
     "data": {
      "image/png": "[encoded data removed]",
      "text/plain": [
       "<Figure size 432x288 with 1 Axes>"
      ]
     },
     "metadata": {
      "needs_background": "light"
     },
     "output_type": "display_data"
    }
   ],
   "source": [
    "# Plot out our train/test loss curves\n",
    "\n",
    "plt.plot(hist.history['accuracy'], label = 'Train accuracy')\n",
    "plt.plot(hist.history['val_accuracy'], label = 'Test accuracy')\n",
    "plt.legend();"
   ]
  },
  {
   "cell_type": "code",
   "execution_count": 176,
   "metadata": {},
   "outputs": [],
   "source": [
    "model.evaluate_generator(test_sequences)\n",
    "trainPredict = model.predict_generator(train_sequences)\n",
    "testPredict = model.predict_generator(test_sequences)"
   ]
  },
  {
   "cell_type": "code",
   "execution_count": 213,
   "metadata": {},
   "outputs": [],
   "source": [
    "inverse_sc_trainPredict = ss.inverse_transform(trainPredict)\n",
    "inverse_sc_testPredict = ss.inverse_transform(testPredict)"
   ]
  },
  {
   "cell_type": "code",
   "execution_count": 214,
   "metadata": {},
   "outputs": [],
   "source": [
    "test_predict=[]\n",
    "for arr in list(inverse_sc_testPredict):\n",
    "    test_predict.append(arr[0])"
   ]
  },
  {
   "cell_type": "code",
   "execution_count": 215,
   "metadata": {},
   "outputs": [],
   "source": [
    "train_predict=[]\n",
    "for arr in list(inverse_sc_trainPredict):\n",
    "    train_predict.append(arr[0])"
   ]
  },
  {
   "cell_type": "code",
   "execution_count": 216,
   "metadata": {
    "scrolled": true
   },
   "outputs": [],
   "source": [
    "original_train_preds = np.cumsum([df['total_individuals_in_shelter'].iloc[3-1]] + train_predict)\n",
    "original_test_preds = np.cumsum([df['total_individuals_in_shelter'].iloc[len(y_train)+3-1]] + test_predict)"
   ]
  },
  {
   "cell_type": "code",
   "execution_count": 219,
   "metadata": {},
   "outputs": [
    {
     "data": {
      "text/plain": [
       "[<matplotlib.lines.Line2D at 0x1c3d792748>]"
      ]
     },
     "execution_count": 219,
     "metadata": {},
     "output_type": "execute_result"
    },
    {
     "data": {
      "image/png": "[encoded data removed]",
      "text/plain": [
       "<Figure size 1080x360 with 1 Axes>"
      ]
     },
     "metadata": {
      "needs_background": "light"
     },
     "output_type": "display_data"
    }
   ],
   "source": [
    "plt.figure(figsize = (15,5))\n",
    "plt.plot(df['total_individuals_in_shelter'])\n",
    "plt.plot(df.index[-74:], original_test_preds)\n",
    "plt.plot(df.index[4:-74], original_train_preds)"
   ]
  },
  {
   "cell_type": "markdown",
   "metadata": {},
   "source": [
    "# RNN Modeling (Univariate timeseries)"
   ]
  },
  {
   "cell_type": "code",
   "execution_count": 31,
   "metadata": {},
   "outputs": [
    {
     "data": {
      "text/plain": [
       "Test Statistic   -4.649787\n",
       "p-value           0.000104\n",
       "dtype: float64"
      ]
     },
     "execution_count": 31,
     "metadata": {},
     "output_type": "execute_result"
    }
   ],
   "source": [
    "adf(weekly_df['total_individuals_in_shelter'].diff(1).dropna())"
   ]
  },
  {
   "cell_type": "code",
   "execution_count": 35,
   "metadata": {},
   "outputs": [],
   "source": [
    "weekly_diff = weekly_df[['total_individuals_in_shelter']].diff(1).dropna()"
   ]
  },
  {
   "cell_type": "code",
   "execution_count": 48,
   "metadata": {},
   "outputs": [],
   "source": [
    "train, test = train_test_split(weekly_diff[['total_individuals_in_shelter']],\n",
    "                               test_size = 0.25,\n",
    "                               shuffle = False)"
   ]
  },
  {
   "cell_type": "code",
   "execution_count": 49,
   "metadata": {},
   "outputs": [
    {
     "data": {
      "text/plain": [
       "(244, 1)"
      ]
     },
     "execution_count": 49,
     "metadata": {},
     "output_type": "execute_result"
    }
   ],
   "source": [
    "train.shape"
   ]
  },
  {
   "cell_type": "code",
   "execution_count": 50,
   "metadata": {},
   "outputs": [],
   "source": [
    "# Scale\n",
    "ss = StandardScaler()\n",
    "X_train_sc = ss.fit_transform(train)\n",
    "X_test_sc = ss.transform(test)"
   ]
  },
  {
   "cell_type": "code",
   "execution_count": 52,
   "metadata": {},
   "outputs": [
    {
     "ename": "ValueError",
     "evalue": "Data and targets have to be of same length. Data length is 244 while target length is 1",
     "output_type": "error",
     "traceback": [
      "\u001b[0;31m---------------------------------------------------------------------------\u001b[0m",
      "\u001b[0;31mValueError\u001b[0m                                Traceback (most recent call last)",
      "\u001b[0;32m<ipython-input-52-132e06ab0bae>\u001b[0m in \u001b[0;36m<module>\u001b[0;34m\u001b[0m\n\u001b[1;32m      2\u001b[0m                                       \u001b[0mtargets\u001b[0m \u001b[0;34m=\u001b[0m \u001b[0;34m[\u001b[0m\u001b[0;34m'total_individual_in_shelter'\u001b[0m\u001b[0;34m]\u001b[0m\u001b[0;34m,\u001b[0m\u001b[0;34m\u001b[0m\u001b[0;34m\u001b[0m\u001b[0m\n\u001b[1;32m      3\u001b[0m                                       \u001b[0mlength\u001b[0m \u001b[0;34m=\u001b[0m \u001b[0;36m3\u001b[0m\u001b[0;34m,\u001b[0m\u001b[0;34m\u001b[0m\u001b[0;34m\u001b[0m\u001b[0m\n\u001b[0;32m----> 4\u001b[0;31m                                       batch_size = 128)\n\u001b[0m",
      "\u001b[0;32m~/anaconda3/lib/python3.6/site-packages/keras_preprocessing/sequence.py\u001b[0m in \u001b[0;36m__init__\u001b[0;34m(self, data, targets, length, sampling_rate, stride, start_index, end_index, shuffle, reverse, batch_size)\u001b[0m\n\u001b[1;32m    334\u001b[0m                              \u001b[0;34m' of same length. '\u001b[0m\u001b[0;34m\u001b[0m\u001b[0;34m\u001b[0m\u001b[0m\n\u001b[1;32m    335\u001b[0m                              \u001b[0;34m'Data length is {}'\u001b[0m\u001b[0;34m.\u001b[0m\u001b[0mformat\u001b[0m\u001b[0;34m(\u001b[0m\u001b[0mlen\u001b[0m\u001b[0;34m(\u001b[0m\u001b[0mdata\u001b[0m\u001b[0;34m)\u001b[0m\u001b[0;34m)\u001b[0m \u001b[0;34m+\u001b[0m\u001b[0;34m\u001b[0m\u001b[0;34m\u001b[0m\u001b[0m\n\u001b[0;32m--> 336\u001b[0;31m                              ' while target length is {}'.format(len(targets)))\n\u001b[0m\u001b[1;32m    337\u001b[0m \u001b[0;34m\u001b[0m\u001b[0m\n\u001b[1;32m    338\u001b[0m         \u001b[0mself\u001b[0m\u001b[0;34m.\u001b[0m\u001b[0mdata\u001b[0m \u001b[0;34m=\u001b[0m \u001b[0mdata\u001b[0m\u001b[0;34m\u001b[0m\u001b[0;34m\u001b[0m\u001b[0m\n",
      "\u001b[0;31mValueError\u001b[0m: Data and targets have to be of same length. Data length is 244 while target length is 1"
     ]
    }
   ],
   "source": [
    "train_sequences = TimeseriesGenerator(train,\n",
    "                                      targets = ['total_individual_in_shelter'],\n",
    "                                      length = 3,\n",
    "                                      batch_size = 128)"
   ]
  },
  {
   "cell_type": "code",
   "execution_count": null,
   "metadata": {},
   "outputs": [],
   "source": []
  }
 ],
 "metadata": {
  "kernelspec": {
   "display_name": "Python 3",
   "language": "python",
   "name": "python3"
  },
  "language_info": {
   "codemirror_mode": {
    "name": "ipython",
    "version": 3
   },
   "file_extension": ".py",
   "mimetype": "text/x-python",
   "name": "python",
   "nbconvert_exporter": "python",
   "pygments_lexer": "ipython3",
   "version": "3.6.9"
  }
 },
 "nbformat": 4,
 "nbformat_minor": 2
}
