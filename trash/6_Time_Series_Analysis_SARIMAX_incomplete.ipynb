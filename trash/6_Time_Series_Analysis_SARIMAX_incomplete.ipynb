{
 "cells": [
  {
   "cell_type": "code",
   "execution_count": 1,
   "metadata": {},
   "outputs": [],
   "source": [
    "import pandas as pd\n",
    "import numpy as np\n",
    "import json\n",
    "import functions\n",
    "import matplotlib.pyplot as plt\n",
    "\n",
    "from pandas.plotting import register_matplotlib_converters\n",
    "register_matplotlib_converters()\n",
    "\n",
    "from sodapy import Socrata"
   ]
  },
  {
   "cell_type": "code",
   "execution_count": 2,
   "metadata": {},
   "outputs": [],
   "source": [
    "from sklearn.model_selection import train_test_split\n",
    "from sklearn.metrics import r2_score, mean_squared_error"
   ]
  },
  {
   "cell_type": "code",
   "execution_count": 3,
   "metadata": {},
   "outputs": [],
   "source": [
    "from statsmodels.tsa.statespace.sarimax import SARIMAX\n",
    "from statsmodels.tsa.arima_model import ARIMA, ARMA, AR\n",
    "from statsmodels.graphics.tsaplots import plot_acf\n",
    "from statsmodels.graphics.tsaplots import plot_pacf\n",
    "import statsmodels.api as sm\n",
    "from statsmodels.tsa.stattools import adfuller"
   ]
  },
  {
   "cell_type": "code",
   "execution_count": 4,
   "metadata": {},
   "outputs": [],
   "source": [
    "creds_file = open('./creds.json', 'r')\n",
    "socrata_creds = json.loads(creds_file.read())"
   ]
  },
  {
   "cell_type": "code",
   "execution_count": 5,
   "metadata": {},
   "outputs": [],
   "source": [
    "# Unauthenticated client only works with public data sets. Note 'None'\n",
    "# in place of application token, and no username or password:\n",
    "client = Socrata(\"data.cityofnewyork.us\", socrata_creds['app_token'])\n",
    "\n",
    "# Example authenticated client (needed for non-public datasets):\n",
    "# client = Socrata(data.cityofnewyork.us,\n",
    "#                  MyAppToken,\n",
    "#                  userame=\"user@example.com\",\n",
    "#                  password=\"AFakePassword\")"
   ]
  },
  {
   "cell_type": "markdown",
   "metadata": {},
   "source": [
    "# Data\n",
    "---\n",
    "\n",
    "### DHS Daily Report\n",
    "Source: https://data.cityofnewyork.us/Social-Services/DHS-Daily-Report/k46n-sa2m\n",
    "\n",
    "This dataset includes the daily number of families and individuals residing in the Department of Homeless Services (DHS) shelter system and the daily number of families applying to the DHS shelter system."
   ]
  },
  {
   "cell_type": "code",
   "execution_count": 6,
   "metadata": {},
   "outputs": [],
   "source": [
    "# First 2000 results, returned as JSON from API / converted to Python list of\n",
    "# dictionaries by sodapy.\n",
    "results = client.get(\"k46n-sa2m\", limit = 10_000);\n",
    "\n",
    "# Convert to pandas DataFrame\n",
    "daily_df = pd.DataFrame.from_records(results);"
   ]
  },
  {
   "cell_type": "markdown",
   "metadata": {},
   "source": [
    "# Data Cleaning\n",
    "\n",
    "The type of all columns is 'object'. `date_of_census` is datetime column and rest of the columns are numerical column. Change the types appropriately."
   ]
  },
  {
   "cell_type": "code",
   "execution_count": 7,
   "metadata": {},
   "outputs": [
    {
     "name": "stdout",
     "output_type": "stream",
     "text": [
      "<class 'pandas.core.frame.DataFrame'>\n",
      "DatetimeIndex: 2230 entries, 2019-11-30 to 2013-08-21\n",
      "Data columns (total 12 columns):\n",
      "total_adults_in_shelter                                    2230 non-null int64\n",
      "total_children_in_shelter                                  2230 non-null int64\n",
      "total_individuals_in_shelter                               2230 non-null int64\n",
      "single_adult_men_in_shelter                                2230 non-null int64\n",
      "single_adult_women_in_shelter                              2230 non-null int64\n",
      "total_single_adults_in_shelter                             2230 non-null int64\n",
      "families_with_children_in_shelter                          2230 non-null int64\n",
      "adults_in_families_with_children_in_shelter                2230 non-null int64\n",
      "children_in_families_with_children_in_shelter              2230 non-null int64\n",
      "total_individuals_in_families_with_children_in_shelter_    2230 non-null int64\n",
      "adult_families_in_shelter                                  2230 non-null int64\n",
      "individuals_in_adult_families_in_shelter                   2230 non-null int64\n",
      "dtypes: int64(12)\n",
      "memory usage: 226.5 KB\n"
     ]
    }
   ],
   "source": [
    "daily_df['date_of_census'] = daily_df['date_of_census'].apply(lambda x: x.split('T')[0])\n",
    "\n",
    "daily_df.index = pd.to_datetime(daily_df['date_of_census'], format = \"%Y/%m/%d\")\n",
    "daily_df = daily_df.drop('date_of_census', axis = 1)\n",
    "\n",
    "daily_df = daily_df.apply(pd.to_numeric)\n",
    "\n",
    "daily_df.info()"
   ]
  },
  {
   "cell_type": "code",
   "execution_count": 8,
   "metadata": {},
   "outputs": [],
   "source": [
    "weekly_df = daily_df.resample('W').mean()"
   ]
  },
  {
   "cell_type": "code",
   "execution_count": 9,
   "metadata": {},
   "outputs": [],
   "source": [
    "train, test = train_test_split(weekly_df['total_individuals_in_shelter'],\n",
    "                               test_size = 0.25,\n",
    "                               shuffle = False,\n",
    "                               random_state = 274)"
   ]
  },
  {
   "cell_type": "code",
   "execution_count": 10,
   "metadata": {},
   "outputs": [
    {
     "name": "stdout",
     "output_type": "stream",
     "text": [
      "Attempting to fit SARIMAX(0,1,0)x(0,0,0,3)\n",
      "The MSE for (0, 1, 0)x(0,0,0,3) is: 1101378.8062468877\n",
      "Attempting to fit SARIMAX(0,1,0)x(0,0,0,4)\n",
      "The MSE for (0, 1, 0)x(0,0,0,4) is: 1101378.8062468877\n",
      "Attempting to fit SARIMAX(0,1,0)x(0,0,0,51)\n",
      "The MSE for (0, 1, 0)x(0,0,0,51) is: 1101378.8062468877\n",
      "Attempting to fit SARIMAX(0,1,0)x(0,0,0,52)\n",
      "The MSE for (0, 1, 0)x(0,0,0,52) is: 1101378.8062468877\n",
      "Attempting to fit SARIMAX(0,1,0)x(0,1,0,3)\n",
      "The MSE for (0, 1, 0)x(0,1,0,3) is: 57945837.87568285\n",
      "Attempting to fit SARIMAX(0,1,0)x(0,1,0,4)\n",
      "The MSE for (0, 1, 0)x(0,1,0,4) is: 29603162.388017066\n",
      "Attempting to fit SARIMAX(0,1,0)x(0,1,0,51)\n",
      "The MSE for (0, 1, 0)x(0,1,0,51) is: 1158393.4175030447\n",
      "Attempting to fit SARIMAX(0,1,0)x(0,1,0,52)\n",
      "The MSE for (0, 1, 0)x(0,1,0,52) is: 1116041.587096818\n",
      "Attempting to fit SARIMAX(0,1,0)x(0,2,0,3)\n",
      "The MSE for (0, 1, 0)x(0,2,0,3) is: 19326338.230407484\n",
      "Attempting to fit SARIMAX(0,1,0)x(0,2,0,4)\n",
      "The MSE for (0, 1, 0)x(0,2,0,4) is: 146361963.69345078\n",
      "Attempting to fit SARIMAX(0,1,0)x(0,2,0,51)\n",
      "The MSE for (0, 1, 0)x(0,2,0,51) is: 561015.8152761058\n",
      "Attempting to fit SARIMAX(0,1,0)x(0,2,0,52)\n",
      "The MSE for (0, 1, 0)x(0,2,0,52) is: 715839.038987437\n",
      "Attempting to fit SARIMAX(0,1,0)x(0,0,1,3)\n",
      "The MSE for (0, 1, 0)x(0,0,1,3) is: 1147119.5815126167\n",
      "Attempting to fit SARIMAX(0,1,0)x(0,0,1,4)\n",
      "The MSE for (0, 1, 0)x(0,0,1,4) is: 1153881.836891427\n",
      "Attempting to fit SARIMAX(0,1,0)x(0,0,1,51)\n",
      "The MSE for (0, 1, 0)x(0,0,1,51) is: 923272.8655205583\n",
      "Attempting to fit SARIMAX(0,1,0)x(0,0,1,52)\n",
      "The MSE for (0, 1, 0)x(0,0,1,52) is: 880331.1110464607\n",
      "Attempting to fit SARIMAX(0,1,0)x(0,1,1,3)\n",
      "The MSE for (0, 1, 0)x(0,1,1,3) is: 32932869.510544445\n",
      "Attempting to fit SARIMAX(0,1,0)x(0,1,1,4)\n",
      "The MSE for (0, 1, 0)x(0,1,1,4) is: 27312561.225807022\n",
      "Attempting to fit SARIMAX(0,1,0)x(0,1,1,51)\n"
     ]
    },
    {
     "name": "stderr",
     "output_type": "stream",
     "text": [
      "/Users/dae/anaconda3/lib/python3.6/site-packages/statsmodels/tsa/statespace/sarimax.py:993: UserWarning: Non-invertible starting seasonal moving average Using zeros as starting parameters.\n",
      "  warn('Non-invertible starting seasonal moving average'\n"
     ]
    },
    {
     "name": "stdout",
     "output_type": "stream",
     "text": [
      "The MSE for (0, 1, 0)x(0,1,1,51) is: 1895991.4374177312\n",
      "Attempting to fit SARIMAX(0,1,0)x(0,1,1,52)\n"
     ]
    },
    {
     "name": "stderr",
     "output_type": "stream",
     "text": [
      "/Users/dae/anaconda3/lib/python3.6/site-packages/statsmodels/tsa/statespace/sarimax.py:993: UserWarning: Non-invertible starting seasonal moving average Using zeros as starting parameters.\n",
      "  warn('Non-invertible starting seasonal moving average'\n"
     ]
    },
    {
     "name": "stdout",
     "output_type": "stream",
     "text": [
      "The MSE for (0, 1, 0)x(0,1,1,52) is: 1838327.5797942404\n",
      "Attempting to fit SARIMAX(0,1,0)x(0,2,1,3)\n",
      "The MSE for (0, 1, 0)x(0,2,1,3) is: 206484899.0921563\n",
      "Attempting to fit SARIMAX(0,1,0)x(0,2,1,4)\n"
     ]
    },
    {
     "name": "stderr",
     "output_type": "stream",
     "text": [
      "/Users/dae/anaconda3/lib/python3.6/site-packages/statsmodels/tsa/statespace/sarimax.py:993: UserWarning: Non-invertible starting seasonal moving average Using zeros as starting parameters.\n",
      "  warn('Non-invertible starting seasonal moving average'\n",
      "/Users/dae/anaconda3/lib/python3.6/site-packages/statsmodels/tsa/statespace/sarimax.py:993: UserWarning: Non-invertible starting seasonal moving average Using zeros as starting parameters.\n",
      "  warn('Non-invertible starting seasonal moving average'\n"
     ]
    },
    {
     "name": "stdout",
     "output_type": "stream",
     "text": [
      "The MSE for (0, 1, 0)x(0,2,1,4) is: 100881733.71582998\n",
      "Attempting to fit SARIMAX(0,1,0)x(0,2,1,51)\n",
      "Attempting to fit SARIMAX(0,1,0)x(0,2,1,52)\n",
      "Attempting to fit SARIMAX(0,1,0)x(0,0,2,3)\n",
      "The MSE for (0, 1, 0)x(0,0,2,3) is: 1173012.2886936297\n",
      "Attempting to fit SARIMAX(0,1,0)x(0,0,2,4)\n",
      "The MSE for (0, 1, 0)x(0,0,2,4) is: 1231351.5684557087\n",
      "Attempting to fit SARIMAX(0,1,0)x(0,0,2,51)\n",
      "Attempting to fit SARIMAX(0,1,0)x(0,0,2,52)\n",
      "Attempting to fit SARIMAX(0,1,0)x(0,1,2,3)\n",
      "The MSE for (0, 1, 0)x(0,1,2,3) is: 22055111.28768853\n",
      "Attempting to fit SARIMAX(0,1,0)x(0,1,2,4)\n",
      "The MSE for (0, 1, 0)x(0,1,2,4) is: 16917936.330376096\n",
      "Attempting to fit SARIMAX(0,1,0)x(0,1,2,51)\n",
      "Attempting to fit SARIMAX(0,1,0)x(0,1,2,52)\n",
      "Attempting to fit SARIMAX(0,1,0)x(0,2,2,3)\n",
      "The MSE for (0, 1, 0)x(0,2,2,3) is: 114063674.09124553\n",
      "Attempting to fit SARIMAX(0,1,0)x(0,2,2,4)\n",
      "The MSE for (0, 1, 0)x(0,2,2,4) is: 86452984.91461307\n",
      "Attempting to fit SARIMAX(0,1,0)x(0,2,2,51)\n",
      "Attempting to fit SARIMAX(0,1,0)x(0,2,2,52)\n",
      "Attempting to fit SARIMAX(0,1,0)x(1,0,0,3)\n",
      "The MSE for (0, 1, 0)x(1,0,0,3) is: 1184847.6491126735\n",
      "Attempting to fit SARIMAX(0,1,0)x(1,0,0,4)\n",
      "The MSE for (0, 1, 0)x(1,0,0,4) is: 1239078.9752975558\n",
      "Attempting to fit SARIMAX(0,1,0)x(1,0,0,51)\n",
      "The MSE for (0, 1, 0)x(1,0,0,51) is: 859887.6511503623\n",
      "Attempting to fit SARIMAX(0,1,0)x(1,0,0,52)\n",
      "The MSE for (0, 1, 0)x(1,0,0,52) is: 695678.22079142\n",
      "Attempting to fit SARIMAX(0,1,0)x(1,1,0,3)\n",
      "The MSE for (0, 1, 0)x(1,1,0,3) is: 58827543.27554806\n",
      "Attempting to fit SARIMAX(0,1,0)x(1,1,0,4)\n",
      "The MSE for (0, 1, 0)x(1,1,0,4) is: 35091089.05142221\n",
      "Attempting to fit SARIMAX(0,1,0)x(1,1,0,51)\n",
      "The MSE for (0, 1, 0)x(1,1,0,51) is: 1388652.101118969\n",
      "Attempting to fit SARIMAX(0,1,0)x(1,1,0,52)\n",
      "The MSE for (0, 1, 0)x(1,1,0,52) is: 1265919.4793251576\n",
      "Attempting to fit SARIMAX(0,1,0)x(1,2,0,3)\n",
      "The MSE for (0, 1, 0)x(1,2,0,3) is: 569048849.9060849\n",
      "Attempting to fit SARIMAX(0,1,0)x(1,2,0,4)\n",
      "The MSE for (0, 1, 0)x(1,2,0,4) is: 22023409.454529583\n",
      "Attempting to fit SARIMAX(0,1,0)x(1,2,0,51)\n",
      "The MSE for (0, 1, 0)x(1,2,0,51) is: 484828.3474025652\n",
      "Attempting to fit SARIMAX(0,1,0)x(1,2,0,52)\n",
      "The MSE for (0, 1, 0)x(1,2,0,52) is: 813845.1350324984\n",
      "Attempting to fit SARIMAX(0,1,0)x(1,0,1,3)\n",
      "The MSE for (0, 1, 0)x(1,0,1,3) is: 1630682.1919210874\n",
      "Attempting to fit SARIMAX(0,1,0)x(1,0,1,4)\n",
      "The MSE for (0, 1, 0)x(1,0,1,4) is: 1522040.9818560604\n",
      "Attempting to fit SARIMAX(0,1,0)x(1,0,1,51)\n",
      "The MSE for (0, 1, 0)x(1,0,1,51) is: 817307.8927088198\n",
      "Attempting to fit SARIMAX(0,1,0)x(1,0,1,52)\n",
      "The MSE for (0, 1, 0)x(1,0,1,52) is: 2825071.914012448\n",
      "Attempting to fit SARIMAX(0,1,0)x(1,1,1,3)\n",
      "The MSE for (0, 1, 0)x(1,1,1,3) is: 23997812.751816817\n",
      "Attempting to fit SARIMAX(0,1,0)x(1,1,1,4)\n",
      "The MSE for (0, 1, 0)x(1,1,1,4) is: 1476078.8756766217\n",
      "Attempting to fit SARIMAX(0,1,0)x(1,1,1,51)\n"
     ]
    },
    {
     "name": "stderr",
     "output_type": "stream",
     "text": [
      "/Users/dae/anaconda3/lib/python3.6/site-packages/statsmodels/tsa/statespace/sarimax.py:993: UserWarning: Non-invertible starting seasonal moving average Using zeros as starting parameters.\n",
      "  warn('Non-invertible starting seasonal moving average'\n"
     ]
    },
    {
     "name": "stdout",
     "output_type": "stream",
     "text": [
      "The MSE for (0, 1, 0)x(1,1,1,51) is: 2374861.245195787\n",
      "Attempting to fit SARIMAX(0,1,0)x(1,1,1,52)\n"
     ]
    },
    {
     "name": "stderr",
     "output_type": "stream",
     "text": [
      "/Users/dae/anaconda3/lib/python3.6/site-packages/statsmodels/tsa/statespace/sarimax.py:993: UserWarning: Non-invertible starting seasonal moving average Using zeros as starting parameters.\n",
      "  warn('Non-invertible starting seasonal moving average'\n"
     ]
    },
    {
     "name": "stdout",
     "output_type": "stream",
     "text": [
      "The MSE for (0, 1, 0)x(1,1,1,52) is: 1456521.7204501089\n",
      "Attempting to fit SARIMAX(0,1,0)x(1,2,1,3)\n"
     ]
    },
    {
     "name": "stderr",
     "output_type": "stream",
     "text": [
      "/Users/dae/anaconda3/lib/python3.6/site-packages/statsmodels/tsa/statespace/sarimax.py:993: UserWarning: Non-invertible starting seasonal moving average Using zeros as starting parameters.\n",
      "  warn('Non-invertible starting seasonal moving average'\n"
     ]
    },
    {
     "name": "stdout",
     "output_type": "stream",
     "text": [
      "The MSE for (0, 1, 0)x(1,2,1,3) is: 174850667.97058383\n",
      "Attempting to fit SARIMAX(0,1,0)x(1,2,1,4)\n",
      "The MSE for (0, 1, 0)x(1,2,1,4) is: 93660112.09250768\n",
      "Attempting to fit SARIMAX(0,1,0)x(1,2,1,51)\n",
      "Attempting to fit SARIMAX(0,1,0)x(1,2,1,52)\n",
      "Attempting to fit SARIMAX(0,1,0)x(1,0,2,3)\n",
      "The MSE for (0, 1, 0)x(1,0,2,3) is: 1739164.119471206\n",
      "Attempting to fit SARIMAX(0,1,0)x(1,0,2,4)\n",
      "The MSE for (0, 1, 0)x(1,0,2,4) is: 1565138.379131277\n",
      "Attempting to fit SARIMAX(0,1,0)x(1,0,2,51)\n",
      "Attempting to fit SARIMAX(0,1,0)x(1,0,2,52)\n",
      "Attempting to fit SARIMAX(0,1,0)x(1,1,2,3)\n",
      "The MSE for (0, 1, 0)x(1,1,2,3) is: 25500359.26246388\n",
      "Attempting to fit SARIMAX(0,1,0)x(1,1,2,4)\n",
      "The MSE for (0, 1, 0)x(1,1,2,4) is: 1791104.6001882236\n",
      "Attempting to fit SARIMAX(0,1,0)x(1,1,2,51)\n",
      "Attempting to fit SARIMAX(0,1,0)x(1,1,2,52)\n",
      "Attempting to fit SARIMAX(0,1,0)x(1,2,2,3)\n"
     ]
    },
    {
     "name": "stderr",
     "output_type": "stream",
     "text": [
      "/Users/dae/anaconda3/lib/python3.6/site-packages/statsmodels/tsa/statespace/sarimax.py:993: UserWarning: Non-invertible starting seasonal moving average Using zeros as starting parameters.\n",
      "  warn('Non-invertible starting seasonal moving average'\n"
     ]
    },
    {
     "name": "stdout",
     "output_type": "stream",
     "text": [
      "The MSE for (0, 1, 0)x(1,2,2,3) is: 207985918.74359348\n",
      "Attempting to fit SARIMAX(0,1,0)x(1,2,2,4)\n",
      "The MSE for (0, 1, 0)x(1,2,2,4) is: 22011953.65816344\n",
      "Attempting to fit SARIMAX(0,1,0)x(1,2,2,51)\n",
      "Attempting to fit SARIMAX(0,1,0)x(1,2,2,52)\n",
      "Attempting to fit SARIMAX(0,1,0)x(2,0,0,3)\n",
      "The MSE for (0, 1, 0)x(2,0,0,3) is: 1292621.5505465465\n",
      "Attempting to fit SARIMAX(0,1,0)x(2,0,0,4)\n",
      "The MSE for (0, 1, 0)x(2,0,0,4) is: 1471576.9117924473\n",
      "Attempting to fit SARIMAX(0,1,0)x(2,0,0,51)\n",
      "The MSE for (0, 1, 0)x(2,0,0,51) is: 775785.9400971436\n",
      "Attempting to fit SARIMAX(0,1,0)x(2,0,0,52)\n",
      "The MSE for (0, 1, 0)x(2,0,0,52) is: 596475.1894623172\n",
      "Attempting to fit SARIMAX(0,1,0)x(2,1,0,3)\n",
      "The MSE for (0, 1, 0)x(2,1,0,3) is: 44499443.243879125\n",
      "Attempting to fit SARIMAX(0,1,0)x(2,1,0,4)\n",
      "The MSE for (0, 1, 0)x(2,1,0,4) is: 36866862.68175104\n",
      "Attempting to fit SARIMAX(0,1,0)x(2,1,0,51)\n",
      "The MSE for (0, 1, 0)x(2,1,0,51) is: 1536289.7863622177\n",
      "Attempting to fit SARIMAX(0,1,0)x(2,1,0,52)\n",
      "The MSE for (0, 1, 0)x(2,1,0,52) is: 1297947.159120806\n",
      "Attempting to fit SARIMAX(0,1,0)x(2,2,0,3)\n",
      "The MSE for (0, 1, 0)x(2,2,0,3) is: 191674900.02382198\n",
      "Attempting to fit SARIMAX(0,1,0)x(2,2,0,4)\n",
      "The MSE for (0, 1, 0)x(2,2,0,4) is: 494442373.6260497\n",
      "Attempting to fit SARIMAX(0,1,0)x(2,2,0,51)\n",
      "The MSE for (0, 1, 0)x(2,2,0,51) is: 314274.98661334784\n",
      "Attempting to fit SARIMAX(0,1,0)x(2,2,0,52)\n",
      "The MSE for (0, 1, 0)x(2,2,0,52) is: 522193.57866795635\n",
      "Attempting to fit SARIMAX(0,1,0)x(2,0,1,3)\n",
      "The MSE for (0, 1, 0)x(2,0,1,3) is: 1678939.7617572183\n",
      "Attempting to fit SARIMAX(0,1,0)x(2,0,1,4)\n",
      "The MSE for (0, 1, 0)x(2,0,1,4) is: 1552468.9637481691\n",
      "Attempting to fit SARIMAX(0,1,0)x(2,0,1,51)\n",
      "The MSE for (0, 1, 0)x(2,0,1,51) is: 1078761.3963415578\n",
      "Attempting to fit SARIMAX(0,1,0)x(2,0,1,52)\n"
     ]
    },
    {
     "name": "stderr",
     "output_type": "stream",
     "text": [
      "/Users/dae/anaconda3/lib/python3.6/site-packages/statsmodels/base/model.py:512: ConvergenceWarning: Maximum Likelihood optimization failed to converge. Check mle_retvals\n",
      "  \"Check mle_retvals\", ConvergenceWarning)\n"
     ]
    },
    {
     "name": "stdout",
     "output_type": "stream",
     "text": [
      "The MSE for (0, 1, 0)x(2,0,1,52) is: 826962.5864283886\n",
      "Attempting to fit SARIMAX(0,1,0)x(2,1,1,3)\n",
      "The MSE for (0, 1, 0)x(2,1,1,3) is: 41724464.59496148\n",
      "Attempting to fit SARIMAX(0,1,0)x(2,1,1,4)\n",
      "The MSE for (0, 1, 0)x(2,1,1,4) is: 1708903.496361439\n",
      "Attempting to fit SARIMAX(0,1,0)x(2,1,1,51)\n"
     ]
    },
    {
     "name": "stderr",
     "output_type": "stream",
     "text": [
      "/Users/dae/anaconda3/lib/python3.6/site-packages/statsmodels/tsa/statespace/sarimax.py:993: UserWarning: Non-invertible starting seasonal moving average Using zeros as starting parameters.\n",
      "  warn('Non-invertible starting seasonal moving average'\n"
     ]
    },
    {
     "name": "stdout",
     "output_type": "stream",
     "text": [
      "The MSE for (0, 1, 0)x(2,1,1,51) is: 3611892.763574151\n",
      "Attempting to fit SARIMAX(0,1,0)x(2,1,1,52)\n"
     ]
    },
    {
     "name": "stderr",
     "output_type": "stream",
     "text": [
      "/Users/dae/anaconda3/lib/python3.6/site-packages/statsmodels/tsa/statespace/sarimax.py:993: UserWarning: Non-invertible starting seasonal moving average Using zeros as starting parameters.\n",
      "  warn('Non-invertible starting seasonal moving average'\n"
     ]
    },
    {
     "name": "stdout",
     "output_type": "stream",
     "text": [
      "The MSE for (0, 1, 0)x(2,1,1,52) is: 2422325.4070810555\n",
      "Attempting to fit SARIMAX(0,1,0)x(2,2,1,3)\n",
      "The MSE for (0, 1, 0)x(2,2,1,3) is: 116625142.88481562\n",
      "Attempting to fit SARIMAX(0,1,0)x(2,2,1,4)\n",
      "The MSE for (0, 1, 0)x(2,2,1,4) is: 90669240.9276651\n",
      "Attempting to fit SARIMAX(0,1,0)x(2,2,1,51)\n",
      "Attempting to fit SARIMAX(0,1,0)x(2,2,1,52)\n",
      "Attempting to fit SARIMAX(0,1,0)x(2,0,2,3)\n"
     ]
    },
    {
     "name": "stderr",
     "output_type": "stream",
     "text": [
      "/Users/dae/anaconda3/lib/python3.6/site-packages/statsmodels/base/model.py:512: ConvergenceWarning: Maximum Likelihood optimization failed to converge. Check mle_retvals\n",
      "  \"Check mle_retvals\", ConvergenceWarning)\n"
     ]
    },
    {
     "name": "stdout",
     "output_type": "stream",
     "text": [
      "The MSE for (0, 1, 0)x(2,0,2,3) is: 443213.5202293674\n",
      "Attempting to fit SARIMAX(0,1,0)x(2,0,2,4)\n",
      "The MSE for (0, 1, 0)x(2,0,2,4) is: 370275.9125668167\n",
      "Attempting to fit SARIMAX(0,1,0)x(2,0,2,51)\n",
      "Attempting to fit SARIMAX(0,1,0)x(2,0,2,52)\n",
      "Attempting to fit SARIMAX(0,1,0)x(2,1,2,3)\n",
      "The MSE for (0, 1, 0)x(2,1,2,3) is: 50892100.89294389\n",
      "Attempting to fit SARIMAX(0,1,0)x(2,1,2,4)\n",
      "The MSE for (0, 1, 0)x(2,1,2,4) is: 1767080.0571379391\n",
      "Attempting to fit SARIMAX(0,1,0)x(2,1,2,51)\n",
      "Attempting to fit SARIMAX(0,1,0)x(2,1,2,52)\n",
      "Attempting to fit SARIMAX(0,1,0)x(2,2,2,3)\n",
      "The MSE for (0, 1, 0)x(2,2,2,3) is: 108337352.2769095\n",
      "Attempting to fit SARIMAX(0,1,0)x(2,2,2,4)\n",
      "The MSE for (0, 1, 0)x(2,2,2,4) is: 24227794.61892028\n",
      "Attempting to fit SARIMAX(0,1,0)x(2,2,2,51)\n",
      "Attempting to fit SARIMAX(0,1,0)x(2,2,2,52)\n",
      "Our model that minimizes MSE on the testing data is the SARIMAX(0, 1, 0)x(2,2,0,51).\n",
      "This model has an MSE of 314274.98661334784.\n"
     ]
    }
   ],
   "source": [
    "# Starting MSE and (P, D, Q, S).\n",
    "best_mse = 99 * (10 ** 16)\n",
    "final_P = 0\n",
    "final_D = 0\n",
    "final_Q = 0\n",
    "final_S = 0\n",
    "\n",
    "for P in range(3):\n",
    "    for Q in range(3):\n",
    "        for D in range(3):\n",
    "            for S in [3, 4, 51, 52]: \n",
    "                # testing monthly seasonality with 3,4\n",
    "                # testing yearly seaonailty with 51, 52\n",
    "                try:\n",
    "                    print(f'Attempting to fit SARIMAX(0,1,0)x({P},{D},{Q},{S})')\n",
    "                    # Instantiate SARIMAX model.\n",
    "                    sarimax = SARIMAX(endog = train,\n",
    "                                      order = (0, 1, 0),              # (p, d, q)\n",
    "                                      seasonal_order = (P, D, Q, S))  # (P, D, Q, S) \n",
    "                    # Fit SARIMAX model.\n",
    "                    model = sarimax.fit()\n",
    "\n",
    "                    # Generate predictions based on test set.\n",
    "                    preds = model.predict(start=test.index[0], # X_test data range\n",
    "                                          end=test.index[-1])\n",
    "\n",
    "                    # Evaluate predictions.\n",
    "                    print(f'The MSE for (0, 1, 0)x({P},{D},{Q},{S}) is: {mean_squared_error(test, preds)}')\n",
    "\n",
    "                    # Save for final report.\n",
    "                    if best_mse > mean_squared_error(test, preds):\n",
    "                        best_mse = mean_squared_error(test, preds)\n",
    "                        final_P = P\n",
    "                        final_D = D\n",
    "                        final_Q = Q\n",
    "                        final_S = S\n",
    "\n",
    "                except:\n",
    "                    pass\n",
    "\n",
    "print(f'Our model that minimizes MSE on the testing data is the SARIMAX(0, 1, 0)x({final_P},{final_D},{final_Q},{final_S}).')\n",
    "print(f'This model has an MSE of {best_mse}.')"
   ]
  },
  {
   "cell_type": "code",
   "execution_count": 11,
   "metadata": {
    "scrolled": false
   },
   "outputs": [
    {
     "name": "stdout",
     "output_type": "stream",
     "text": [
      "522193.57866795635\n"
     ]
    },
    {
     "data": {
      "image/png": "[encoded data removed]",
      "text/plain": [
       "<Figure size 720x432 with 1 Axes>"
      ]
     },
     "metadata": {
      "needs_background": "light"
     },
     "output_type": "display_data"
    }
   ],
   "source": [
    "# Fit a SARIMA(0, 1, 0) x (2, 2, 0, 51) model.\n",
    "\n",
    "sarima = SARIMAX(endog = train,\n",
    "                 order = (0, 1, 0),              # (p, d, q)\n",
    "                 seasonal_order = (2, 2, 0, 52) ) # (P, D, Q, S)\n",
    "\n",
    "# Fit SARIMA model.\n",
    "model = sarima.fit()\n",
    "\n",
    "# Generate predictions based on test set.\n",
    "preds = model.predict(start=test.index[0], # X_test data range\n",
    "                      end=test.index[-1])\n",
    "# Evaluate predictions.\n",
    "print(mean_squared_error(test, preds))\n",
    "\n",
    "# Plot data.\n",
    "plt.figure(figsize=(10,6))\n",
    "plt.plot(train, color = 'blue', label = 'train')\n",
    "plt.plot(test, color = 'orange', label = 'test')\n",
    "plt.plot(preds, color = 'green', label = 'prediction')\n",
    "plt.title(label = 'SARIMA(1, 1, 0) x (2, 2, 0, 51) Predictions', fontsize=16)\n",
    "plt.legend(fontsize = 20)\n",
    "plt.show();"
   ]
  },
  {
   "cell_type": "code",
   "execution_count": 12,
   "metadata": {},
   "outputs": [],
   "source": [
    "resids = list(test - preds)"
   ]
  },
  {
   "cell_type": "code",
   "execution_count": 13,
   "metadata": {},
   "outputs": [
    {
     "ename": "NameError",
     "evalue": "name 'evaluate' is not defined",
     "output_type": "error",
     "traceback": [
      "\u001b[0;31m---------------------------------------------------------------------------\u001b[0m",
      "\u001b[0;31mNameError\u001b[0m                                 Traceback (most recent call last)",
      "\u001b[0;32m<ipython-input-13-a58a070cd2eb>\u001b[0m in \u001b[0;36m<module>\u001b[0;34m\u001b[0m\n\u001b[0;32m----> 1\u001b[0;31m \u001b[0mevaluate\u001b[0m\u001b[0;34m(\u001b[0m\u001b[0mtest\u001b[0m\u001b[0;34m,\u001b[0m \u001b[0mresids\u001b[0m\u001b[0;34m)\u001b[0m\u001b[0;34m\u001b[0m\u001b[0;34m\u001b[0m\u001b[0m\n\u001b[0m",
      "\u001b[0;31mNameError\u001b[0m: name 'evaluate' is not defined"
     ]
    }
   ],
   "source": [
    "evaluate(test, resids)"
   ]
  },
  {
   "cell_type": "markdown",
   "metadata": {},
   "source": [
    "# SARIMAX"
   ]
  },
  {
   "cell_type": "code",
   "execution_count": null,
   "metadata": {},
   "outputs": [],
   "source": [
    "housing_df = pd.read_csv(\"./homeless/nyc_housing_112019.csv\")"
   ]
  },
  {
   "cell_type": "code",
   "execution_count": null,
   "metadata": {},
   "outputs": [],
   "source": [
    "# turn housing_df into timesereis data\n",
    "housing_df.index = pd.to_datetime(housing_df['project_start_date'], format = \"%Y/%m/%d\")"
   ]
  },
  {
   "cell_type": "code",
   "execution_count": null,
   "metadata": {},
   "outputs": [],
   "source": [
    "housing_df = housing_df.drop(\"project_start_date\", axis = 1)"
   ]
  },
  {
   "cell_type": "code",
   "execution_count": null,
   "metadata": {},
   "outputs": [],
   "source": [
    "housing_df.shape"
   ]
  },
  {
   "cell_type": "markdown",
   "metadata": {},
   "source": [
    "- `reporting_construction_type`: Preserve counts might be important?\n",
    "- `extended_affordability_status`: The Extended Affordability Only field indicates whether the project is considered to be Extended Affordability. An extended affordability project involves no construction, but secures an extended or new regulatory agreement. All extended affordability projects have a ‘reporting construction type’ of ‘preservation.’\n",
    "- `extremely_low_income_units`: Extremely Low Income Units are units with rents that are affordable to households earning 0 to 30% of the area median income (AMI).\n",
    "- `very_low_income_units`: Very Low Income Units are units with rents that are affordable to households earning 31 to 50% of the area median income (AMI).\n",
    "- `low_income_units`: Low Income Units are units with rents that are affordable to households earning 51 to 80% of the area median income (AMI).\n",
    "- `moderate_income_units`: Moderate Income Units are units with rents that are affordable to households earning 81 to 120% of the area median income (AMI).\n",
    "- `middle_income_units`: Middle Income Units are units with rents that are affordable to households earning 121 to 165% of the area median income (AMI).\n",
    "- `all_counted_units`: The Counted Units field indicates the total number of affordable, regulated units counted towards the Housing New York plan that are in the building.\n",
    "- `total_units`: The Total Units field indicates the total number of units, affordable and market rate, in each building."
   ]
  },
  {
   "cell_type": "code",
   "execution_count": null,
   "metadata": {},
   "outputs": [],
   "source": [
    "# turn housing_df into weekly times series data\n",
    "w_housing = housing_df.resample('W').mean()"
   ]
  },
  {
   "cell_type": "code",
   "execution_count": null,
   "metadata": {},
   "outputs": [],
   "source": [
    "def plot_series(df, cols=None, title='Title', xlab=None, ylab=None):\n",
    "    \n",
    "    \"\"\"\n",
    "    from lecture 9.02\"\"\"\n",
    "    \n",
    "    # Set figure size to be (18, 9).\n",
    "    plt.figure(figsize=(18,9))\n",
    "    \n",
    "    # Iterate through each column name.\n",
    "    for col in cols:\n",
    "        \n",
    "        # Generate a line plot of the column name.\n",
    "        # You only have to specify Y, since our\n",
    "        # index will be a datetime index.\n",
    "        plt.plot(df[col], label = str(col))\n",
    "#         plt.title(str(col), fontsize=26)\n",
    "        \n",
    "    # Generate title and labels.\n",
    "    \n",
    "    plt.xlabel(xlab, fontsize=20)\n",
    "    plt.ylabel(ylab, fontsize=20)\n",
    "    \n",
    "    # Enlarge tick marks.\n",
    "    plt.xticks(fontsize=18)\n",
    "    plt.yticks(fontsize=18);\n",
    "    plt.legend()"
   ]
  },
  {
   "cell_type": "code",
   "execution_count": null,
   "metadata": {},
   "outputs": [],
   "source": [
    "n = range(len(w_housing.columns))\n",
    "\n",
    "plot_series(w_housing , cols = w_housing.columns[n])"
   ]
  },
  {
   "cell_type": "code",
   "execution_count": null,
   "metadata": {},
   "outputs": [],
   "source": [
    "plot_series(w_housing , cols = ['all_counted_units'])"
   ]
  },
  {
   "cell_type": "markdown",
   "metadata": {},
   "source": [
    "- It seems like peaks appear in simliar places. `all_counted_units` however seems to have the biggest peaks. Therefore, `all_counted_units` column will be tested in SARIMAX model"
   ]
  },
  {
   "cell_type": "code",
   "execution_count": null,
   "metadata": {},
   "outputs": [],
   "source": [
    "daily_housing = housing_df.resample('D').sum()"
   ]
  },
  {
   "cell_type": "code",
   "execution_count": null,
   "metadata": {
    "scrolled": false
   },
   "outputs": [],
   "source": [
    "daily_comb = daily_df.join(daily_housing)"
   ]
  },
  {
   "cell_type": "markdown",
   "metadata": {},
   "source": [
    "### Using all housing data by turning unavailable data = 0"
   ]
  },
  {
   "cell_type": "code",
   "execution_count": null,
   "metadata": {},
   "outputs": [],
   "source": [
    "weekly_comb = daily_comb.resample('W').mean().fillna(0)"
   ]
  },
  {
   "cell_type": "code",
   "execution_count": null,
   "metadata": {},
   "outputs": [],
   "source": [
    "weekly_comb"
   ]
  },
  {
   "cell_type": "code",
   "execution_count": null,
   "metadata": {},
   "outputs": [],
   "source": [
    "plot_series(weekly_comb , cols = ['total_individuals_in_shelter'])"
   ]
  },
  {
   "cell_type": "code",
   "execution_count": null,
   "metadata": {},
   "outputs": [],
   "source": [
    "plot_series(weekly_comb , cols = ['all_counted_units'])"
   ]
  },
  {
   "cell_type": "code",
   "execution_count": null,
   "metadata": {},
   "outputs": [],
   "source": [
    "train, test = train_test_split(weekly_comb[['total_individuals_in_shelter', 'all_counted_units']],\n",
    "                               test_size = 0.25,\n",
    "                               shuffle = False,\n",
    "                               random_state = 274)"
   ]
  },
  {
   "cell_type": "code",
   "execution_count": null,
   "metadata": {},
   "outputs": [],
   "source": [
    "# Fit a SARIMA(0, 1, 0) x (2, 2, 0, 52) model.\n",
    "\n",
    "sarima = SARIMAX(endog = train.iloc[:,0],\n",
    "                 exog = train.iloc[:,1], \n",
    "                 order = (0, 1, 0),\n",
    "                 seasonal_order = (2, 2, 0, 52)) # (P, D, Q, S)\n",
    "\n",
    "# Fit SARIMA model.\n",
    "model = sarima.fit()\n",
    "\n",
    "# Generate predictions based on test set.\n",
    "preds = model.predict(start=test.index[0], # X_test data range\n",
    "                      end=test.index[-1],\n",
    "                      exog = test.iloc[:,[1]])"
   ]
  },
  {
   "cell_type": "code",
   "execution_count": null,
   "metadata": {},
   "outputs": [],
   "source": [
    "# Evaluate predictions.\n",
    "print(mean_squared_error(test.iloc[:,0], preds))\n",
    "print(np.sqrt(mean_squared_error(test.iloc[:,0], preds)))\n",
    "# Plot data.\n",
    "plt.figure(figsize=(10,6))\n",
    "plt.plot(train.iloc[:,0], color = 'blue', label = 'train')\n",
    "plt.plot(test.iloc[:,0], color = 'orange', label = 'test')\n",
    "plt.plot(preds, color = 'green', label = 'prediction')\n",
    "plt.title(label = 'SARIMA(1, 1, 0) x (2, 2, 0, 52) Predictions', fontsize=16)\n",
    "plt.legend(fontsize = 20)\n",
    "plt.show();"
   ]
  },
  {
   "cell_type": "markdown",
   "metadata": {},
   "source": [
    "### Not using unavailable housing data"
   ]
  },
  {
   "cell_type": "code",
   "execution_count": null,
   "metadata": {},
   "outputs": [],
   "source": [
    "daily_comb = daily_housing.join(daily_df)"
   ]
  },
  {
   "cell_type": "code",
   "execution_count": null,
   "metadata": {},
   "outputs": [],
   "source": [
    "weekly_comb = daily_comb.resample('W').mean()"
   ]
  },
  {
   "cell_type": "code",
   "execution_count": null,
   "metadata": {},
   "outputs": [],
   "source": [
    "weekly_comb.to_csv('./homeless/weekly_comb.csv')"
   ]
  },
  {
   "cell_type": "code",
   "execution_count": null,
   "metadata": {},
   "outputs": [],
   "source": [
    "train, test = train_test_split(weekly_comb[['total_individuals_in_shelter', 'all_counted_units']],\n",
    "                               test_size = 0.25,\n",
    "                               shuffle = False,\n",
    "                               random_state = 274)"
   ]
  },
  {
   "cell_type": "code",
   "execution_count": null,
   "metadata": {},
   "outputs": [],
   "source": [
    "# Fit a SARIMA(0, 1, 0) x (2, 2, 0, 52) model.\n",
    "\n",
    "sarima = SARIMAX(endog = train.iloc[:,0],\n",
    "                 exog = train.iloc[:,1], \n",
    "                 order = (0, 1, 0),\n",
    "                 seasonal_order = (2, 2, 0, 51)) # (P, D, Q, S)\n",
    "\n",
    "# Fit SARIMA model.\n",
    "model = sarima.fit()\n",
    "\n",
    "# Generate predictions based on test set.\n",
    "preds = model.predict(start=test.index[0], # X_test data range\n",
    "                      end=test.index[-1],\n",
    "                      exog = test.iloc[:,[1]])"
   ]
  },
  {
   "cell_type": "code",
   "execution_count": null,
   "metadata": {},
   "outputs": [],
   "source": [
    "# Evaluate predictions.\n",
    "print(mean_squared_error(test.iloc[:,0], preds))\n",
    "print(np.sqrt(mean_squared_error(test.iloc[:,0], preds)))\n",
    "# Plot data.\n",
    "plt.figure(figsize=(10,6))\n",
    "plt.plot(train.iloc[:,0], color = 'blue', label = 'train')\n",
    "plt.plot(test.iloc[:,0], color = 'orange', label = 'test')\n",
    "plt.plot(preds, color = 'green', label = 'prediction')\n",
    "plt.title(label = 'SARIMA(1, 1, 0) x (2, 2, 0, 51) Predictions', fontsize=16)\n",
    "plt.legend(fontsize = 20)\n",
    "plt.show();"
   ]
  }
 ],
 "metadata": {
  "kernelspec": {
   "display_name": "Python 3",
   "language": "python",
   "name": "python3"
  },
  "language_info": {
   "codemirror_mode": {
    "name": "ipython",
    "version": 3
   },
   "file_extension": ".py",
   "mimetype": "text/x-python",
   "name": "python",
   "nbconvert_exporter": "python",
   "pygments_lexer": "ipython3",
   "version": "3.6.9"
  }
 },
 "nbformat": 4,
 "nbformat_minor": 2
}
