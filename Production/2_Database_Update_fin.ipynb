{
 "cells": [
  {
   "cell_type": "markdown",
   "metadata": {},
   "source": [
    "# Imports"
   ]
  },
  {
   "cell_type": "code",
   "execution_count": 2,
   "metadata": {},
   "outputs": [],
   "source": [
    "import json\n",
    "import pandas as pd\n",
    "import numpy as np\n",
    "import sqlalchemy as db\n",
    "import statsmodels.api as sm\n",
    "\n",
    "from sodapy import Socrata\n",
    "\n",
    "from pandas.plotting import register_matplotlib_converters\n",
    "register_matplotlib_converters()"
   ]
  },
  {
   "cell_type": "markdown",
   "metadata": {},
   "source": [
    "# Data Scraping\n",
    "\n",
    "### Data: DHS Daily Report\n",
    "- Source: https://data.cityofnewyork.us/Social-Services/DHS-Daily-Report/k46n-sa2m\n",
    "\n",
    "This dataset includes the daily number of individuals residing in the Department of Homeless Services (DHS) shelter system and the daily number of families applying to the DHS shelter system.\n",
    "\n",
    "---\n",
    "\n",
    "### 1. Authorization\n",
    "\n",
    "- **Step 1** Save your credential as following in a json file\n",
    "\n",
    "```\n",
    "{'app_token': 'Enter your app token here'}```\n",
    "\n",
    "- **Step 2** Name the json file \"creds.json\" and save it in the directory this jupyter notebook is located."
   ]
  },
  {
   "cell_type": "code",
   "execution_count": 3,
   "metadata": {},
   "outputs": [],
   "source": [
    "# Read \"creds.json\"\n",
    "creds_file = open('./creds.json', 'r')\n",
    "socrata_creds = json.loads(creds_file.read())"
   ]
  },
  {
   "cell_type": "code",
   "execution_count": 4,
   "metadata": {},
   "outputs": [],
   "source": [
    "# Sign in using your app token\n",
    "client = Socrata(\"data.cityofnewyork.us\", socrata_creds['app_token'])"
   ]
  },
  {
   "cell_type": "markdown",
   "metadata": {},
   "source": [
    "### 2. Return the dataset as Pandas Dataframe\n",
    "Use Socrata Open Data API (SODA) to return the dataset as dictionary and convert it into Pandas Dataframe.\n",
    "SODA provides programmatic access to NYC OpenData datasets.\n",
    "- Source: https://dev.socrata.com/foundry/data.cityofnewyork.us/k46n-sa2m"
   ]
  },
  {
   "cell_type": "code",
   "execution_count": 5,
   "metadata": {},
   "outputs": [],
   "source": [
    "# Get the DHS Daily Report dataset using \"Dataset Identifier\"\n",
    "results = client.get(\"k46n-sa2m\", limit = 10_000);\n",
    "\n",
    "# Convert to pandas DataFrame\n",
    "daily_df = pd.DataFrame.from_records(results);"
   ]
  },
  {
   "cell_type": "markdown",
   "metadata": {},
   "source": [
    "# Data Wrangling"
   ]
  },
  {
   "cell_type": "code",
   "execution_count": 7,
   "metadata": {
    "scrolled": false
   },
   "outputs": [
    {
     "name": "stdout",
     "output_type": "stream",
     "text": [
      "<class 'pandas.core.frame.DataFrame'>\n",
      "RangeIndex: 2230 entries, 0 to 2229\n",
      "Data columns (total 13 columns):\n",
      "date_of_census                                             2230 non-null object\n",
      "total_adults_in_shelter                                    2230 non-null object\n",
      "total_children_in_shelter                                  2230 non-null object\n",
      "total_individuals_in_shelter                               2230 non-null object\n",
      "single_adult_men_in_shelter                                2230 non-null object\n",
      "single_adult_women_in_shelter                              2230 non-null object\n",
      "total_single_adults_in_shelter                             2230 non-null object\n",
      "families_with_children_in_shelter                          2230 non-null object\n",
      "adults_in_families_with_children_in_shelter                2230 non-null object\n",
      "children_in_families_with_children_in_shelter              2230 non-null object\n",
      "total_individuals_in_families_with_children_in_shelter_    2230 non-null object\n",
      "adult_families_in_shelter                                  2230 non-null object\n",
      "individuals_in_adult_families_in_shelter                   2230 non-null object\n",
      "dtypes: object(13)\n",
      "memory usage: 226.6+ KB\n"
     ]
    }
   ],
   "source": [
    "daily_df.info()"
   ]
  },
  {
   "cell_type": "markdown",
   "metadata": {},
   "source": [
    "- The type of all columns is 'object'. Convert `date_of_census` column type to datetime and rest of the columns type to numerical in order to make timeseries analysis easier.\n",
    "- No null value observed."
   ]
  },
  {
   "cell_type": "code",
   "execution_count": 8,
   "metadata": {},
   "outputs": [],
   "source": [
    "# Convert `data_of_census` column type to datetime and set the column as index.\n",
    "daily_df['date_of_census'] = daily_df['date_of_census'].apply(lambda x: x.split('T')[0])\n",
    "daily_df.index = pd.to_datetime(daily_df['date_of_census'], format = \"%Y/%m/%d\")\n",
    "daily_df = daily_df.drop('date_of_census', axis = 1)"
   ]
  },
  {
   "cell_type": "code",
   "execution_count": 9,
   "metadata": {},
   "outputs": [],
   "source": [
    "# Convert the type of all columns to numeric\n",
    "daily_df = daily_df.apply(pd.to_numeric)"
   ]
  },
  {
   "cell_type": "code",
   "execution_count": 10,
   "metadata": {},
   "outputs": [
    {
     "name": "stdout",
     "output_type": "stream",
     "text": [
      "<class 'pandas.core.frame.DataFrame'>\n",
      "DatetimeIndex: 2230 entries, 2019-11-30 to 2013-08-21\n",
      "Data columns (total 12 columns):\n",
      "total_adults_in_shelter                                    2230 non-null int64\n",
      "total_children_in_shelter                                  2230 non-null int64\n",
      "total_individuals_in_shelter                               2230 non-null int64\n",
      "single_adult_men_in_shelter                                2230 non-null int64\n",
      "single_adult_women_in_shelter                              2230 non-null int64\n",
      "total_single_adults_in_shelter                             2230 non-null int64\n",
      "families_with_children_in_shelter                          2230 non-null int64\n",
      "adults_in_families_with_children_in_shelter                2230 non-null int64\n",
      "children_in_families_with_children_in_shelter              2230 non-null int64\n",
      "total_individuals_in_families_with_children_in_shelter_    2230 non-null int64\n",
      "adult_families_in_shelter                                  2230 non-null int64\n",
      "individuals_in_adult_families_in_shelter                   2230 non-null int64\n",
      "dtypes: int64(12)\n",
      "memory usage: 226.5 KB\n"
     ]
    }
   ],
   "source": [
    "# Check and see the data cleaning is correctly executed.\n",
    "daily_df.info()"
   ]
  },
  {
   "cell_type": "markdown",
   "metadata": {},
   "source": [
    "- The index of the dataset is now 'DatetimeIndex' and all columns are numeric.\n",
    "- No null vlaue\n",
    "\n",
    "---"
   ]
  },
  {
   "cell_type": "code",
   "execution_count": 11,
   "metadata": {
    "scrolled": false
   },
   "outputs": [
    {
     "data": {
      "text/html": [
       "<div>\n",
       "<style scoped>\n",
       "    .dataframe tbody tr th:only-of-type {\n",
       "        vertical-align: middle;\n",
       "    }\n",
       "\n",
       "    .dataframe tbody tr th {\n",
       "        vertical-align: top;\n",
       "    }\n",
       "\n",
       "    .dataframe thead th {\n",
       "        text-align: right;\n",
       "    }\n",
       "</style>\n",
       "<table border=\"1\" class=\"dataframe\">\n",
       "  <thead>\n",
       "    <tr style=\"text-align: right;\">\n",
       "      <th></th>\n",
       "      <th>total_adults_in_shelter</th>\n",
       "      <th>total_children_in_shelter</th>\n",
       "      <th>total_individuals_in_shelter</th>\n",
       "      <th>single_adult_men_in_shelter</th>\n",
       "      <th>single_adult_women_in_shelter</th>\n",
       "      <th>total_single_adults_in_shelter</th>\n",
       "      <th>families_with_children_in_shelter</th>\n",
       "      <th>adults_in_families_with_children_in_shelter</th>\n",
       "      <th>children_in_families_with_children_in_shelter</th>\n",
       "      <th>total_individuals_in_families_with_children_in_shelter_</th>\n",
       "      <th>adult_families_in_shelter</th>\n",
       "      <th>individuals_in_adult_families_in_shelter</th>\n",
       "    </tr>\n",
       "    <tr>\n",
       "      <th>date_of_census</th>\n",
       "      <th></th>\n",
       "      <th></th>\n",
       "      <th></th>\n",
       "      <th></th>\n",
       "      <th></th>\n",
       "      <th></th>\n",
       "      <th></th>\n",
       "      <th></th>\n",
       "      <th></th>\n",
       "      <th></th>\n",
       "      <th></th>\n",
       "      <th></th>\n",
       "    </tr>\n",
       "  </thead>\n",
       "  <tbody>\n",
       "    <tr>\n",
       "      <th>2019-11-30</th>\n",
       "      <td>38214</td>\n",
       "      <td>21695</td>\n",
       "      <td>59909</td>\n",
       "      <td>12117</td>\n",
       "      <td>4565</td>\n",
       "      <td>16682</td>\n",
       "      <td>12188</td>\n",
       "      <td>16302</td>\n",
       "      <td>21695</td>\n",
       "      <td>37997</td>\n",
       "      <td>2486</td>\n",
       "      <td>5230</td>\n",
       "    </tr>\n",
       "    <tr>\n",
       "      <th>2019-11-29</th>\n",
       "      <td>38152</td>\n",
       "      <td>21662</td>\n",
       "      <td>59814</td>\n",
       "      <td>12062</td>\n",
       "      <td>4559</td>\n",
       "      <td>16621</td>\n",
       "      <td>12171</td>\n",
       "      <td>16277</td>\n",
       "      <td>21662</td>\n",
       "      <td>37939</td>\n",
       "      <td>2497</td>\n",
       "      <td>5254</td>\n",
       "    </tr>\n",
       "    <tr>\n",
       "      <th>2019-11-28</th>\n",
       "      <td>38168</td>\n",
       "      <td>21706</td>\n",
       "      <td>59874</td>\n",
       "      <td>12022</td>\n",
       "      <td>4587</td>\n",
       "      <td>16609</td>\n",
       "      <td>12197</td>\n",
       "      <td>16308</td>\n",
       "      <td>21706</td>\n",
       "      <td>38014</td>\n",
       "      <td>2496</td>\n",
       "      <td>5251</td>\n",
       "    </tr>\n",
       "    <tr>\n",
       "      <th>2019-11-27</th>\n",
       "      <td>38249</td>\n",
       "      <td>21698</td>\n",
       "      <td>59947</td>\n",
       "      <td>12130</td>\n",
       "      <td>4591</td>\n",
       "      <td>16721</td>\n",
       "      <td>12189</td>\n",
       "      <td>16301</td>\n",
       "      <td>21698</td>\n",
       "      <td>37999</td>\n",
       "      <td>2483</td>\n",
       "      <td>5227</td>\n",
       "    </tr>\n",
       "    <tr>\n",
       "      <th>2019-11-26</th>\n",
       "      <td>38388</td>\n",
       "      <td>21728</td>\n",
       "      <td>60116</td>\n",
       "      <td>12213</td>\n",
       "      <td>4616</td>\n",
       "      <td>16829</td>\n",
       "      <td>12198</td>\n",
       "      <td>16321</td>\n",
       "      <td>21728</td>\n",
       "      <td>38049</td>\n",
       "      <td>2488</td>\n",
       "      <td>5238</td>\n",
       "    </tr>\n",
       "  </tbody>\n",
       "</table>\n",
       "</div>"
      ],
      "text/plain": [
       "                total_adults_in_shelter  total_children_in_shelter  \\\n",
       "date_of_census                                                       \n",
       "2019-11-30                        38214                      21695   \n",
       "2019-11-29                        38152                      21662   \n",
       "2019-11-28                        38168                      21706   \n",
       "2019-11-27                        38249                      21698   \n",
       "2019-11-26                        38388                      21728   \n",
       "\n",
       "                total_individuals_in_shelter  single_adult_men_in_shelter  \\\n",
       "date_of_census                                                              \n",
       "2019-11-30                             59909                        12117   \n",
       "2019-11-29                             59814                        12062   \n",
       "2019-11-28                             59874                        12022   \n",
       "2019-11-27                             59947                        12130   \n",
       "2019-11-26                             60116                        12213   \n",
       "\n",
       "                single_adult_women_in_shelter  total_single_adults_in_shelter  \\\n",
       "date_of_census                                                                  \n",
       "2019-11-30                               4565                           16682   \n",
       "2019-11-29                               4559                           16621   \n",
       "2019-11-28                               4587                           16609   \n",
       "2019-11-27                               4591                           16721   \n",
       "2019-11-26                               4616                           16829   \n",
       "\n",
       "                families_with_children_in_shelter  \\\n",
       "date_of_census                                      \n",
       "2019-11-30                                  12188   \n",
       "2019-11-29                                  12171   \n",
       "2019-11-28                                  12197   \n",
       "2019-11-27                                  12189   \n",
       "2019-11-26                                  12198   \n",
       "\n",
       "                adults_in_families_with_children_in_shelter  \\\n",
       "date_of_census                                                \n",
       "2019-11-30                                            16302   \n",
       "2019-11-29                                            16277   \n",
       "2019-11-28                                            16308   \n",
       "2019-11-27                                            16301   \n",
       "2019-11-26                                            16321   \n",
       "\n",
       "                children_in_families_with_children_in_shelter  \\\n",
       "date_of_census                                                  \n",
       "2019-11-30                                              21695   \n",
       "2019-11-29                                              21662   \n",
       "2019-11-28                                              21706   \n",
       "2019-11-27                                              21698   \n",
       "2019-11-26                                              21728   \n",
       "\n",
       "                total_individuals_in_families_with_children_in_shelter_  \\\n",
       "date_of_census                                                            \n",
       "2019-11-30                                                  37997         \n",
       "2019-11-29                                                  37939         \n",
       "2019-11-28                                                  38014         \n",
       "2019-11-27                                                  37999         \n",
       "2019-11-26                                                  38049         \n",
       "\n",
       "                adult_families_in_shelter  \\\n",
       "date_of_census                              \n",
       "2019-11-30                           2486   \n",
       "2019-11-29                           2497   \n",
       "2019-11-28                           2496   \n",
       "2019-11-27                           2483   \n",
       "2019-11-26                           2488   \n",
       "\n",
       "                individuals_in_adult_families_in_shelter  \n",
       "date_of_census                                            \n",
       "2019-11-30                                          5230  \n",
       "2019-11-29                                          5254  \n",
       "2019-11-28                                          5251  \n",
       "2019-11-27                                          5227  \n",
       "2019-11-26                                          5238  "
      ]
     },
     "execution_count": 11,
     "metadata": {},
     "output_type": "execute_result"
    }
   ],
   "source": [
    "daily_df.head()"
   ]
  },
  {
   "cell_type": "code",
   "execution_count": 12,
   "metadata": {},
   "outputs": [
    {
     "data": {
      "text/html": [
       "<div>\n",
       "<style scoped>\n",
       "    .dataframe tbody tr th:only-of-type {\n",
       "        vertical-align: middle;\n",
       "    }\n",
       "\n",
       "    .dataframe tbody tr th {\n",
       "        vertical-align: top;\n",
       "    }\n",
       "\n",
       "    .dataframe thead th {\n",
       "        text-align: right;\n",
       "    }\n",
       "</style>\n",
       "<table border=\"1\" class=\"dataframe\">\n",
       "  <thead>\n",
       "    <tr style=\"text-align: right;\">\n",
       "      <th></th>\n",
       "      <th>total_adults_in_shelter</th>\n",
       "      <th>total_children_in_shelter</th>\n",
       "      <th>total_individuals_in_shelter</th>\n",
       "      <th>single_adult_men_in_shelter</th>\n",
       "      <th>single_adult_women_in_shelter</th>\n",
       "      <th>total_single_adults_in_shelter</th>\n",
       "      <th>families_with_children_in_shelter</th>\n",
       "      <th>adults_in_families_with_children_in_shelter</th>\n",
       "      <th>children_in_families_with_children_in_shelter</th>\n",
       "      <th>total_individuals_in_families_with_children_in_shelter_</th>\n",
       "      <th>adult_families_in_shelter</th>\n",
       "      <th>individuals_in_adult_families_in_shelter</th>\n",
       "    </tr>\n",
       "    <tr>\n",
       "      <th>date_of_census</th>\n",
       "      <th></th>\n",
       "      <th></th>\n",
       "      <th></th>\n",
       "      <th></th>\n",
       "      <th></th>\n",
       "      <th></th>\n",
       "      <th></th>\n",
       "      <th></th>\n",
       "      <th></th>\n",
       "      <th></th>\n",
       "      <th></th>\n",
       "      <th></th>\n",
       "    </tr>\n",
       "  </thead>\n",
       "  <tbody>\n",
       "    <tr>\n",
       "      <th>2013-08-25</th>\n",
       "      <td>28342.800000</td>\n",
       "      <td>21334.400000</td>\n",
       "      <td>49677.200000</td>\n",
       "      <td>7184.200000</td>\n",
       "      <td>2698.200000</td>\n",
       "      <td>9882.400000</td>\n",
       "      <td>10283.200000</td>\n",
       "      <td>14636.800000</td>\n",
       "      <td>21334.400000</td>\n",
       "      <td>35971.200000</td>\n",
       "      <td>1801.200000</td>\n",
       "      <td>3823.600000</td>\n",
       "    </tr>\n",
       "    <tr>\n",
       "      <th>2013-09-01</th>\n",
       "      <td>28327.285714</td>\n",
       "      <td>21361.714286</td>\n",
       "      <td>49689.000000</td>\n",
       "      <td>7117.000000</td>\n",
       "      <td>2690.428571</td>\n",
       "      <td>9807.428571</td>\n",
       "      <td>10296.857143</td>\n",
       "      <td>14671.857143</td>\n",
       "      <td>21361.714286</td>\n",
       "      <td>36033.571429</td>\n",
       "      <td>1811.428571</td>\n",
       "      <td>3848.000000</td>\n",
       "    </tr>\n",
       "    <tr>\n",
       "      <th>2013-09-08</th>\n",
       "      <td>28381.000000</td>\n",
       "      <td>21448.600000</td>\n",
       "      <td>49829.600000</td>\n",
       "      <td>7100.800000</td>\n",
       "      <td>2698.000000</td>\n",
       "      <td>9798.800000</td>\n",
       "      <td>10331.800000</td>\n",
       "      <td>14722.000000</td>\n",
       "      <td>21448.600000</td>\n",
       "      <td>36170.600000</td>\n",
       "      <td>1818.000000</td>\n",
       "      <td>3860.200000</td>\n",
       "    </tr>\n",
       "    <tr>\n",
       "      <th>2013-09-15</th>\n",
       "      <td>28597.285714</td>\n",
       "      <td>21641.428571</td>\n",
       "      <td>50238.714286</td>\n",
       "      <td>7144.000000</td>\n",
       "      <td>2747.714286</td>\n",
       "      <td>9891.714286</td>\n",
       "      <td>10414.857143</td>\n",
       "      <td>14836.428571</td>\n",
       "      <td>21641.428571</td>\n",
       "      <td>36477.857143</td>\n",
       "      <td>1823.142857</td>\n",
       "      <td>3869.142857</td>\n",
       "    </tr>\n",
       "    <tr>\n",
       "      <th>2013-09-22</th>\n",
       "      <td>28729.285714</td>\n",
       "      <td>21694.000000</td>\n",
       "      <td>50423.285714</td>\n",
       "      <td>7213.285714</td>\n",
       "      <td>2771.285714</td>\n",
       "      <td>9984.571429</td>\n",
       "      <td>10445.714286</td>\n",
       "      <td>14879.857143</td>\n",
       "      <td>21694.000000</td>\n",
       "      <td>36573.857143</td>\n",
       "      <td>1821.428571</td>\n",
       "      <td>3864.857143</td>\n",
       "    </tr>\n",
       "  </tbody>\n",
       "</table>\n",
       "</div>"
      ],
      "text/plain": [
       "                total_adults_in_shelter  total_children_in_shelter  \\\n",
       "date_of_census                                                       \n",
       "2013-08-25                 28342.800000               21334.400000   \n",
       "2013-09-01                 28327.285714               21361.714286   \n",
       "2013-09-08                 28381.000000               21448.600000   \n",
       "2013-09-15                 28597.285714               21641.428571   \n",
       "2013-09-22                 28729.285714               21694.000000   \n",
       "\n",
       "                total_individuals_in_shelter  single_adult_men_in_shelter  \\\n",
       "date_of_census                                                              \n",
       "2013-08-25                      49677.200000                  7184.200000   \n",
       "2013-09-01                      49689.000000                  7117.000000   \n",
       "2013-09-08                      49829.600000                  7100.800000   \n",
       "2013-09-15                      50238.714286                  7144.000000   \n",
       "2013-09-22                      50423.285714                  7213.285714   \n",
       "\n",
       "                single_adult_women_in_shelter  total_single_adults_in_shelter  \\\n",
       "date_of_census                                                                  \n",
       "2013-08-25                        2698.200000                     9882.400000   \n",
       "2013-09-01                        2690.428571                     9807.428571   \n",
       "2013-09-08                        2698.000000                     9798.800000   \n",
       "2013-09-15                        2747.714286                     9891.714286   \n",
       "2013-09-22                        2771.285714                     9984.571429   \n",
       "\n",
       "                families_with_children_in_shelter  \\\n",
       "date_of_census                                      \n",
       "2013-08-25                           10283.200000   \n",
       "2013-09-01                           10296.857143   \n",
       "2013-09-08                           10331.800000   \n",
       "2013-09-15                           10414.857143   \n",
       "2013-09-22                           10445.714286   \n",
       "\n",
       "                adults_in_families_with_children_in_shelter  \\\n",
       "date_of_census                                                \n",
       "2013-08-25                                     14636.800000   \n",
       "2013-09-01                                     14671.857143   \n",
       "2013-09-08                                     14722.000000   \n",
       "2013-09-15                                     14836.428571   \n",
       "2013-09-22                                     14879.857143   \n",
       "\n",
       "                children_in_families_with_children_in_shelter  \\\n",
       "date_of_census                                                  \n",
       "2013-08-25                                       21334.400000   \n",
       "2013-09-01                                       21361.714286   \n",
       "2013-09-08                                       21448.600000   \n",
       "2013-09-15                                       21641.428571   \n",
       "2013-09-22                                       21694.000000   \n",
       "\n",
       "                total_individuals_in_families_with_children_in_shelter_  \\\n",
       "date_of_census                                                            \n",
       "2013-08-25                                           35971.200000         \n",
       "2013-09-01                                           36033.571429         \n",
       "2013-09-08                                           36170.600000         \n",
       "2013-09-15                                           36477.857143         \n",
       "2013-09-22                                           36573.857143         \n",
       "\n",
       "                adult_families_in_shelter  \\\n",
       "date_of_census                              \n",
       "2013-08-25                    1801.200000   \n",
       "2013-09-01                    1811.428571   \n",
       "2013-09-08                    1818.000000   \n",
       "2013-09-15                    1823.142857   \n",
       "2013-09-22                    1821.428571   \n",
       "\n",
       "                individuals_in_adult_families_in_shelter  \n",
       "date_of_census                                            \n",
       "2013-08-25                                   3823.600000  \n",
       "2013-09-01                                   3848.000000  \n",
       "2013-09-08                                   3860.200000  \n",
       "2013-09-15                                   3869.142857  \n",
       "2013-09-22                                   3864.857143  "
      ]
     },
     "execution_count": 12,
     "metadata": {},
     "output_type": "execute_result"
    }
   ],
   "source": [
    "daily_df.resample('W').mean().head()"
   ]
  },
  {
   "cell_type": "code",
   "execution_count": 14,
   "metadata": {},
   "outputs": [
    {
     "data": {
      "text/plain": [
       "total_adults_in_shelter                                    0\n",
       "total_children_in_shelter                                  0\n",
       "total_individuals_in_shelter                               0\n",
       "single_adult_men_in_shelter                                0\n",
       "single_adult_women_in_shelter                              0\n",
       "total_single_adults_in_shelter                             0\n",
       "families_with_children_in_shelter                          0\n",
       "adults_in_families_with_children_in_shelter                0\n",
       "children_in_families_with_children_in_shelter              0\n",
       "total_individuals_in_families_with_children_in_shelter_    0\n",
       "adult_families_in_shelter                                  0\n",
       "individuals_in_adult_families_in_shelter                   0\n",
       "dtype: int64"
      ]
     },
     "execution_count": 14,
     "metadata": {},
     "output_type": "execute_result"
    }
   ],
   "source": [
    "daily_df.resample('W').mean().isnull().sum()"
   ]
  },
  {
   "cell_type": "code",
   "execution_count": 15,
   "metadata": {},
   "outputs": [],
   "source": [
    "weekly_df = daily_df.resample('W').mean()"
   ]
  },
  {
   "cell_type": "code",
   "execution_count": 16,
   "metadata": {},
   "outputs": [
    {
     "data": {
      "text/plain": [
       "DatetimeIndex(['2013-08-25', '2013-09-01', '2013-09-08', '2013-09-15',\n",
       "               '2013-09-22', '2013-09-29', '2013-10-06', '2013-10-13',\n",
       "               '2013-10-20', '2013-10-27',\n",
       "               ...\n",
       "               '2019-09-29', '2019-10-06', '2019-10-13', '2019-10-20',\n",
       "               '2019-10-27', '2019-11-03', '2019-11-10', '2019-11-17',\n",
       "               '2019-11-24', '2019-12-01'],\n",
       "              dtype='datetime64[ns]', name='date_of_census', length=328, freq='W-SUN')"
      ]
     },
     "execution_count": 16,
     "metadata": {},
     "output_type": "execute_result"
    }
   ],
   "source": [
    "weekly_df.index"
   ]
  },
  {
   "cell_type": "markdown",
   "metadata": {},
   "source": [
    "# Database Contruction\n",
    "\n",
    "PostgreSQL database was contructed using Heroku.\n",
    "\n",
    "- Source: https://www.heroku.com/postgres\n",
    "\n",
    "---\n",
    "### Sign in\n",
    "\n",
    "- **Step 1** Save your PostgreSQL URL as following in a json file\n",
    "\n",
    "```\n",
    "{\"url\":\"Enter your PostgreSQL URL here\"}\n",
    "```\n",
    "\n",
    "- **Step 2** Name the json file \"database_creds.json\" and save it in the directory this jupyter notebook is located."
   ]
  },
  {
   "cell_type": "code",
   "execution_count": 18,
   "metadata": {},
   "outputs": [],
   "source": [
    "# Load your PostgreSQL credential to `database_creds`\n",
    "database_creds_file = open('./database_cred.json', 'r')\n",
    "database_creds = json.loads(database_creds_file.read())"
   ]
  },
  {
   "cell_type": "code",
   "execution_count": 21,
   "metadata": {},
   "outputs": [],
   "source": [
    "# Sign into your database\n",
    "engine = db.create_engine(database_creds['url'])\n",
    "\n",
    "connection = engine.connect()\n",
    "metadata = db.MetaData()"
   ]
  },
  {
   "cell_type": "markdown",
   "metadata": {},
   "source": [
    "### Create table `ny_dhs_weekly`"
   ]
  },
  {
   "cell_type": "code",
   "execution_count": 22,
   "metadata": {},
   "outputs": [
    {
     "data": {
      "text/plain": [
       "<sqlalchemy.engine.result.ResultProxy at 0x1c18d65828>"
      ]
     },
     "execution_count": 22,
     "metadata": {},
     "output_type": "execute_result"
    }
   ],
   "source": [
    "sql = f\"\"\"CREATE TABLE ny_dhs_weekly (date_of_census DATE\"\"\"\n",
    "for col in list(results[0].keys())[1:]:\n",
    "    sql += f\", {col} INT\"\n",
    "sql += \")\"\n",
    "\n",
    "connection.execute(sql)"
   ]
  },
  {
   "cell_type": "markdown",
   "metadata": {},
   "source": [
    "### Insert values in 'weekly_df' dataframe to `ny_dhs_weekly` table "
   ]
  },
  {
   "cell_type": "code",
   "execution_count": 89,
   "metadata": {},
   "outputs": [
    {
     "data": {
      "text/plain": [
       "<sqlalchemy.engine.result.ResultProxy at 0x1c1a21d0b8>"
      ]
     },
     "execution_count": 89,
     "metadata": {},
     "output_type": "execute_result"
    }
   ],
   "source": [
    "sql = \"INSERT INTO ny_dhs_weekly VALUES\"\n",
    "for n_row in range(len(weekly_df)):\n",
    "    sql += f\" ('{str(weekly_df.index[n_row].date())}'\"\n",
    "    for n_col in range(len(weekly_df.columns)):\n",
    "        sql += f\", {int(weekly_df.iloc[n_row,n_col])}\"\n",
    "    sql += \"),\"\n",
    "\n",
    "connection.execute(sql[:-1])"
   ]
  },
  {
   "cell_type": "markdown",
   "metadata": {},
   "source": [
    "### Query `ny_dhs_weekly` to see if the database is correctly constructed."
   ]
  },
  {
   "cell_type": "code",
   "execution_count": 90,
   "metadata": {},
   "outputs": [
    {
     "data": {
      "text/plain": [
       "<sqlalchemy.engine.result.ResultProxy at 0x1c19b43940>"
      ]
     },
     "execution_count": 90,
     "metadata": {},
     "output_type": "execute_result"
    }
   ],
   "source": [
    "sql = \"\"\"\n",
    "SELECT *\n",
    "FROM ny_dhs_weekly\n",
    "\"\"\"\n",
    "connection.execute(sql)"
   ]
  },
  {
   "cell_type": "code",
   "execution_count": 99,
   "metadata": {},
   "outputs": [],
   "source": [
    "database_df = pd.read_sql_query(sql, engine)"
   ]
  },
  {
   "cell_type": "code",
   "execution_count": 100,
   "metadata": {},
   "outputs": [
    {
     "data": {
      "text/html": [
       "<div>\n",
       "<style scoped>\n",
       "    .dataframe tbody tr th:only-of-type {\n",
       "        vertical-align: middle;\n",
       "    }\n",
       "\n",
       "    .dataframe tbody tr th {\n",
       "        vertical-align: top;\n",
       "    }\n",
       "\n",
       "    .dataframe thead th {\n",
       "        text-align: right;\n",
       "    }\n",
       "</style>\n",
       "<table border=\"1\" class=\"dataframe\">\n",
       "  <thead>\n",
       "    <tr style=\"text-align: right;\">\n",
       "      <th></th>\n",
       "      <th>date_of_census</th>\n",
       "      <th>total_adults_in_shelter</th>\n",
       "      <th>total_children_in_shelter</th>\n",
       "      <th>total_individuals_in_shelter</th>\n",
       "      <th>single_adult_men_in_shelter</th>\n",
       "      <th>single_adult_women_in_shelter</th>\n",
       "      <th>total_single_adults_in_shelter</th>\n",
       "      <th>families_with_children_in_shelter</th>\n",
       "      <th>adults_in_families_with_children_in_shelter</th>\n",
       "      <th>children_in_families_with_children_in_shelter</th>\n",
       "      <th>total_individuals_in_families_with_children_in_shelter_</th>\n",
       "      <th>adult_families_in_shelter</th>\n",
       "      <th>individuals_in_adult_families_in_shelter</th>\n",
       "    </tr>\n",
       "  </thead>\n",
       "  <tbody>\n",
       "    <tr>\n",
       "      <th>0</th>\n",
       "      <td>2013-08-25</td>\n",
       "      <td>28342</td>\n",
       "      <td>21334</td>\n",
       "      <td>49677</td>\n",
       "      <td>7184</td>\n",
       "      <td>2698</td>\n",
       "      <td>9882</td>\n",
       "      <td>10283</td>\n",
       "      <td>14636</td>\n",
       "      <td>21334</td>\n",
       "      <td>35971</td>\n",
       "      <td>1801</td>\n",
       "      <td>3823</td>\n",
       "    </tr>\n",
       "    <tr>\n",
       "      <th>1</th>\n",
       "      <td>2013-09-01</td>\n",
       "      <td>28327</td>\n",
       "      <td>21361</td>\n",
       "      <td>49689</td>\n",
       "      <td>7117</td>\n",
       "      <td>2690</td>\n",
       "      <td>9807</td>\n",
       "      <td>10296</td>\n",
       "      <td>14671</td>\n",
       "      <td>21361</td>\n",
       "      <td>36033</td>\n",
       "      <td>1811</td>\n",
       "      <td>3848</td>\n",
       "    </tr>\n",
       "    <tr>\n",
       "      <th>2</th>\n",
       "      <td>2013-09-08</td>\n",
       "      <td>28381</td>\n",
       "      <td>21448</td>\n",
       "      <td>49829</td>\n",
       "      <td>7100</td>\n",
       "      <td>2698</td>\n",
       "      <td>9798</td>\n",
       "      <td>10331</td>\n",
       "      <td>14722</td>\n",
       "      <td>21448</td>\n",
       "      <td>36170</td>\n",
       "      <td>1818</td>\n",
       "      <td>3860</td>\n",
       "    </tr>\n",
       "    <tr>\n",
       "      <th>3</th>\n",
       "      <td>2013-09-15</td>\n",
       "      <td>28597</td>\n",
       "      <td>21641</td>\n",
       "      <td>50238</td>\n",
       "      <td>7144</td>\n",
       "      <td>2747</td>\n",
       "      <td>9891</td>\n",
       "      <td>10414</td>\n",
       "      <td>14836</td>\n",
       "      <td>21641</td>\n",
       "      <td>36477</td>\n",
       "      <td>1823</td>\n",
       "      <td>3869</td>\n",
       "    </tr>\n",
       "    <tr>\n",
       "      <th>4</th>\n",
       "      <td>2013-09-22</td>\n",
       "      <td>28729</td>\n",
       "      <td>21694</td>\n",
       "      <td>50423</td>\n",
       "      <td>7213</td>\n",
       "      <td>2771</td>\n",
       "      <td>9984</td>\n",
       "      <td>10445</td>\n",
       "      <td>14879</td>\n",
       "      <td>21694</td>\n",
       "      <td>36573</td>\n",
       "      <td>1821</td>\n",
       "      <td>3864</td>\n",
       "    </tr>\n",
       "  </tbody>\n",
       "</table>\n",
       "</div>"
      ],
      "text/plain": [
       "  date_of_census  total_adults_in_shelter  total_children_in_shelter  \\\n",
       "0     2013-08-25                    28342                      21334   \n",
       "1     2013-09-01                    28327                      21361   \n",
       "2     2013-09-08                    28381                      21448   \n",
       "3     2013-09-15                    28597                      21641   \n",
       "4     2013-09-22                    28729                      21694   \n",
       "\n",
       "   total_individuals_in_shelter  single_adult_men_in_shelter  \\\n",
       "0                         49677                         7184   \n",
       "1                         49689                         7117   \n",
       "2                         49829                         7100   \n",
       "3                         50238                         7144   \n",
       "4                         50423                         7213   \n",
       "\n",
       "   single_adult_women_in_shelter  total_single_adults_in_shelter  \\\n",
       "0                           2698                            9882   \n",
       "1                           2690                            9807   \n",
       "2                           2698                            9798   \n",
       "3                           2747                            9891   \n",
       "4                           2771                            9984   \n",
       "\n",
       "   families_with_children_in_shelter  \\\n",
       "0                              10283   \n",
       "1                              10296   \n",
       "2                              10331   \n",
       "3                              10414   \n",
       "4                              10445   \n",
       "\n",
       "   adults_in_families_with_children_in_shelter  \\\n",
       "0                                        14636   \n",
       "1                                        14671   \n",
       "2                                        14722   \n",
       "3                                        14836   \n",
       "4                                        14879   \n",
       "\n",
       "   children_in_families_with_children_in_shelter  \\\n",
       "0                                          21334   \n",
       "1                                          21361   \n",
       "2                                          21448   \n",
       "3                                          21641   \n",
       "4                                          21694   \n",
       "\n",
       "   total_individuals_in_families_with_children_in_shelter_  \\\n",
       "0                                              35971         \n",
       "1                                              36033         \n",
       "2                                              36170         \n",
       "3                                              36477         \n",
       "4                                              36573         \n",
       "\n",
       "   adult_families_in_shelter  individuals_in_adult_families_in_shelter  \n",
       "0                       1801                                      3823  \n",
       "1                       1811                                      3848  \n",
       "2                       1818                                      3860  \n",
       "3                       1823                                      3869  \n",
       "4                       1821                                      3864  "
      ]
     },
     "execution_count": 100,
     "metadata": {},
     "output_type": "execute_result"
    }
   ],
   "source": [
    "database_df.head()"
   ]
  },
  {
   "cell_type": "code",
   "execution_count": 101,
   "metadata": {},
   "outputs": [
    {
     "name": "stdout",
     "output_type": "stream",
     "text": [
      "<class 'pandas.core.frame.DataFrame'>\n",
      "RangeIndex: 328 entries, 0 to 327\n",
      "Data columns (total 13 columns):\n",
      "date_of_census                                             328 non-null object\n",
      "total_adults_in_shelter                                    328 non-null int64\n",
      "total_children_in_shelter                                  328 non-null int64\n",
      "total_individuals_in_shelter                               328 non-null int64\n",
      "single_adult_men_in_shelter                                328 non-null int64\n",
      "single_adult_women_in_shelter                              328 non-null int64\n",
      "total_single_adults_in_shelter                             328 non-null int64\n",
      "families_with_children_in_shelter                          328 non-null int64\n",
      "adults_in_families_with_children_in_shelter                328 non-null int64\n",
      "children_in_families_with_children_in_shelter              328 non-null int64\n",
      "total_individuals_in_families_with_children_in_shelter_    328 non-null int64\n",
      "adult_families_in_shelter                                  328 non-null int64\n",
      "individuals_in_adult_families_in_shelter                   328 non-null int64\n",
      "dtypes: int64(12), object(1)\n",
      "memory usage: 33.4+ KB\n"
     ]
    }
   ],
   "source": [
    "database_df.info()"
   ]
  }
 ],
 "metadata": {
  "kernelspec": {
   "display_name": "Python 3",
   "language": "python",
   "name": "python3"
  },
  "language_info": {
   "codemirror_mode": {
    "name": "ipython",
    "version": 3
   },
   "file_extension": ".py",
   "mimetype": "text/x-python",
   "name": "python",
   "nbconvert_exporter": "python",
   "pygments_lexer": "ipython3",
   "version": "3.6.9"
  }
 },
 "nbformat": 4,
 "nbformat_minor": 2
}
