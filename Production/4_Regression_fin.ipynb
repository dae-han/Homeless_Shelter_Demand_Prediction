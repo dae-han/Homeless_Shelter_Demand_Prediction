{
 "cells": [
  {
   "cell_type": "markdown",
   "metadata": {},
   "source": [
    "# Imports"
   ]
  },
  {
   "cell_type": "code",
   "execution_count": 1,
   "metadata": {},
   "outputs": [],
   "source": [
    "import functions as fc\n",
    "import json\n",
    "import pandas as pd\n",
    "import numpy as np\n",
    "import sqlalchemy as db\n",
    "import matplotlib.pyplot as plt\n",
    "from sodapy import Socrata\n",
    "\n",
    "import statsmodels.api as sm\n",
    "from statsmodels.tsa.statespace.sarimax import SARIMAX\n",
    "from statsmodels.tsa.arima_model import ARIMA\n",
    "from statsmodels.graphics.tsaplots import plot_acf\n",
    "from statsmodels.graphics.tsaplots import plot_pacf\n",
    "from statsmodels.tsa.stattools import adfuller\n",
    "\n",
    "from sklearn.model_selection import train_test_split\n",
    "from sklearn.metrics import r2_score, mean_squared_error\n",
    "\n",
    "from pandas.plotting import register_matplotlib_converters\n",
    "register_matplotlib_converters()"
   ]
  },
  {
   "cell_type": "markdown",
   "metadata": {},
   "source": [
    "# Data Query"
   ]
  },
  {
   "cell_type": "code",
   "execution_count": 2,
   "metadata": {},
   "outputs": [],
   "source": [
    "# Load your PostgreSQL credential to `database_creds`\n",
    "database_creds_file = open('./database_cred.json', 'r')\n",
    "database_creds = json.loads(database_creds_file.read())"
   ]
  },
  {
   "cell_type": "code",
   "execution_count": 3,
   "metadata": {},
   "outputs": [],
   "source": [
    "# Sign into your database\n",
    "engine = db.create_engine(database_creds['url'])\n",
    "\n",
    "connection = engine.connect()\n",
    "metadata = db.MetaData()"
   ]
  },
  {
   "cell_type": "code",
   "execution_count": 4,
   "metadata": {},
   "outputs": [],
   "source": [
    "sql = \"\"\"\n",
    "SELECT *\n",
    "FROM ny_dhs_weekly\n",
    "\"\"\"\n",
    "\n",
    "weekly_df = pd.read_sql_query(sql, engine)"
   ]
  },
  {
   "cell_type": "code",
   "execution_count": 5,
   "metadata": {},
   "outputs": [],
   "source": [
    "weekly_df.index = pd.to_datetime(weekly_df['date_of_census'])"
   ]
  },
  {
   "cell_type": "code",
   "execution_count": 6,
   "metadata": {},
   "outputs": [],
   "source": [
    "weekly_df = weekly_df.drop('date_of_census', axis = 1)"
   ]
  },
  {
   "cell_type": "code",
   "execution_count": 26,
   "metadata": {},
   "outputs": [
    {
     "data": {
      "text/html": [
       "<div>\n",
       "<style scoped>\n",
       "    .dataframe tbody tr th:only-of-type {\n",
       "        vertical-align: middle;\n",
       "    }\n",
       "\n",
       "    .dataframe tbody tr th {\n",
       "        vertical-align: top;\n",
       "    }\n",
       "\n",
       "    .dataframe thead th {\n",
       "        text-align: right;\n",
       "    }\n",
       "</style>\n",
       "<table border=\"1\" class=\"dataframe\">\n",
       "  <thead>\n",
       "    <tr style=\"text-align: right;\">\n",
       "      <th></th>\n",
       "      <th>total_adults_in_shelter</th>\n",
       "      <th>total_children_in_shelter</th>\n",
       "      <th>total_individuals_in_shelter</th>\n",
       "      <th>single_adult_men_in_shelter</th>\n",
       "      <th>single_adult_women_in_shelter</th>\n",
       "      <th>total_single_adults_in_shelter</th>\n",
       "      <th>families_with_children_in_shelter</th>\n",
       "      <th>adults_in_families_with_children_in_shelter</th>\n",
       "      <th>children_in_families_with_children_in_shelter</th>\n",
       "      <th>total_individuals_in_families_with_children_in_shelter_</th>\n",
       "      <th>adult_families_in_shelter</th>\n",
       "      <th>individuals_in_adult_families_in_shelter</th>\n",
       "      <th>lag_1</th>\n",
       "      <th>lag_2</th>\n",
       "      <th>lag_3</th>\n",
       "    </tr>\n",
       "    <tr>\n",
       "      <th>date_of_census</th>\n",
       "      <th></th>\n",
       "      <th></th>\n",
       "      <th></th>\n",
       "      <th></th>\n",
       "      <th></th>\n",
       "      <th></th>\n",
       "      <th></th>\n",
       "      <th></th>\n",
       "      <th></th>\n",
       "      <th></th>\n",
       "      <th></th>\n",
       "      <th></th>\n",
       "      <th></th>\n",
       "      <th></th>\n",
       "      <th></th>\n",
       "    </tr>\n",
       "  </thead>\n",
       "  <tbody>\n",
       "    <tr>\n",
       "      <th>2019-12-01</th>\n",
       "      <td>38273</td>\n",
       "      <td>21709</td>\n",
       "      <td>59982</td>\n",
       "      <td>12128</td>\n",
       "      <td>4590</td>\n",
       "      <td>16719</td>\n",
       "      <td>12195</td>\n",
       "      <td>16308</td>\n",
       "      <td>21709</td>\n",
       "      <td>38017</td>\n",
       "      <td>2492</td>\n",
       "      <td>5245</td>\n",
       "      <td>NaN</td>\n",
       "      <td>NaN</td>\n",
       "      <td>NaN</td>\n",
       "    </tr>\n",
       "    <tr>\n",
       "      <th>2019-11-24</th>\n",
       "      <td>38490</td>\n",
       "      <td>21801</td>\n",
       "      <td>60292</td>\n",
       "      <td>12251</td>\n",
       "      <td>4613</td>\n",
       "      <td>16864</td>\n",
       "      <td>12230</td>\n",
       "      <td>16361</td>\n",
       "      <td>21801</td>\n",
       "      <td>38163</td>\n",
       "      <td>2499</td>\n",
       "      <td>5264</td>\n",
       "      <td>59982.0</td>\n",
       "      <td>NaN</td>\n",
       "      <td>NaN</td>\n",
       "    </tr>\n",
       "  </tbody>\n",
       "</table>\n",
       "</div>"
      ],
      "text/plain": [
       "                total_adults_in_shelter  total_children_in_shelter  \\\n",
       "date_of_census                                                       \n",
       "2019-12-01                        38273                      21709   \n",
       "2019-11-24                        38490                      21801   \n",
       "\n",
       "                total_individuals_in_shelter  single_adult_men_in_shelter  \\\n",
       "date_of_census                                                              \n",
       "2019-12-01                             59982                        12128   \n",
       "2019-11-24                             60292                        12251   \n",
       "\n",
       "                single_adult_women_in_shelter  total_single_adults_in_shelter  \\\n",
       "date_of_census                                                                  \n",
       "2019-12-01                               4590                           16719   \n",
       "2019-11-24                               4613                           16864   \n",
       "\n",
       "                families_with_children_in_shelter  \\\n",
       "date_of_census                                      \n",
       "2019-12-01                                  12195   \n",
       "2019-11-24                                  12230   \n",
       "\n",
       "                adults_in_families_with_children_in_shelter  \\\n",
       "date_of_census                                                \n",
       "2019-12-01                                            16308   \n",
       "2019-11-24                                            16361   \n",
       "\n",
       "                children_in_families_with_children_in_shelter  \\\n",
       "date_of_census                                                  \n",
       "2019-12-01                                              21709   \n",
       "2019-11-24                                              21801   \n",
       "\n",
       "                total_individuals_in_families_with_children_in_shelter_  \\\n",
       "date_of_census                                                            \n",
       "2019-12-01                                                  38017         \n",
       "2019-11-24                                                  38163         \n",
       "\n",
       "                adult_families_in_shelter  \\\n",
       "date_of_census                              \n",
       "2019-12-01                           2492   \n",
       "2019-11-24                           2499   \n",
       "\n",
       "                individuals_in_adult_families_in_shelter    lag_1  lag_2  \\\n",
       "date_of_census                                                             \n",
       "2019-12-01                                          5245      NaN    NaN   \n",
       "2019-11-24                                          5264  59982.0    NaN   \n",
       "\n",
       "                lag_3  \n",
       "date_of_census         \n",
       "2019-12-01        NaN  \n",
       "2019-11-24        NaN  "
      ]
     },
     "execution_count": 26,
     "metadata": {},
     "output_type": "execute_result"
    }
   ],
   "source": [
    "weekly_df.head(2)"
   ]
  },
  {
   "cell_type": "markdown",
   "metadata": {},
   "source": [
    "# Target EDA ( weekly_df )"
   ]
  },
  {
   "cell_type": "code",
   "execution_count": 7,
   "metadata": {
    "scrolled": false
   },
   "outputs": [
    {
     "data": {
      "text/plain": [
       "[<matplotlib.lines.Line2D at 0x1c1de5b898>]"
      ]
     },
     "execution_count": 7,
     "metadata": {},
     "output_type": "execute_result"
    },
    {
     "data": {
      "image/png": "[encoded data removed]",
      "text/plain": [
       "<Figure size 1368x576 with 1 Axes>"
      ]
     },
     "metadata": {
      "needs_background": "light"
     },
     "output_type": "display_data"
    }
   ],
   "source": [
    "plt.figure(figsize = (19, 8))\n",
    "plt.plot(weekly_df['total_individuals_in_shelter'], label = 'total') "
   ]
  },
  {
   "cell_type": "code",
   "execution_count": 8,
   "metadata": {},
   "outputs": [
    {
     "data": {
      "image/png": "[encoded data removed]",
      "text/plain": [
       "<Figure size 432x288 with 4 Axes>"
      ]
     },
     "metadata": {
      "needs_background": "light"
     },
     "output_type": "display_data"
    }
   ],
   "source": [
    "from statsmodels.tsa.seasonal import seasonal_decompose\n",
    "decomp = seasonal_decompose(weekly_df['total_individuals_in_shelter'].resample('W').mean())\n",
    "decomp.plot();"
   ]
  },
  {
   "cell_type": "code",
   "execution_count": 9,
   "metadata": {},
   "outputs": [
    {
     "data": {
      "image/png": "[encoded data removed]",
      "text/plain": [
       "<Figure size 432x288 with 1 Axes>"
      ]
     },
     "metadata": {
      "needs_background": "light"
     },
     "output_type": "display_data"
    }
   ],
   "source": [
    "plot_acf(weekly_df['total_individuals_in_shelter']);"
   ]
  },
  {
   "cell_type": "code",
   "execution_count": 10,
   "metadata": {
    "scrolled": false
   },
   "outputs": [
    {
     "data": {
      "image/png": "[encoded data removed]",
      "text/plain": [
       "<Figure size 432x288 with 1 Axes>"
      ]
     },
     "metadata": {
      "needs_background": "light"
     },
     "output_type": "display_data"
    },
    {
     "data": {
      "image/png": "[encoded data removed]",
      "text/plain": [
       "<Figure size 432x288 with 1 Axes>"
      ]
     },
     "metadata": {
      "needs_background": "light"
     },
     "output_type": "display_data"
    }
   ],
   "source": [
    "fc.acf_pacf(weekly_df['total_individuals_in_shelter'], 80)"
   ]
  },
  {
   "cell_type": "markdown",
   "metadata": {},
   "source": [
    "The small lags values have large and positive correlations. This is a evidence of a trend."
   ]
  },
  {
   "cell_type": "markdown",
   "metadata": {},
   "source": [
    "The evidence of seasonailty observed in seasonal_decompose plot is not very evident in PACF plot."
   ]
  },
  {
   "cell_type": "markdown",
   "metadata": {},
   "source": [
    "# Try OLS regression"
   ]
  },
  {
   "cell_type": "code",
   "execution_count": 11,
   "metadata": {},
   "outputs": [],
   "source": [
    "weekly_lag = weekly_df.copy()"
   ]
  },
  {
   "cell_type": "code",
   "execution_count": 12,
   "metadata": {},
   "outputs": [],
   "source": [
    "# Create a column called `lag_1` that lags Passengers by one month.\n",
    "weekly_df['lag_1'] = weekly_df['total_individuals_in_shelter'].shift(1)\n",
    "\n",
    "# Create a column called `lag_2` that lags Passengers by two months.\n",
    "weekly_df['lag_2'] = weekly_df['total_individuals_in_shelter'].shift(2)\n",
    "\n",
    "weekly_df['lag_3'] = weekly_df['total_individuals_in_shelter'].shift(3)"
   ]
  },
  {
   "cell_type": "code",
   "execution_count": 13,
   "metadata": {},
   "outputs": [
    {
     "data": {
      "text/html": [
       "<div>\n",
       "<style scoped>\n",
       "    .dataframe tbody tr th:only-of-type {\n",
       "        vertical-align: middle;\n",
       "    }\n",
       "\n",
       "    .dataframe tbody tr th {\n",
       "        vertical-align: top;\n",
       "    }\n",
       "\n",
       "    .dataframe thead th {\n",
       "        text-align: right;\n",
       "    }\n",
       "</style>\n",
       "<table border=\"1\" class=\"dataframe\">\n",
       "  <thead>\n",
       "    <tr style=\"text-align: right;\">\n",
       "      <th></th>\n",
       "      <th>total_individuals_in_shelter</th>\n",
       "      <th>lag_1</th>\n",
       "      <th>lag_2</th>\n",
       "      <th>lag_3</th>\n",
       "    </tr>\n",
       "  </thead>\n",
       "  <tbody>\n",
       "    <tr>\n",
       "      <th>total_individuals_in_shelter</th>\n",
       "      <td>1.000000</td>\n",
       "      <td>0.997900</td>\n",
       "      <td>0.994138</td>\n",
       "      <td>0.989775</td>\n",
       "    </tr>\n",
       "    <tr>\n",
       "      <th>lag_1</th>\n",
       "      <td>0.997900</td>\n",
       "      <td>1.000000</td>\n",
       "      <td>0.997848</td>\n",
       "      <td>0.993987</td>\n",
       "    </tr>\n",
       "    <tr>\n",
       "      <th>lag_2</th>\n",
       "      <td>0.994138</td>\n",
       "      <td>0.997848</td>\n",
       "      <td>1.000000</td>\n",
       "      <td>0.997791</td>\n",
       "    </tr>\n",
       "    <tr>\n",
       "      <th>lag_3</th>\n",
       "      <td>0.989775</td>\n",
       "      <td>0.993987</td>\n",
       "      <td>0.997791</td>\n",
       "      <td>1.000000</td>\n",
       "    </tr>\n",
       "  </tbody>\n",
       "</table>\n",
       "</div>"
      ],
      "text/plain": [
       "                              total_individuals_in_shelter     lag_1  \\\n",
       "total_individuals_in_shelter                      1.000000  0.997900   \n",
       "lag_1                                             0.997900  1.000000   \n",
       "lag_2                                             0.994138  0.997848   \n",
       "lag_3                                             0.989775  0.993987   \n",
       "\n",
       "                                 lag_2     lag_3  \n",
       "total_individuals_in_shelter  0.994138  0.989775  \n",
       "lag_1                         0.997848  0.993987  \n",
       "lag_2                         1.000000  0.997791  \n",
       "lag_3                         0.997791  1.000000  "
      ]
     },
     "execution_count": 13,
     "metadata": {},
     "output_type": "execute_result"
    }
   ],
   "source": [
    "weekly_df.loc[:,['total_individuals_in_shelter','lag_1', 'lag_2', 'lag_3']].corr()"
   ]
  },
  {
   "cell_type": "markdown",
   "metadata": {},
   "source": [
    "### OLS model 1\n",
    "- Includes lag1,2 and 3"
   ]
  },
  {
   "cell_type": "code",
   "execution_count": 14,
   "metadata": {},
   "outputs": [],
   "source": [
    "X = weekly_df.loc[:,['total_individuals_in_shelter','lag_1', 'lag_2', 'lag_3']]\\\n",
    "    .drop('total_individuals_in_shelter', axis = 1)\n",
    "y = weekly_df['total_individuals_in_shelter']"
   ]
  },
  {
   "cell_type": "code",
   "execution_count": 15,
   "metadata": {},
   "outputs": [],
   "source": [
    "# Generate train/test split.\n",
    "X_train, X_test, y_train, y_test = train_test_split(X,\n",
    "                                                    y,\n",
    "                                                    test_size = 0.2,\n",
    "                                                    shuffle = False)"
   ]
  },
  {
   "cell_type": "code",
   "execution_count": 16,
   "metadata": {},
   "outputs": [
    {
     "name": "stderr",
     "output_type": "stream",
     "text": [
      "/Users/dae/anaconda3/lib/python3.6/site-packages/numpy/core/fromnumeric.py:2495: FutureWarning: Method .ptp is deprecated and will be removed in a future version. Use numpy.ptp instead.\n",
      "  return ptp(axis=axis, out=out, **kwargs)\n"
     ]
    },
    {
     "data": {
      "text/html": [
       "<div>\n",
       "<style scoped>\n",
       "    .dataframe tbody tr th:only-of-type {\n",
       "        vertical-align: middle;\n",
       "    }\n",
       "\n",
       "    .dataframe tbody tr th {\n",
       "        vertical-align: top;\n",
       "    }\n",
       "\n",
       "    .dataframe thead th {\n",
       "        text-align: right;\n",
       "    }\n",
       "</style>\n",
       "<table border=\"1\" class=\"dataframe\">\n",
       "  <thead>\n",
       "    <tr style=\"text-align: right;\">\n",
       "      <th></th>\n",
       "      <th>const</th>\n",
       "      <th>lag_1</th>\n",
       "      <th>lag_2</th>\n",
       "      <th>lag_3</th>\n",
       "    </tr>\n",
       "    <tr>\n",
       "      <th>date_of_census</th>\n",
       "      <th></th>\n",
       "      <th></th>\n",
       "      <th></th>\n",
       "      <th></th>\n",
       "    </tr>\n",
       "  </thead>\n",
       "  <tbody>\n",
       "    <tr>\n",
       "      <th>2019-12-01</th>\n",
       "      <td>1.0</td>\n",
       "      <td>NaN</td>\n",
       "      <td>NaN</td>\n",
       "      <td>NaN</td>\n",
       "    </tr>\n",
       "    <tr>\n",
       "      <th>2019-11-24</th>\n",
       "      <td>1.0</td>\n",
       "      <td>59982.0</td>\n",
       "      <td>NaN</td>\n",
       "      <td>NaN</td>\n",
       "    </tr>\n",
       "    <tr>\n",
       "      <th>2019-11-17</th>\n",
       "      <td>1.0</td>\n",
       "      <td>60292.0</td>\n",
       "      <td>59982.0</td>\n",
       "      <td>NaN</td>\n",
       "    </tr>\n",
       "    <tr>\n",
       "      <th>2019-11-10</th>\n",
       "      <td>1.0</td>\n",
       "      <td>60419.0</td>\n",
       "      <td>60292.0</td>\n",
       "      <td>59982.0</td>\n",
       "    </tr>\n",
       "    <tr>\n",
       "      <th>2019-11-03</th>\n",
       "      <td>1.0</td>\n",
       "      <td>60089.0</td>\n",
       "      <td>60419.0</td>\n",
       "      <td>60292.0</td>\n",
       "    </tr>\n",
       "  </tbody>\n",
       "</table>\n",
       "</div>"
      ],
      "text/plain": [
       "                const    lag_1    lag_2    lag_3\n",
       "date_of_census                                  \n",
       "2019-12-01        1.0      NaN      NaN      NaN\n",
       "2019-11-24        1.0  59982.0      NaN      NaN\n",
       "2019-11-17        1.0  60292.0  59982.0      NaN\n",
       "2019-11-10        1.0  60419.0  60292.0  59982.0\n",
       "2019-11-03        1.0  60089.0  60419.0  60292.0"
      ]
     },
     "execution_count": 16,
     "metadata": {},
     "output_type": "execute_result"
    }
   ],
   "source": [
    "# Before fitting a model in statsmodels, what do we need\n",
    "# to do? (Hint: Think intercept.)\n",
    "\n",
    "X_train = sm.add_constant(X_train)\n",
    "X_test = sm.add_constant(X_test)\n",
    "\n",
    "# Confirm.\n",
    "X_train.head()"
   ]
  },
  {
   "cell_type": "code",
   "execution_count": 17,
   "metadata": {},
   "outputs": [],
   "source": [
    "# statsmodels won't be able to handle missing values.\n",
    "\n",
    "X_train.dropna(inplace = True)\n",
    "\n",
    "y_train = y_train[X_train.index]"
   ]
  },
  {
   "cell_type": "code",
   "execution_count": 18,
   "metadata": {
    "scrolled": true
   },
   "outputs": [
    {
     "data": {
      "text/html": [
       "<div>\n",
       "<style scoped>\n",
       "    .dataframe tbody tr th:only-of-type {\n",
       "        vertical-align: middle;\n",
       "    }\n",
       "\n",
       "    .dataframe tbody tr th {\n",
       "        vertical-align: top;\n",
       "    }\n",
       "\n",
       "    .dataframe thead th {\n",
       "        text-align: right;\n",
       "    }\n",
       "</style>\n",
       "<table border=\"1\" class=\"dataframe\">\n",
       "  <thead>\n",
       "    <tr style=\"text-align: right;\">\n",
       "      <th></th>\n",
       "      <th>const</th>\n",
       "      <th>lag_1</th>\n",
       "      <th>lag_2</th>\n",
       "      <th>lag_3</th>\n",
       "    </tr>\n",
       "    <tr>\n",
       "      <th>date_of_census</th>\n",
       "      <th></th>\n",
       "      <th></th>\n",
       "      <th></th>\n",
       "      <th></th>\n",
       "    </tr>\n",
       "  </thead>\n",
       "  <tbody>\n",
       "    <tr>\n",
       "      <th>2019-11-10</th>\n",
       "      <td>1.0</td>\n",
       "      <td>60419.0</td>\n",
       "      <td>60292.0</td>\n",
       "      <td>59982.0</td>\n",
       "    </tr>\n",
       "    <tr>\n",
       "      <th>2019-11-03</th>\n",
       "      <td>1.0</td>\n",
       "      <td>60089.0</td>\n",
       "      <td>60419.0</td>\n",
       "      <td>60292.0</td>\n",
       "    </tr>\n",
       "    <tr>\n",
       "      <th>2019-10-27</th>\n",
       "      <td>1.0</td>\n",
       "      <td>59989.0</td>\n",
       "      <td>60089.0</td>\n",
       "      <td>60419.0</td>\n",
       "    </tr>\n",
       "    <tr>\n",
       "      <th>2019-10-20</th>\n",
       "      <td>1.0</td>\n",
       "      <td>60095.0</td>\n",
       "      <td>59989.0</td>\n",
       "      <td>60089.0</td>\n",
       "    </tr>\n",
       "    <tr>\n",
       "      <th>2019-10-13</th>\n",
       "      <td>1.0</td>\n",
       "      <td>60037.0</td>\n",
       "      <td>60095.0</td>\n",
       "      <td>59989.0</td>\n",
       "    </tr>\n",
       "  </tbody>\n",
       "</table>\n",
       "</div>"
      ],
      "text/plain": [
       "                const    lag_1    lag_2    lag_3\n",
       "date_of_census                                  \n",
       "2019-11-10        1.0  60419.0  60292.0  59982.0\n",
       "2019-11-03        1.0  60089.0  60419.0  60292.0\n",
       "2019-10-27        1.0  59989.0  60089.0  60419.0\n",
       "2019-10-20        1.0  60095.0  59989.0  60089.0\n",
       "2019-10-13        1.0  60037.0  60095.0  59989.0"
      ]
     },
     "execution_count": 18,
     "metadata": {},
     "output_type": "execute_result"
    }
   ],
   "source": [
    "X_train.head()"
   ]
  },
  {
   "cell_type": "code",
   "execution_count": 19,
   "metadata": {},
   "outputs": [],
   "source": [
    "# Remember that, in statsmodels, we pass our data \n",
    "# in when we instantiate the model!\n",
    "\n",
    "lm = sm.OLS(y_train, X_train)"
   ]
  },
  {
   "cell_type": "code",
   "execution_count": 20,
   "metadata": {},
   "outputs": [],
   "source": [
    "# Then we fit our model.\n",
    "lm_results = lm.fit()"
   ]
  },
  {
   "cell_type": "code",
   "execution_count": 21,
   "metadata": {},
   "outputs": [
    {
     "name": "stdout",
     "output_type": "stream",
     "text": [
      "                                 OLS Regression Results                                 \n",
      "========================================================================================\n",
      "Dep. Variable:     total_individuals_in_shelter   R-squared:                       0.986\n",
      "Model:                                      OLS   Adj. R-squared:                  0.985\n",
      "Method:                           Least Squares   F-statistic:                     5810.\n",
      "Date:                          Mon, 02 Dec 2019   Prob (F-statistic):          2.33e-234\n",
      "Time:                                  17:29:19   Log-Likelihood:                -1677.4\n",
      "No. Observations:                           259   AIC:                             3363.\n",
      "Df Residuals:                               255   BIC:                             3377.\n",
      "Df Model:                                     3                                         \n",
      "Covariance Type:                      nonrobust                                         \n",
      "==============================================================================\n",
      "                 coef    std err          t      P>|t|      [0.025      0.975]\n",
      "------------------------------------------------------------------------------\n",
      "const        762.3888    445.542      1.711      0.088    -115.022    1639.800\n",
      "lag_1          1.4452      0.062     23.153      0.000       1.322       1.568\n",
      "lag_2         -0.5391      0.105     -5.158      0.000      -0.745      -0.333\n",
      "lag_3          0.0809      0.062      1.300      0.195      -0.042       0.203\n",
      "==============================================================================\n",
      "Omnibus:                       36.752   Durbin-Watson:                   1.950\n",
      "Prob(Omnibus):                  0.000   Jarque-Bera (JB):              112.103\n",
      "Skew:                           0.577   Prob(JB):                     4.54e-25\n",
      "Kurtosis:                       6.009   Cond. No.                     4.62e+06\n",
      "==============================================================================\n",
      "\n",
      "Warnings:\n",
      "[1] Standard Errors assume that the covariance matrix of the errors is correctly specified.\n",
      "[2] The condition number is large, 4.62e+06. This might indicate that there are\n",
      "strong multicollinearity or other numerical problems.\n"
     ]
    }
   ],
   "source": [
    "# Display our summary!\n",
    "print(lm_results.summary())"
   ]
  },
  {
   "cell_type": "markdown",
   "metadata": {},
   "source": [
    "**Observations**\n",
    "- P-value for 'lag_3' is 0.995. This indicates that 'lag_3' is not statistically significant. This is indicated in the PACF plot above as well."
   ]
  },
  {
   "cell_type": "code",
   "execution_count": 22,
   "metadata": {},
   "outputs": [
    {
     "data": {
      "text/plain": [
       "date_of_census\n",
       "2014-11-23    58465.972521\n",
       "2014-11-16    58453.113341\n",
       "2014-11-09    58032.846605\n",
       "2014-11-02    57605.767958\n",
       "2014-10-26    57496.265484\n",
       "                  ...     \n",
       "2013-09-22    50746.803992\n",
       "2013-09-15    50455.777624\n",
       "2013-09-08    50273.114809\n",
       "2013-09-01    49770.679380\n",
       "2013-08-25    49773.882313\n",
       "Length: 66, dtype: float64"
      ]
     },
     "execution_count": 22,
     "metadata": {},
     "output_type": "execute_result"
    }
   ],
   "source": [
    "# Generate predicted test values.\n",
    "lm_results.predict(X_test)"
   ]
  },
  {
   "cell_type": "code",
   "execution_count": 23,
   "metadata": {},
   "outputs": [],
   "source": [
    "resids = y_test - lm_results.predict(X_test)"
   ]
  },
  {
   "cell_type": "code",
   "execution_count": 24,
   "metadata": {
    "scrolled": true
   },
   "outputs": [
    {
     "ename": "NameError",
     "evalue": "name 'plt' is not defined",
     "output_type": "error",
     "traceback": [
      "\u001b[0;31m---------------------------------------------------------------------------\u001b[0m",
      "\u001b[0;31mNameError\u001b[0m                                 Traceback (most recent call last)",
      "\u001b[0;32m<ipython-input-24-b42c90640538>\u001b[0m in \u001b[0;36m<module>\u001b[0;34m\u001b[0m\n\u001b[0;32m----> 1\u001b[0;31m \u001b[0mfc\u001b[0m\u001b[0;34m.\u001b[0m\u001b[0mevaluate\u001b[0m\u001b[0;34m(\u001b[0m\u001b[0my_test\u001b[0m\u001b[0;34m,\u001b[0m \u001b[0mresids\u001b[0m\u001b[0;34m)\u001b[0m\u001b[0;34m\u001b[0m\u001b[0;34m\u001b[0m\u001b[0m\n\u001b[0m",
      "\u001b[0;32m~/Documents/github_0day/ga/projects/project_capstone/nyc_homeless_fin/functions.py\u001b[0m in \u001b[0;36mevaluate\u001b[0;34m(data_to_evaluate, residual)\u001b[0m\n\u001b[1;32m     30\u001b[0m     \"\"\"\n\u001b[1;32m     31\u001b[0m \u001b[0;34m\u001b[0m\u001b[0m\n\u001b[0;32m---> 32\u001b[0;31m     \u001b[0mplt\u001b[0m\u001b[0;34m.\u001b[0m\u001b[0mfigure\u001b[0m\u001b[0;34m(\u001b[0m\u001b[0mfigsize\u001b[0m \u001b[0;34m=\u001b[0m \u001b[0;34m(\u001b[0m\u001b[0;36m12\u001b[0m\u001b[0;34m,\u001b[0m\u001b[0;36m5\u001b[0m\u001b[0;34m)\u001b[0m\u001b[0;34m)\u001b[0m\u001b[0;34m\u001b[0m\u001b[0;34m\u001b[0m\u001b[0m\n\u001b[0m\u001b[1;32m     33\u001b[0m     \u001b[0mplt\u001b[0m\u001b[0;34m.\u001b[0m\u001b[0mscatter\u001b[0m\u001b[0;34m(\u001b[0m\u001b[0mdata_to_evaluate\u001b[0m\u001b[0;34m.\u001b[0m\u001b[0mindex\u001b[0m\u001b[0;34m,\u001b[0m \u001b[0mresidual\u001b[0m\u001b[0;34m)\u001b[0m\u001b[0;34m\u001b[0m\u001b[0;34m\u001b[0m\u001b[0m\n\u001b[1;32m     34\u001b[0m     \u001b[0mplt\u001b[0m\u001b[0;34m.\u001b[0m\u001b[0mtitle\u001b[0m\u001b[0;34m(\u001b[0m\u001b[0;34m'Residuals'\u001b[0m\u001b[0;34m)\u001b[0m\u001b[0;34m\u001b[0m\u001b[0;34m\u001b[0m\u001b[0m\n",
      "\u001b[0;31mNameError\u001b[0m: name 'plt' is not defined"
     ]
    }
   ],
   "source": [
    "fc.evaluate(y_test, resids)"
   ]
  },
  {
   "cell_type": "code",
   "execution_count": null,
   "metadata": {},
   "outputs": [],
   "source": [
    "# Calculate R2 score.\n",
    "r2_score(y_test, lm_results.predict(X_test))"
   ]
  },
  {
   "cell_type": "code",
   "execution_count": null,
   "metadata": {},
   "outputs": [],
   "source": [
    "# Calculate RMSE.\n",
    "mean_squared_error(y_test, lm_results.predict(X_test)) ** 0.5"
   ]
  },
  {
   "cell_type": "code",
   "execution_count": null,
   "metadata": {},
   "outputs": [],
   "source": [
    "# Let's plot our predictions! \n",
    "\n",
    "# Set figure size.\n",
    "plt.figure(figsize=(20,10))\n",
    "\n",
    "# Plot training data.\n",
    "plt.plot(y_train.index, y_train.values, color = 'blue')\n",
    "\n",
    "# Plot testing data.\n",
    "plt.plot(y_test.index, y_test.values, color = 'red', label = 'actual value')\n",
    "\n",
    "# Plot predicted test values.\n",
    "plt.plot(lm_results.predict(X_test), color = 'darkgreen', label = 'predited value')\n",
    "\n",
    "# Set label.\n",
    "plt.title(label = 'Forecasting ', fontsize=24)\n",
    "plt.legend(fontsize = 20)\n",
    "\n",
    "# Resize tick marks.\n",
    "plt.xticks(fontsize=20)\n",
    "plt.yticks(fontsize=20);"
   ]
  },
  {
   "cell_type": "code",
   "execution_count": null,
   "metadata": {},
   "outputs": [],
   "source": [
    "# Let's plot our predictions! \n",
    "\n",
    "# Set figure size.\n",
    "plt.figure(figsize=(20,10))\n",
    "\n",
    "# Plot training data.\n",
    "plt.plot(y_train.index, y_train.values, color = 'blue')\n",
    "\n",
    "# Plot testing data.\n",
    "plt.plot(y_test.index, y_test.values, color = 'red', label = 'actual value')\n",
    "\n",
    "# Plot predicted test values.\n",
    "plt.plot(lm_results.predict(X_test), color = 'darkgreen', label = 'predited value')\n",
    "\n",
    "# Set label.\n",
    "plt.title(label = 'Forecasting ', fontsize=24)\n",
    "plt.legend(fontsize = 20)\n",
    "\n",
    "# Resize tick marks.\n",
    "plt.xticks(fontsize=20)\n",
    "plt.yticks(fontsize=20);\n",
    "\n",
    "plt.xlim(y_test.index[0], y_test.index[-1])"
   ]
  },
  {
   "cell_type": "markdown",
   "metadata": {},
   "source": [
    "**Observations**\n",
    "- My forecasting is perfect? Some thing is not right here.\n",
    "- bc it's based off the lag value of itself (data seems reactionary)"
   ]
  },
  {
   "cell_type": "markdown",
   "metadata": {},
   "source": [
    "### OLS model 2\n",
    "- Includes lag1,2 (not 3)"
   ]
  },
  {
   "cell_type": "code",
   "execution_count": null,
   "metadata": {},
   "outputs": [],
   "source": [
    "X = weekly_df.loc[:,['total_individuals_in_shelter','lag_1', 'lag_2']]\\\n",
    "    .drop('total_individuals_in_shelter', axis = 1)\n",
    "y = weekly_df['total_individuals_in_shelter']\n",
    "\n",
    "# Generate train/test split.\n",
    "X_train, X_test, y_train, y_test = train_test_split(X,\n",
    "                                                    y,\n",
    "                                                    test_size = 0.2,\n",
    "                                                    shuffle = False)\n",
    "\n",
    "\n",
    "# Before fitting a model in statsmodels, what do we need\n",
    "# to do? (Hint: Think intercept.)\n",
    "\n",
    "X_train = sm.add_constant(X_train)\n",
    "X_test = sm.add_constant(X_test)\n",
    "\n",
    "# statsmodels won't be able to handle missing values.\n",
    "X_train.dropna(inplace = True)\n",
    "\n",
    "y_train = y_train[X_train.index]"
   ]
  },
  {
   "cell_type": "code",
   "execution_count": null,
   "metadata": {},
   "outputs": [],
   "source": [
    "# Remember that, in statsmodels, we pass our data \n",
    "# in when we instantiate the model!\n",
    "\n",
    "lm = sm.OLS(y_train, X_train)\n",
    "\n",
    "# Then we fit our model.\n",
    "lm_results = lm.fit()\n",
    "\n",
    "# Display our summary!\n",
    "print(lm_results.summary())"
   ]
  },
  {
   "cell_type": "code",
   "execution_count": null,
   "metadata": {},
   "outputs": [],
   "source": [
    "# Generate predicted test values.\n",
    "lm_results.predict(X_test);\n",
    "\n",
    "# Calculate R2 score.\n",
    "r2_score(y_test, lm_results.predict(X_test))"
   ]
  },
  {
   "cell_type": "code",
   "execution_count": null,
   "metadata": {},
   "outputs": [],
   "source": [
    "# Calculate RMSE.\n",
    "mean_squared_error(y_test, lm_results.predict(X_test)) ** 0.5"
   ]
  },
  {
   "cell_type": "code",
   "execution_count": null,
   "metadata": {
    "scrolled": false
   },
   "outputs": [],
   "source": [
    "# Let's plot our predictions! \n",
    "\n",
    "# Set figure size.\n",
    "plt.figure(figsize=(20,10))\n",
    "\n",
    "# Plot training data.\n",
    "plt.plot(y_train.index, y_train.values, color = 'blue')\n",
    "\n",
    "# Plot testing data.\n",
    "plt.plot(y_test.index, y_test.values, color = 'red', label = 'actual value')\n",
    "\n",
    "# Plot predicted test values.\n",
    "plt.plot(lm_results.predict(X_test), color = 'darkgreen', label = 'predited value')\n",
    "\n",
    "# Set label.\n",
    "plt.title(label = 'Forecasting', fontsize=24)\n",
    "plt.legend(fontsize = 20)\n",
    "\n",
    "# Resize tick marks.\n",
    "plt.xticks(fontsize=20)\n",
    "plt.yticks(fontsize=20);"
   ]
  },
  {
   "cell_type": "markdown",
   "metadata": {},
   "source": [
    "**Observations**\n",
    "- RMSE slight increased when lag_3 was removed."
   ]
  },
  {
   "cell_type": "markdown",
   "metadata": {},
   "source": [
    "# ARIMA Model"
   ]
  },
  {
   "cell_type": "code",
   "execution_count": null,
   "metadata": {
    "scrolled": false
   },
   "outputs": [],
   "source": [
    "acf_pacf(weekly_df['total_individuals_in_shelter'], 80)"
   ]
  },
  {
   "cell_type": "markdown",
   "metadata": {},
   "source": [
    "### Decide what 'order (p, d, q)' for the model\n",
    "`p` (AR: AutoRegression)\n",
    "- In the PACF plot, there is a sharp cut-off in lag 3.\n",
    "- lag 1 value is positive.                  \n",
    "--> p-value is a lag right before the cut-off. **p=1**"
   ]
  },
  {
   "cell_type": "markdown",
   "metadata": {},
   "source": [
    "`d` (I: Integration)\n",
    "- By differencing the data once, p-value went below 0.05, which indicates that the data is stationary. --> **d=1**"
   ]
  },
  {
   "cell_type": "code",
   "execution_count": null,
   "metadata": {
    "scrolled": false
   },
   "outputs": [],
   "source": [
    "adf(weekly_df['total_individuals_in_shelter'].dropna())"
   ]
  },
  {
   "cell_type": "code",
   "execution_count": null,
   "metadata": {},
   "outputs": [],
   "source": [
    "adf(weekly_df['total_individuals_in_shelter'].diff(1).dropna())"
   ]
  },
  {
   "cell_type": "markdown",
   "metadata": {},
   "source": [
    "`q` (MA: Moving Average)\n",
    "- In ACF plot, no sharp cut-off was observed.\n",
    "--> **q=0**\n",
    "\n",
    "---\n",
    "\n",
    "> `order = (1,1,0)` was selected."
   ]
  },
  {
   "cell_type": "code",
   "execution_count": null,
   "metadata": {},
   "outputs": [],
   "source": [
    "train, test = train_test_split(weekly_df['total_individuals_in_shelter'],\n",
    "                               test_size = 0.25,\n",
    "                               shuffle = False)"
   ]
  },
  {
   "cell_type": "code",
   "execution_count": null,
   "metadata": {},
   "outputs": [],
   "source": [
    "# Instantiate model\n",
    "model = ARIMA(endog = train.dropna(), # endog = Y variable\n",
    "              order = (1, 1, 0) ) # (p, d, q) \n",
    "\n",
    "# Fit model\n",
    "arima_1_1_0 = model.fit()"
   ]
  },
  {
   "cell_type": "code",
   "execution_count": null,
   "metadata": {},
   "outputs": [],
   "source": [
    "# Generate prediction\n",
    "preds_test = model.predict(params=arima_1_1_0.params,\n",
    "                           start=test.index[0],\n",
    "                           end=test.index[-1])\n",
    "\n",
    "preds_train = model.predict(params=arima_1_1_0.params,\n",
    "                            start=train.index[1], # Start at 1, instead of 0 becuase diff = 1\n",
    "                            end=train.index[-1])"
   ]
  },
  {
   "cell_type": "code",
   "execution_count": null,
   "metadata": {},
   "outputs": [],
   "source": [
    "resids_test = list(test.diff(1).dropna() - preds_test[1:])\n",
    "resids_train = list(train.diff(1).dropna() - preds_train)"
   ]
  },
  {
   "cell_type": "markdown",
   "metadata": {},
   "source": [
    "### Analysis\n",
    "1. Predicted Weekly Difference \n",
    "2. Predicted Total Individuals in Shelter\n",
    "---\n",
    "- As diff = 1, the predictions are weekly difference, not the number of total individuals. I calculated the predicted number of total individuals from the predicted weekly difference."
   ]
  },
  {
   "cell_type": "markdown",
   "metadata": {},
   "source": [
    "#### 1. Predicted Weekly Difference"
   ]
  },
  {
   "cell_type": "code",
   "execution_count": null,
   "metadata": {},
   "outputs": [],
   "source": [
    "plt.figure(figsize = (12,5))\n",
    "plt.scatter(train.index[1:], resids_train)\n",
    "plt.scatter(test.index[1:], resids_test)\n",
    "plt.title('Residuals')\n",
    "plt.axhline(0, color='red')\n",
    "\n",
    "{\"mean square error\": sum(np.square(resids_test)) / len(resids_test)}"
   ]
  },
  {
   "cell_type": "code",
   "execution_count": null,
   "metadata": {},
   "outputs": [],
   "source": [
    "evaluate(test[1:], resids_test)"
   ]
  },
  {
   "cell_type": "code",
   "execution_count": null,
   "metadata": {},
   "outputs": [],
   "source": [
    "# Let's plot our predictions! \n",
    "\n",
    "# Set figure size.\n",
    "plt.figure(figsize=(20,10))\n",
    "\n",
    "# Plot training data.\n",
    "plt.plot(train.index[1:], train.diff(1).dropna().values, color = 'blue')\n",
    "\n",
    "# Plot testing data.\n",
    "plt.plot(test.index[1:], test.diff(1).dropna().values, color = 'red', label = 'actual value')\n",
    "\n",
    "# Plot predicted test values.\n",
    "plt.plot(test.index, preds_test, color = 'darkgreen', label = 'predited value')\n",
    "\n",
    "# Set label.\n",
    "plt.title(label = 'Forecasting (diff = 1)', fontsize=24)\n",
    "plt.legend(fontsize = 20)\n",
    "\n",
    "# Resize tick marks.\n",
    "plt.xticks(fontsize=20)\n",
    "plt.yticks(fontsize=20);"
   ]
  },
  {
   "cell_type": "markdown",
   "metadata": {},
   "source": [
    "#### 2. Predicted Total Individuals in Shelter"
   ]
  },
  {
   "cell_type": "code",
   "execution_count": null,
   "metadata": {},
   "outputs": [],
   "source": [
    "preds_test_index = [train.index[-1]] + list(test.index[1:])\n",
    "preds_test_original_index = [train.index[-1]] + list(test.index)\n",
    "preds_test_original = np.cumsum([train[-1]] + list(preds_test))\n",
    "resids_test_original = list([train[-1]] + list(test) - preds_test_original)"
   ]
  },
  {
   "cell_type": "code",
   "execution_count": null,
   "metadata": {},
   "outputs": [],
   "source": [
    "plt.figure(figsize = (12,5))\n",
    "plt.scatter(train.index[1:], resids_train)\n",
    "plt.scatter(preds_test_original_index, resids_test_original)\n",
    "plt.title('Residuals')\n",
    "plt.axhline(0, color='red')\n",
    "{\"mean square error\": sum(np.square(resids_test)) / len(resids_test)}"
   ]
  },
  {
   "cell_type": "code",
   "execution_count": null,
   "metadata": {
    "scrolled": true
   },
   "outputs": [],
   "source": [
    "evaluate(weekly_df.iloc[len(train.index)-1:,:], resids_test_original)"
   ]
  },
  {
   "cell_type": "code",
   "execution_count": null,
   "metadata": {
    "scrolled": false
   },
   "outputs": [],
   "source": [
    "# Let's plot our predictions! \n",
    "\n",
    "# Set figure size.\n",
    "plt.figure(figsize=(20,10))\n",
    "\n",
    "# Plot training data.\n",
    "plt.plot(train.index, train.values, color = 'blue')\n",
    "\n",
    "# Plot testing data.\n",
    "plt.plot(test.index, test.values, color = 'red', label = 'actual value')\n",
    "\n",
    "# Plot predicted test values.\n",
    "plt.plot(weekly_df.index[len(train.index)-1:], np.cumsum([train[-1]] + list(preds_test)), color = 'darkgreen', label = 'predited value')\n",
    "\n",
    "# Set label.\n",
    "plt.title(label = 'Forecasting', fontsize=24)\n",
    "plt.legend(fontsize = 20)\n",
    "\n",
    "# Resize tick marks.\n",
    "plt.xticks(fontsize=20)\n",
    "plt.yticks(fontsize=20);"
   ]
  },
  {
   "cell_type": "markdown",
   "metadata": {},
   "source": [
    "# SARIMA Model"
   ]
  },
  {
   "cell_type": "markdown",
   "metadata": {},
   "source": [
    "- In seasonal_decompose plot, there seems to be seasonality. This was now indicated in PACF plot.\n",
    "- However, when stationarity was achieved by differencing the data once, ACF and PACF curve indicate a sign of seasonality.\n",
    "- Therefore, **Try SARIMA model**"
   ]
  },
  {
   "cell_type": "markdown",
   "metadata": {},
   "source": [
    "### ACF, PACF plot (diff = 1)\n",
    "- Shows a sign of seasonality"
   ]
  },
  {
   "cell_type": "code",
   "execution_count": null,
   "metadata": {},
   "outputs": [],
   "source": [
    "acf_pacf(weekly_df['total_individuals_in_shelter'].diff(1).dropna(), 100)"
   ]
  },
  {
   "cell_type": "markdown",
   "metadata": {},
   "source": [
    "### Seasonal Decompose plot (diff = 0)\n",
    "- Shows a sign of seasonality"
   ]
  },
  {
   "cell_type": "code",
   "execution_count": null,
   "metadata": {},
   "outputs": [],
   "source": [
    "decomp = seasonal_decompose(weekly_df['total_individuals_in_shelter'].dropna())\n",
    "decomp.plot();"
   ]
  },
  {
   "cell_type": "markdown",
   "metadata": {},
   "source": [
    "### Seasonal Decompose plot (diff = 1)\n",
    "- Shows a sign of seasonality"
   ]
  },
  {
   "cell_type": "code",
   "execution_count": null,
   "metadata": {},
   "outputs": [],
   "source": [
    "decomp = seasonal_decompose(weekly_df['total_individuals_in_shelter'].diff(1).dropna())\n",
    "decomp.plot();"
   ]
  },
  {
   "cell_type": "markdown",
   "metadata": {},
   "source": [
    "### Preliminary SARIMA\n",
    "- There seems to be a seasonality every 52 weeks (1 year).\n",
    "- Try `(P,D,Q,S)` = (0, 1, 0, 52)"
   ]
  },
  {
   "cell_type": "code",
   "execution_count": null,
   "metadata": {},
   "outputs": [],
   "source": [
    "# Fit a SARIMA(0, 1, 0) x (0, 1, 0, 52) model.\n",
    "\n",
    "sarima = SARIMAX(endog = train,\n",
    "                 order = (0, 1, 0),              # (p, d, q)\n",
    "                 seasonal_order = (0, 1, 0, 52) ) # (P, D, Q, S)\n",
    "\n",
    "# Fit SARIMA model.\n",
    "model = sarima.fit()\n",
    "\n",
    "# Generate predictions based on test set.\n",
    "preds = model.predict(start=test.index[0], # X_test data range\n",
    "                      end=test.index[-1])\n",
    "# Evaluate predictions.\n",
    "print(mean_squared_error(test, preds))\n",
    "\n",
    "# Plot data.\n",
    "plt.figure(figsize=(10,6))\n",
    "plt.plot(train, color = 'blue', label = 'train')\n",
    "plt.plot(test, color = 'orange', label = 'test')\n",
    "plt.plot(preds, color = 'green', label = 'prediction')\n",
    "plt.title(label = 'SARIMA(1, 1, 0) x (1, 0, 0, 52) Predictions', fontsize=16)\n",
    "plt.legend(fontsize = 20)\n",
    "plt.show();"
   ]
  },
  {
   "cell_type": "code",
   "execution_count": null,
   "metadata": {},
   "outputs": [],
   "source": [
    "preds_train = model.predict(start=train.index[0], # X_test data range\n",
    "                            end=train.index[-1])"
   ]
  },
  {
   "cell_type": "code",
   "execution_count": null,
   "metadata": {},
   "outputs": [],
   "source": [
    "resids_train = list(train - preds_train)\n",
    "\n",
    "resids_test = list(test - preds)"
   ]
  },
  {
   "cell_type": "code",
   "execution_count": null,
   "metadata": {},
   "outputs": [],
   "source": [
    "plt.figure(figsize = (12,5))\n",
    "# plt.scatter(train.index[1:], resids_train[1:])\n",
    "plt.scatter(test.index, resids_test)\n",
    "plt.title('Residuals')\n",
    "plt.axhline(0, color='red')\n",
    "\n",
    "{\"mean square error\": sum(np.square(resids_test)) / len(resids_test)}"
   ]
  },
  {
   "cell_type": "markdown",
   "metadata": {},
   "source": [
    "### Manual GridSearch\n",
    "- Use grid search to find `seaonal_order`"
   ]
  },
  {
   "cell_type": "code",
   "execution_count": null,
   "metadata": {},
   "outputs": [],
   "source": [
    "# Starting MSE and (P, D, Q, S).\n",
    "best_mse = 99 * (10 ** 16)\n",
    "final_P = 0\n",
    "final_D = 0\n",
    "final_Q = 0\n",
    "final_S = 0\n",
    "\n",
    "for P in range(3):\n",
    "    for Q in range(3):\n",
    "        for D in range(3):\n",
    "            for S in range(0,52,int(52/3)):\n",
    "                try:\n",
    "                    print(f'Attempting to fit SARIMAX(0,1,0)x({P},{D},{Q},{S})')\n",
    "                    # Instantiate SARIMAX model.\n",
    "                    sarimax = SARIMAX(endog = train,\n",
    "                                      order = (0, 1, 0),              # (p, d, q)\n",
    "                                      seasonal_order = (P, D, Q, S))  # (P, D, Q, S) \n",
    "                    # Fit SARIMAX model.\n",
    "                    model = sarimax.fit()\n",
    "\n",
    "                    # Generate predictions based on test set.\n",
    "                    preds = model.predict(start=test.index[0], # X_test data range\n",
    "                                          end=test.index[-1])\n",
    "\n",
    "                    # Evaluate predictions.\n",
    "                    print(f'The MSE for (0, 2, 1)x({P},{D},{Q},{S}) is: {mean_squared_error(test, preds)}')\n",
    "\n",
    "                    # Save for final report.\n",
    "                    if best_mse > mean_squared_error(test, preds):\n",
    "                        best_mse = mean_squared_error(test, preds)\n",
    "                        final_P = P\n",
    "                        final_D = D\n",
    "                        final_Q = Q\n",
    "                        final_S = S\n",
    "\n",
    "                except:\n",
    "                    pass\n",
    "\n",
    "print(f'Our model that minimizes MSE on the testing data is the SARIMAX(0, 1, 0)x({final_P},{final_D},{final_Q},{final_S}).')\n",
    "print(f'This model has an MSE of {best_mse}.')"
   ]
  },
  {
   "cell_type": "code",
   "execution_count": null,
   "metadata": {},
   "outputs": [],
   "source": [
    "# Starting MSE and (P, D, Q, S).\n",
    "best_mse = 99 * (10 ** 16)\n",
    "final_P = 0\n",
    "final_D = 0\n",
    "final_Q = 0\n",
    "final_S = 0\n",
    "\n",
    "for P in range(3):\n",
    "    for Q in range(3):\n",
    "        for D in range(3):\n",
    "            for S in [3, 4, 51, 52]: \n",
    "                # testing monthly seasonality with 3,4\n",
    "                # testing yearly seaonailty with 51, 52\n",
    "                try:\n",
    "                    print(f'Attempting to fit SARIMAX(0,1,0)x({P},{D},{Q},{S})')\n",
    "                    # Instantiate SARIMAX model.\n",
    "                    sarimax = SARIMAX(endog = train,\n",
    "                                      order = (0, 1, 0),              # (p, d, q)\n",
    "                                      seasonal_order = (P, D, Q, S))  # (P, D, Q, S) \n",
    "                    # Fit SARIMAX model.\n",
    "                    model = sarimax.fit()\n",
    "\n",
    "                    # Generate predictions based on test set.\n",
    "                    preds = model.predict(start=test.index[0], # X_test data range\n",
    "                                          end=test.index[-1])\n",
    "\n",
    "                    # Evaluate predictions.\n",
    "                    print(f'The MSE for (0, 1, 0)x({P},{D},{Q},{S}) is: {mean_squared_error(test, preds)}')\n",
    "\n",
    "                    # Save for final report.\n",
    "                    if best_mse > mean_squared_error(test, preds):\n",
    "                        best_mse = mean_squared_error(test, preds)\n",
    "                        final_P = P\n",
    "                        final_D = D\n",
    "                        final_Q = Q\n",
    "                        final_S = S\n",
    "\n",
    "                except:\n",
    "                    pass\n",
    "\n",
    "print(f'Our model that minimizes MSE on the testing data is the SARIMAX(0, 1, 0)x({final_P},{final_D},{final_Q},{final_S}).')\n",
    "print(f'This model has an MSE of {best_mse}.')"
   ]
  },
  {
   "cell_type": "markdown",
   "metadata": {},
   "source": [
    "Both gridsearch indicates that **SARIMAX(0, 2, 1)x(2,2,0,51)** minimizes MSE."
   ]
  },
  {
   "cell_type": "code",
   "execution_count": null,
   "metadata": {},
   "outputs": [],
   "source": [
    "# Fit a SARIMA(0, 1, 0) x (2, 2, 0, 51) model.\n",
    "\n",
    "sarima = SARIMAX(endog = train,\n",
    "                 order = (0, 1, 0),              # (p, d, q)\n",
    "                 seasonal_order = (2, 2, 0, 52) ) # (P, D, Q, S)\n",
    "\n",
    "# Fit SARIMA model.\n",
    "model = sarima.fit()\n",
    "\n",
    "# Generate predictions based on test set.\n",
    "preds = model.predict(start=test.index[0], # X_test data range\n",
    "                      end=test.index[-1])\n",
    "# Evaluate predictions.\n",
    "print(mean_squared_error(test, preds))\n",
    "\n",
    "# Plot data.\n",
    "plt.figure(figsize=(10,6))\n",
    "plt.plot(train, color = 'blue', label = 'train')\n",
    "plt.plot(test, color = 'orange', label = 'test')\n",
    "plt.plot(preds, color = 'green', label = 'prediction')\n",
    "plt.title(label = 'SARIMA(1, 1, 0) x (2, 2, 0, 52) Predictions', fontsize=16)\n",
    "plt.legend(fontsize = 20)\n",
    "plt.show();"
   ]
  },
  {
   "cell_type": "code",
   "execution_count": null,
   "metadata": {},
   "outputs": [],
   "source": [
    "resids = list(test - preds)"
   ]
  },
  {
   "cell_type": "code",
   "execution_count": null,
   "metadata": {
    "scrolled": true
   },
   "outputs": [],
   "source": [
    "evaluate(test, resids)"
   ]
  }
 ],
 "metadata": {
  "kernelspec": {
   "display_name": "Python 3",
   "language": "python",
   "name": "python3"
  },
  "language_info": {
   "codemirror_mode": {
    "name": "ipython",
    "version": 3
   },
   "file_extension": ".py",
   "mimetype": "text/x-python",
   "name": "python",
   "nbconvert_exporter": "python",
   "pygments_lexer": "ipython3",
   "version": "3.6.9"
  }
 },
 "nbformat": 4,
 "nbformat_minor": 2
}
