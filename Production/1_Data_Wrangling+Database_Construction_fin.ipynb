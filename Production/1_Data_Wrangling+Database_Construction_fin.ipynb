{
 "cells": [
  {
   "cell_type": "markdown",
   "metadata": {},
   "source": [
    "# Imports"
   ]
  },
  {
   "cell_type": "code",
   "execution_count": 2,
   "metadata": {},
   "outputs": [],
   "source": [
    "import json\n",
    "import pandas as pd\n",
    "import numpy as np\n",
    "import sqlalchemy as db\n",
    "import statsmodels.api as sm\n",
    "\n",
    "from sodapy import Socrata\n",
    "\n",
    "from pandas.plotting import register_matplotlib_converters\n",
    "register_matplotlib_converters()"
   ]
  },
  {
   "cell_type": "markdown",
   "metadata": {},
   "source": [
    "# Data Scraping\n",
    "\n",
    "### Data: DHS Daily Report\n",
    "- Source: https://data.cityofnewyork.us/Social-Services/DHS-Daily-Report/k46n-sa2m\n",
    "\n",
    "This dataset includes the daily number of individuals residing in the Department of Homeless Services (DHS) shelter system and the daily number of families applying to the DHS shelter system.\n",
    "\n",
    "---\n",
    "\n",
    "### 1. Authorization\n",
    "\n",
    "- **Step 1** Save your credential as following in a json file\n",
    "\n",
    "```\n",
    "{'app_token': 'Enter your app token here'}```\n",
    "\n",
    "- **Step 2** Name the json file \"creds.json\" and save it in the directory this jupyter notebook is located."
   ]
  },
  {
   "cell_type": "code",
   "execution_count": 3,
   "metadata": {},
   "outputs": [],
   "source": [
    "# Read \"creds.json\"\n",
    "creds_file = open('./creds.json', 'r')\n",
    "socrata_creds = json.loads(creds_file.read())"
   ]
  },
  {
   "cell_type": "code",
   "execution_count": 4,
   "metadata": {},
   "outputs": [],
   "source": [
    "# Sign in using your app token\n",
    "client = Socrata(\"data.cityofnewyork.us\", socrata_creds['app_token'])"
   ]
  },
  {
   "cell_type": "markdown",
   "metadata": {},
   "source": [
    "### 2. Return the dataset as Pandas Dataframe\n",
    "Use Socrata Open Data API (SODA) to return the dataset as dictionary and convert it into Pandas Dataframe.\n",
    "SODA provides programmatic access to NYC OpenData datasets.\n",
    "- Source: https://dev.socrata.com/foundry/data.cityofnewyork.us/k46n-sa2m"
   ]
  },
  {
   "cell_type": "code",
   "execution_count": 5,
   "metadata": {},
   "outputs": [],
   "source": [
    "# Get the DHS Daily Report dataset using \"Dataset Identifier\"\n",
    "results = client.get(\"k46n-sa2m\", limit = 10_000);\n",
    "\n",
    "# Convert to pandas DataFrame\n",
    "daily_df = pd.DataFrame.from_records(results);"
   ]
  },
  {
   "cell_type": "markdown",
   "metadata": {},
   "source": [
    "# Data Wrangling"
   ]
  },
  {
   "cell_type": "code",
   "execution_count": 6,
   "metadata": {
    "scrolled": false
   },
   "outputs": [
    {
     "name": "stdout",
     "output_type": "stream",
     "text": [
      "<class 'pandas.core.frame.DataFrame'>\n",
      "RangeIndex: 2230 entries, 0 to 2229\n",
      "Data columns (total 13 columns):\n",
      "date_of_census                                             2230 non-null object\n",
      "total_adults_in_shelter                                    2230 non-null object\n",
      "total_children_in_shelter                                  2230 non-null object\n",
      "total_individuals_in_shelter                               2230 non-null object\n",
      "single_adult_men_in_shelter                                2230 non-null object\n",
      "single_adult_women_in_shelter                              2230 non-null object\n",
      "total_single_adults_in_shelter                             2230 non-null object\n",
      "families_with_children_in_shelter                          2230 non-null object\n",
      "adults_in_families_with_children_in_shelter                2230 non-null object\n",
      "children_in_families_with_children_in_shelter              2230 non-null object\n",
      "total_individuals_in_families_with_children_in_shelter_    2230 non-null object\n",
      "adult_families_in_shelter                                  2230 non-null object\n",
      "individuals_in_adult_families_in_shelter                   2230 non-null object\n",
      "dtypes: object(13)\n",
      "memory usage: 226.6+ KB\n"
     ]
    }
   ],
   "source": [
    "daily_df.info()"
   ]
  },
  {
   "cell_type": "markdown",
   "metadata": {},
   "source": [
    "- The type of all columns is 'object'. Convert `date_of_census` column type to datetime and rest of the columns type to numerical in order to make timeseries analysis easier.\n",
    "- No null value observed."
   ]
  },
  {
   "cell_type": "code",
   "execution_count": 7,
   "metadata": {},
   "outputs": [],
   "source": [
    "# Convert `data_of_census` column type to datetime and set the column as index.\n",
    "daily_df['date_of_census'] = daily_df['date_of_census'].apply(lambda x: x.split('T')[0])\n",
    "daily_df.index = pd.to_datetime(daily_df['date_of_census'], format = \"%Y/%m/%d\")\n",
    "daily_df = daily_df.drop('date_of_census', axis = 1)"
   ]
  },
  {
   "cell_type": "code",
   "execution_count": 8,
   "metadata": {},
   "outputs": [],
   "source": [
    "# Convert the type of all columns to numeric\n",
    "daily_df = daily_df.apply(pd.to_numeric)"
   ]
  },
  {
   "cell_type": "code",
   "execution_count": 9,
   "metadata": {},
   "outputs": [
    {
     "name": "stdout",
     "output_type": "stream",
     "text": [
      "<class 'pandas.core.frame.DataFrame'>\n",
      "DatetimeIndex: 2230 entries, 2019-11-30 to 2013-08-21\n",
      "Data columns (total 12 columns):\n",
      "total_adults_in_shelter                                    2230 non-null int64\n",
      "total_children_in_shelter                                  2230 non-null int64\n",
      "total_individuals_in_shelter                               2230 non-null int64\n",
      "single_adult_men_in_shelter                                2230 non-null int64\n",
      "single_adult_women_in_shelter                              2230 non-null int64\n",
      "total_single_adults_in_shelter                             2230 non-null int64\n",
      "families_with_children_in_shelter                          2230 non-null int64\n",
      "adults_in_families_with_children_in_shelter                2230 non-null int64\n",
      "children_in_families_with_children_in_shelter              2230 non-null int64\n",
      "total_individuals_in_families_with_children_in_shelter_    2230 non-null int64\n",
      "adult_families_in_shelter                                  2230 non-null int64\n",
      "individuals_in_adult_families_in_shelter                   2230 non-null int64\n",
      "dtypes: int64(12)\n",
      "memory usage: 226.5 KB\n"
     ]
    }
   ],
   "source": [
    "# Check and see the data cleaning is correctly executed.\n",
    "daily_df.info()"
   ]
  },
  {
   "cell_type": "markdown",
   "metadata": {},
   "source": [
    "- The index of the dataset is now 'DatetimeIndex' and all columns are numeric.\n",
    "- No null vlaue\n",
    "\n",
    "---"
   ]
  },
  {
   "cell_type": "code",
   "execution_count": 10,
   "metadata": {
    "scrolled": true
   },
   "outputs": [
    {
     "data": {
      "text/plain": [
       "(2230, 12)"
      ]
     },
     "execution_count": 10,
     "metadata": {},
     "output_type": "execute_result"
    }
   ],
   "source": [
    "daily_df.shape"
   ]
  },
  {
   "cell_type": "code",
   "execution_count": 11,
   "metadata": {
    "scrolled": false
   },
   "outputs": [
    {
     "data": {
      "text/plain": [
       "(2293, 12)"
      ]
     },
     "execution_count": 11,
     "metadata": {},
     "output_type": "execute_result"
    }
   ],
   "source": [
    "daily_df.resample('D').mean().shape"
   ]
  },
  {
   "cell_type": "code",
   "execution_count": 12,
   "metadata": {},
   "outputs": [
    {
     "data": {
      "text/plain": [
       "total_adults_in_shelter                                    63\n",
       "total_children_in_shelter                                  63\n",
       "total_individuals_in_shelter                               63\n",
       "single_adult_men_in_shelter                                63\n",
       "single_adult_women_in_shelter                              63\n",
       "total_single_adults_in_shelter                             63\n",
       "families_with_children_in_shelter                          63\n",
       "adults_in_families_with_children_in_shelter                63\n",
       "children_in_families_with_children_in_shelter              63\n",
       "total_individuals_in_families_with_children_in_shelter_    63\n",
       "adult_families_in_shelter                                  63\n",
       "individuals_in_adult_families_in_shelter                   63\n",
       "dtype: int64"
      ]
     },
     "execution_count": 12,
     "metadata": {},
     "output_type": "execute_result"
    }
   ],
   "source": [
    "daily_df.resample('D').mean().isnull().sum()"
   ]
  },
  {
   "cell_type": "markdown",
   "metadata": {},
   "source": [
    "When resampled by day ('D'), some rows are created. This indicates that some missing days exist and the missing days were filled in with null values. Resample by weekly average to avoid having any missing days."
   ]
  },
  {
   "cell_type": "code",
   "execution_count": 13,
   "metadata": {},
   "outputs": [
    {
     "data": {
      "text/plain": [
       "(328, 12)"
      ]
     },
     "execution_count": 13,
     "metadata": {},
     "output_type": "execute_result"
    }
   ],
   "source": [
    "daily_df.resample('W').mean().shape"
   ]
  },
  {
   "cell_type": "code",
   "execution_count": 14,
   "metadata": {},
   "outputs": [
    {
     "data": {
      "text/plain": [
       "total_adults_in_shelter                                    0\n",
       "total_children_in_shelter                                  0\n",
       "total_individuals_in_shelter                               0\n",
       "single_adult_men_in_shelter                                0\n",
       "single_adult_women_in_shelter                              0\n",
       "total_single_adults_in_shelter                             0\n",
       "families_with_children_in_shelter                          0\n",
       "adults_in_families_with_children_in_shelter                0\n",
       "children_in_families_with_children_in_shelter              0\n",
       "total_individuals_in_families_with_children_in_shelter_    0\n",
       "adult_families_in_shelter                                  0\n",
       "individuals_in_adult_families_in_shelter                   0\n",
       "dtype: int64"
      ]
     },
     "execution_count": 14,
     "metadata": {},
     "output_type": "execute_result"
    }
   ],
   "source": [
    "daily_df.resample('W').mean().isnull().sum()"
   ]
  },
  {
   "cell_type": "code",
   "execution_count": 154,
   "metadata": {},
   "outputs": [],
   "source": [
    "weekly_df = daily_df.resample('W').mean().sort_index(ascending=False)"
   ]
  },
  {
   "cell_type": "code",
   "execution_count": 155,
   "metadata": {},
   "outputs": [
    {
     "data": {
      "text/html": [
       "<div>\n",
       "<style scoped>\n",
       "    .dataframe tbody tr th:only-of-type {\n",
       "        vertical-align: middle;\n",
       "    }\n",
       "\n",
       "    .dataframe tbody tr th {\n",
       "        vertical-align: top;\n",
       "    }\n",
       "\n",
       "    .dataframe thead th {\n",
       "        text-align: right;\n",
       "    }\n",
       "</style>\n",
       "<table border=\"1\" class=\"dataframe\">\n",
       "  <thead>\n",
       "    <tr style=\"text-align: right;\">\n",
       "      <th></th>\n",
       "      <th>total_adults_in_shelter</th>\n",
       "      <th>total_children_in_shelter</th>\n",
       "      <th>total_individuals_in_shelter</th>\n",
       "      <th>single_adult_men_in_shelter</th>\n",
       "      <th>single_adult_women_in_shelter</th>\n",
       "      <th>total_single_adults_in_shelter</th>\n",
       "      <th>families_with_children_in_shelter</th>\n",
       "      <th>adults_in_families_with_children_in_shelter</th>\n",
       "      <th>children_in_families_with_children_in_shelter</th>\n",
       "      <th>total_individuals_in_families_with_children_in_shelter_</th>\n",
       "      <th>adult_families_in_shelter</th>\n",
       "      <th>individuals_in_adult_families_in_shelter</th>\n",
       "    </tr>\n",
       "    <tr>\n",
       "      <th>date_of_census</th>\n",
       "      <th></th>\n",
       "      <th></th>\n",
       "      <th></th>\n",
       "      <th></th>\n",
       "      <th></th>\n",
       "      <th></th>\n",
       "      <th></th>\n",
       "      <th></th>\n",
       "      <th></th>\n",
       "      <th></th>\n",
       "      <th></th>\n",
       "      <th></th>\n",
       "    </tr>\n",
       "  </thead>\n",
       "  <tbody>\n",
       "    <tr>\n",
       "      <th>2019-12-01</th>\n",
       "      <td>38273.166667</td>\n",
       "      <td>21709.333333</td>\n",
       "      <td>59982.500000</td>\n",
       "      <td>12128.833333</td>\n",
       "      <td>4590.500000</td>\n",
       "      <td>16719.333333</td>\n",
       "      <td>12195.166667</td>\n",
       "      <td>16308.500000</td>\n",
       "      <td>21709.333333</td>\n",
       "      <td>38017.833333</td>\n",
       "      <td>2492.333333</td>\n",
       "      <td>5245.333333</td>\n",
       "    </tr>\n",
       "    <tr>\n",
       "      <th>2019-11-24</th>\n",
       "      <td>38490.571429</td>\n",
       "      <td>21801.571429</td>\n",
       "      <td>60292.142857</td>\n",
       "      <td>12251.142857</td>\n",
       "      <td>4613.428571</td>\n",
       "      <td>16864.571429</td>\n",
       "      <td>12230.142857</td>\n",
       "      <td>16361.857143</td>\n",
       "      <td>21801.571429</td>\n",
       "      <td>38163.428571</td>\n",
       "      <td>2499.714286</td>\n",
       "      <td>5264.142857</td>\n",
       "    </tr>\n",
       "    <tr>\n",
       "      <th>2019-11-17</th>\n",
       "      <td>38533.142857</td>\n",
       "      <td>21885.857143</td>\n",
       "      <td>60419.000000</td>\n",
       "      <td>12178.285714</td>\n",
       "      <td>4616.142857</td>\n",
       "      <td>16794.428571</td>\n",
       "      <td>12265.142857</td>\n",
       "      <td>16425.428571</td>\n",
       "      <td>21885.857143</td>\n",
       "      <td>38311.285714</td>\n",
       "      <td>2523.571429</td>\n",
       "      <td>5313.285714</td>\n",
       "    </tr>\n",
       "    <tr>\n",
       "      <th>2019-11-10</th>\n",
       "      <td>38291.857143</td>\n",
       "      <td>21797.285714</td>\n",
       "      <td>60089.142857</td>\n",
       "      <td>12072.285714</td>\n",
       "      <td>4551.428571</td>\n",
       "      <td>16623.714286</td>\n",
       "      <td>12213.857143</td>\n",
       "      <td>16347.571429</td>\n",
       "      <td>21797.285714</td>\n",
       "      <td>38144.857143</td>\n",
       "      <td>2523.571429</td>\n",
       "      <td>5320.571429</td>\n",
       "    </tr>\n",
       "    <tr>\n",
       "      <th>2019-11-03</th>\n",
       "      <td>38242.000000</td>\n",
       "      <td>21747.142857</td>\n",
       "      <td>59989.142857</td>\n",
       "      <td>12013.714286</td>\n",
       "      <td>4556.285714</td>\n",
       "      <td>16570.000000</td>\n",
       "      <td>12205.714286</td>\n",
       "      <td>16342.142857</td>\n",
       "      <td>21747.142857</td>\n",
       "      <td>38089.285714</td>\n",
       "      <td>2526.428571</td>\n",
       "      <td>5329.857143</td>\n",
       "    </tr>\n",
       "  </tbody>\n",
       "</table>\n",
       "</div>"
      ],
      "text/plain": [
       "                total_adults_in_shelter  total_children_in_shelter  \\\n",
       "date_of_census                                                       \n",
       "2019-12-01                 38273.166667               21709.333333   \n",
       "2019-11-24                 38490.571429               21801.571429   \n",
       "2019-11-17                 38533.142857               21885.857143   \n",
       "2019-11-10                 38291.857143               21797.285714   \n",
       "2019-11-03                 38242.000000               21747.142857   \n",
       "\n",
       "                total_individuals_in_shelter  single_adult_men_in_shelter  \\\n",
       "date_of_census                                                              \n",
       "2019-12-01                      59982.500000                 12128.833333   \n",
       "2019-11-24                      60292.142857                 12251.142857   \n",
       "2019-11-17                      60419.000000                 12178.285714   \n",
       "2019-11-10                      60089.142857                 12072.285714   \n",
       "2019-11-03                      59989.142857                 12013.714286   \n",
       "\n",
       "                single_adult_women_in_shelter  total_single_adults_in_shelter  \\\n",
       "date_of_census                                                                  \n",
       "2019-12-01                        4590.500000                    16719.333333   \n",
       "2019-11-24                        4613.428571                    16864.571429   \n",
       "2019-11-17                        4616.142857                    16794.428571   \n",
       "2019-11-10                        4551.428571                    16623.714286   \n",
       "2019-11-03                        4556.285714                    16570.000000   \n",
       "\n",
       "                families_with_children_in_shelter  \\\n",
       "date_of_census                                      \n",
       "2019-12-01                           12195.166667   \n",
       "2019-11-24                           12230.142857   \n",
       "2019-11-17                           12265.142857   \n",
       "2019-11-10                           12213.857143   \n",
       "2019-11-03                           12205.714286   \n",
       "\n",
       "                adults_in_families_with_children_in_shelter  \\\n",
       "date_of_census                                                \n",
       "2019-12-01                                     16308.500000   \n",
       "2019-11-24                                     16361.857143   \n",
       "2019-11-17                                     16425.428571   \n",
       "2019-11-10                                     16347.571429   \n",
       "2019-11-03                                     16342.142857   \n",
       "\n",
       "                children_in_families_with_children_in_shelter  \\\n",
       "date_of_census                                                  \n",
       "2019-12-01                                       21709.333333   \n",
       "2019-11-24                                       21801.571429   \n",
       "2019-11-17                                       21885.857143   \n",
       "2019-11-10                                       21797.285714   \n",
       "2019-11-03                                       21747.142857   \n",
       "\n",
       "                total_individuals_in_families_with_children_in_shelter_  \\\n",
       "date_of_census                                                            \n",
       "2019-12-01                                           38017.833333         \n",
       "2019-11-24                                           38163.428571         \n",
       "2019-11-17                                           38311.285714         \n",
       "2019-11-10                                           38144.857143         \n",
       "2019-11-03                                           38089.285714         \n",
       "\n",
       "                adult_families_in_shelter  \\\n",
       "date_of_census                              \n",
       "2019-12-01                    2492.333333   \n",
       "2019-11-24                    2499.714286   \n",
       "2019-11-17                    2523.571429   \n",
       "2019-11-10                    2523.571429   \n",
       "2019-11-03                    2526.428571   \n",
       "\n",
       "                individuals_in_adult_families_in_shelter  \n",
       "date_of_census                                            \n",
       "2019-12-01                                   5245.333333  \n",
       "2019-11-24                                   5264.142857  \n",
       "2019-11-17                                   5313.285714  \n",
       "2019-11-10                                   5320.571429  \n",
       "2019-11-03                                   5329.857143  "
      ]
     },
     "execution_count": 155,
     "metadata": {},
     "output_type": "execute_result"
    }
   ],
   "source": [
    "weekly_df.head()"
   ]
  },
  {
   "cell_type": "markdown",
   "metadata": {},
   "source": [
    "# Database Contruction\n",
    "\n",
    "PostgreSQL database was contructed using Heroku.\n",
    "\n",
    "- Source: https://www.heroku.com/postgres\n",
    "\n",
    "---\n",
    "### Sign in\n",
    "\n",
    "- **Step 1** Save your PostgreSQL URL as following in a json file\n",
    "\n",
    "```\n",
    "{\"url\":\"Enter your PostgreSQL URL here\"}\n",
    "```\n",
    "\n",
    "- **Step 2** Name the json file \"database_creds.json\" and save it in the directory this jupyter notebook is located."
   ]
  },
  {
   "cell_type": "code",
   "execution_count": 5,
   "metadata": {},
   "outputs": [],
   "source": [
    "# Load your PostgreSQL credential to `database_creds`\n",
    "database_creds_file = open('./database_cred.json', 'r')\n",
    "database_creds = json.loads(database_creds_file.read())"
   ]
  },
  {
   "cell_type": "code",
   "execution_count": 6,
   "metadata": {},
   "outputs": [],
   "source": [
    "# Sign into your database\n",
    "engine = db.create_engine(database_creds['url'])\n",
    "\n",
    "connection = engine.connect()\n",
    "metadata = db.MetaData()"
   ]
  },
  {
   "cell_type": "markdown",
   "metadata": {},
   "source": [
    "### Create table `ny_dhs_weekly`"
   ]
  },
  {
   "cell_type": "code",
   "execution_count": 160,
   "metadata": {},
   "outputs": [
    {
     "data": {
      "text/plain": [
       "<sqlalchemy.engine.result.ResultProxy at 0x1c1ae23f60>"
      ]
     },
     "execution_count": 160,
     "metadata": {},
     "output_type": "execute_result"
    }
   ],
   "source": [
    "sql = f\"\"\"CREATE TABLE ny_dhs_weekly (date_of_census DATE\"\"\"\n",
    "for col in list(results[0].keys())[1:]:\n",
    "    sql += f\", {col} INT\"\n",
    "sql += \")\"\n",
    "\n",
    "connection.execute(sql)"
   ]
  },
  {
   "cell_type": "markdown",
   "metadata": {},
   "source": [
    "### Insert values in 'weekly_df' dataframe to `ny_dhs_weekly` table "
   ]
  },
  {
   "cell_type": "code",
   "execution_count": 161,
   "metadata": {},
   "outputs": [
    {
     "data": {
      "text/plain": [
       "<sqlalchemy.engine.result.ResultProxy at 0x1c1aed84a8>"
      ]
     },
     "execution_count": 161,
     "metadata": {},
     "output_type": "execute_result"
    }
   ],
   "source": [
    "sql = \"INSERT INTO ny_dhs_weekly VALUES\"\n",
    "for n_row in range(len(weekly_df)):\n",
    "    sql += f\" ('{str(weekly_df.index[n_row].date())}'\"\n",
    "    for n_col in range(len(weekly_df.columns)):\n",
    "        sql += f\", {int(weekly_df.iloc[n_row,n_col])}\"\n",
    "    sql += \"),\"\n",
    "\n",
    "connection.execute(sql[:-1])"
   ]
  },
  {
   "cell_type": "markdown",
   "metadata": {},
   "source": [
    "### Query `ny_dhs_weekly` to see if the database is correctly constructed."
   ]
  },
  {
   "cell_type": "code",
   "execution_count": 7,
   "metadata": {},
   "outputs": [
    {
     "data": {
      "text/plain": [
       "<sqlalchemy.engine.result.ResultProxy at 0x113fb6198>"
      ]
     },
     "execution_count": 7,
     "metadata": {},
     "output_type": "execute_result"
    }
   ],
   "source": [
    "sql = \"\"\"\n",
    "SELECT *\n",
    "FROM ny_dhs_weekly\n",
    "\"\"\"\n",
    "connection.execute(sql)"
   ]
  },
  {
   "cell_type": "code",
   "execution_count": 8,
   "metadata": {
    "scrolled": true
   },
   "outputs": [],
   "source": [
    "database_df = pd.read_sql_query(sql, engine)"
   ]
  },
  {
   "cell_type": "code",
   "execution_count": 9,
   "metadata": {
    "scrolled": false
   },
   "outputs": [
    {
     "data": {
      "text/html": [
       "<div>\n",
       "<style scoped>\n",
       "    .dataframe tbody tr th:only-of-type {\n",
       "        vertical-align: middle;\n",
       "    }\n",
       "\n",
       "    .dataframe tbody tr th {\n",
       "        vertical-align: top;\n",
       "    }\n",
       "\n",
       "    .dataframe thead th {\n",
       "        text-align: right;\n",
       "    }\n",
       "</style>\n",
       "<table border=\"1\" class=\"dataframe\">\n",
       "  <thead>\n",
       "    <tr style=\"text-align: right;\">\n",
       "      <th></th>\n",
       "      <th>date_of_census</th>\n",
       "      <th>total_adults_in_shelter</th>\n",
       "      <th>total_children_in_shelter</th>\n",
       "      <th>total_individuals_in_shelter</th>\n",
       "      <th>single_adult_men_in_shelter</th>\n",
       "      <th>single_adult_women_in_shelter</th>\n",
       "      <th>total_single_adults_in_shelter</th>\n",
       "      <th>families_with_children_in_shelter</th>\n",
       "      <th>adults_in_families_with_children_in_shelter</th>\n",
       "      <th>children_in_families_with_children_in_shelter</th>\n",
       "      <th>total_individuals_in_families_with_children_in_shelter_</th>\n",
       "      <th>adult_families_in_shelter</th>\n",
       "      <th>individuals_in_adult_families_in_shelter</th>\n",
       "    </tr>\n",
       "  </thead>\n",
       "  <tbody>\n",
       "    <tr>\n",
       "      <th>0</th>\n",
       "      <td>2019-12-01</td>\n",
       "      <td>38273</td>\n",
       "      <td>21709</td>\n",
       "      <td>59982</td>\n",
       "      <td>12128</td>\n",
       "      <td>4590</td>\n",
       "      <td>16719</td>\n",
       "      <td>12195</td>\n",
       "      <td>16308</td>\n",
       "      <td>21709</td>\n",
       "      <td>38017</td>\n",
       "      <td>2492</td>\n",
       "      <td>5245</td>\n",
       "    </tr>\n",
       "    <tr>\n",
       "      <th>1</th>\n",
       "      <td>2019-11-24</td>\n",
       "      <td>38490</td>\n",
       "      <td>21801</td>\n",
       "      <td>60292</td>\n",
       "      <td>12251</td>\n",
       "      <td>4613</td>\n",
       "      <td>16864</td>\n",
       "      <td>12230</td>\n",
       "      <td>16361</td>\n",
       "      <td>21801</td>\n",
       "      <td>38163</td>\n",
       "      <td>2499</td>\n",
       "      <td>5264</td>\n",
       "    </tr>\n",
       "    <tr>\n",
       "      <th>2</th>\n",
       "      <td>2019-11-17</td>\n",
       "      <td>38533</td>\n",
       "      <td>21885</td>\n",
       "      <td>60419</td>\n",
       "      <td>12178</td>\n",
       "      <td>4616</td>\n",
       "      <td>16794</td>\n",
       "      <td>12265</td>\n",
       "      <td>16425</td>\n",
       "      <td>21885</td>\n",
       "      <td>38311</td>\n",
       "      <td>2523</td>\n",
       "      <td>5313</td>\n",
       "    </tr>\n",
       "    <tr>\n",
       "      <th>3</th>\n",
       "      <td>2019-11-10</td>\n",
       "      <td>38291</td>\n",
       "      <td>21797</td>\n",
       "      <td>60089</td>\n",
       "      <td>12072</td>\n",
       "      <td>4551</td>\n",
       "      <td>16623</td>\n",
       "      <td>12213</td>\n",
       "      <td>16347</td>\n",
       "      <td>21797</td>\n",
       "      <td>38144</td>\n",
       "      <td>2523</td>\n",
       "      <td>5320</td>\n",
       "    </tr>\n",
       "    <tr>\n",
       "      <th>4</th>\n",
       "      <td>2019-11-03</td>\n",
       "      <td>38242</td>\n",
       "      <td>21747</td>\n",
       "      <td>59989</td>\n",
       "      <td>12013</td>\n",
       "      <td>4556</td>\n",
       "      <td>16570</td>\n",
       "      <td>12205</td>\n",
       "      <td>16342</td>\n",
       "      <td>21747</td>\n",
       "      <td>38089</td>\n",
       "      <td>2526</td>\n",
       "      <td>5329</td>\n",
       "    </tr>\n",
       "  </tbody>\n",
       "</table>\n",
       "</div>"
      ],
      "text/plain": [
       "  date_of_census  total_adults_in_shelter  total_children_in_shelter  \\\n",
       "0     2019-12-01                    38273                      21709   \n",
       "1     2019-11-24                    38490                      21801   \n",
       "2     2019-11-17                    38533                      21885   \n",
       "3     2019-11-10                    38291                      21797   \n",
       "4     2019-11-03                    38242                      21747   \n",
       "\n",
       "   total_individuals_in_shelter  single_adult_men_in_shelter  \\\n",
       "0                         59982                        12128   \n",
       "1                         60292                        12251   \n",
       "2                         60419                        12178   \n",
       "3                         60089                        12072   \n",
       "4                         59989                        12013   \n",
       "\n",
       "   single_adult_women_in_shelter  total_single_adults_in_shelter  \\\n",
       "0                           4590                           16719   \n",
       "1                           4613                           16864   \n",
       "2                           4616                           16794   \n",
       "3                           4551                           16623   \n",
       "4                           4556                           16570   \n",
       "\n",
       "   families_with_children_in_shelter  \\\n",
       "0                              12195   \n",
       "1                              12230   \n",
       "2                              12265   \n",
       "3                              12213   \n",
       "4                              12205   \n",
       "\n",
       "   adults_in_families_with_children_in_shelter  \\\n",
       "0                                        16308   \n",
       "1                                        16361   \n",
       "2                                        16425   \n",
       "3                                        16347   \n",
       "4                                        16342   \n",
       "\n",
       "   children_in_families_with_children_in_shelter  \\\n",
       "0                                          21709   \n",
       "1                                          21801   \n",
       "2                                          21885   \n",
       "3                                          21797   \n",
       "4                                          21747   \n",
       "\n",
       "   total_individuals_in_families_with_children_in_shelter_  \\\n",
       "0                                              38017         \n",
       "1                                              38163         \n",
       "2                                              38311         \n",
       "3                                              38144         \n",
       "4                                              38089         \n",
       "\n",
       "   adult_families_in_shelter  individuals_in_adult_families_in_shelter  \n",
       "0                       2492                                      5245  \n",
       "1                       2499                                      5264  \n",
       "2                       2523                                      5313  \n",
       "3                       2523                                      5320  \n",
       "4                       2526                                      5329  "
      ]
     },
     "execution_count": 9,
     "metadata": {},
     "output_type": "execute_result"
    }
   ],
   "source": [
    "database_df.head()"
   ]
  },
  {
   "cell_type": "code",
   "execution_count": 10,
   "metadata": {
    "scrolled": true
   },
   "outputs": [
    {
     "name": "stdout",
     "output_type": "stream",
     "text": [
      "<class 'pandas.core.frame.DataFrame'>\n",
      "RangeIndex: 328 entries, 0 to 327\n",
      "Data columns (total 13 columns):\n",
      "date_of_census                                             328 non-null object\n",
      "total_adults_in_shelter                                    328 non-null int64\n",
      "total_children_in_shelter                                  328 non-null int64\n",
      "total_individuals_in_shelter                               328 non-null int64\n",
      "single_adult_men_in_shelter                                328 non-null int64\n",
      "single_adult_women_in_shelter                              328 non-null int64\n",
      "total_single_adults_in_shelter                             328 non-null int64\n",
      "families_with_children_in_shelter                          328 non-null int64\n",
      "adults_in_families_with_children_in_shelter                328 non-null int64\n",
      "children_in_families_with_children_in_shelter              328 non-null int64\n",
      "total_individuals_in_families_with_children_in_shelter_    328 non-null int64\n",
      "adult_families_in_shelter                                  328 non-null int64\n",
      "individuals_in_adult_families_in_shelter                   328 non-null int64\n",
      "dtypes: int64(12), object(1)\n",
      "memory usage: 33.4+ KB\n"
     ]
    }
   ],
   "source": [
    "database_df.info()"
   ]
  }
 ],
 "metadata": {
  "kernelspec": {
   "display_name": "Python 3",
   "language": "python",
   "name": "python3"
  },
  "language_info": {
   "codemirror_mode": {
    "name": "ipython",
    "version": 3
   },
   "file_extension": ".py",
   "mimetype": "text/x-python",
   "name": "python",
   "nbconvert_exporter": "python",
   "pygments_lexer": "ipython3",
   "version": "3.6.9"
  }
 },
 "nbformat": 4,
 "nbformat_minor": 2
}
